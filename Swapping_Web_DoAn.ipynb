{
  "nbformat": 4,
  "nbformat_minor": 0,
  "metadata": {
    "colab": {
      "name": "Swapping Web DoAn.ipynb",
      "provenance": [],
      "authorship_tag": "ABX9TyON2IWhc8naqe+qQBeTKm0z",
      "include_colab_link": true
    },
    "kernelspec": {
      "name": "python3",
      "display_name": "Python 3"
    },
    "language_info": {
      "name": "python"
    }
  },
  "cells": [
    {
      "cell_type": "markdown",
      "metadata": {
        "id": "view-in-github",
        "colab_type": "text"
      },
      "source": [
        "<a href=\"https://colab.research.google.com/github/trinhvanypro1/Learning-Python-Advanced/blob/master/Swapping_Web_DoAn.ipynb\" target=\"_parent\"><img src=\"https://colab.research.google.com/assets/colab-badge.svg\" alt=\"Open In Colab\"/></a>"
      ]
    },
    {
      "cell_type": "code",
      "metadata": {
        "id": "_EGfQsdmbPL3"
      },
      "source": [
        "import pandas as pd\n",
        "import numpy as np\n",
        "import matplotlib.pyplot as plt\n",
        "import seaborn as sns\n",
        "%matplotlib inline\n",
        "from urllib.request import urlopen\n",
        "from bs4 import BeautifulSoup"
      ],
      "execution_count": 53,
      "outputs": []
    },
    {
      "cell_type": "code",
      "metadata": {
        "id": "Qbm08ppMbTQD"
      },
      "source": [
        "url='https://biluxury.vn/collections/ao-nam'\n",
        "html=urlopen(url)\n",
        "soup=BeautifulSoup(html,'lxml')"
      ],
      "execution_count": 54,
      "outputs": []
    },
    {
      "cell_type": "code",
      "metadata": {
        "colab": {
          "base_uri": "https://localhost:8080/"
        },
        "id": "i03ZJW2IcaSn",
        "outputId": "5bfc1000-65d8-4848-c3e8-b8b1aae946f1"
      },
      "source": [
        "title=soup.title\n",
        "print(title)"
      ],
      "execution_count": 55,
      "outputs": [
        {
          "output_type": "stream",
          "name": "stdout",
          "text": [
            "<title>\n",
            "\t\t\tÁo nam\n",
            "\t\t</title>\n"
          ]
        }
      ]
    },
    {
      "cell_type": "code",
      "metadata": {
        "id": "pUqhvh4VemMp"
      },
      "source": [
        "list_ao=soup.find_all('div', attrs={'class':'grid-uniform product-list md-mg-left-15 d-flex-wrap'})"
      ],
      "execution_count": 56,
      "outputs": []
    },
    {
      "cell_type": "code",
      "metadata": {
        "id": "cjtD2IyqgunW"
      },
      "source": [
        "for i in list_ao:\n",
        "  sp=i.find_all(['a'])\n",
        "  str_sp=str(sp)\n",
        "  list_sp=[]\n",
        "  import re\n",
        "  clean=re.compile('<.*?>')\n",
        "  clean2=(re.sub(clean, '',str_sp))\n",
        "  list_sp.append(clean2)"
      ],
      "execution_count": 57,
      "outputs": []
    },
    {
      "cell_type": "code",
      "metadata": {
        "colab": {
          "base_uri": "https://localhost:8080/"
        },
        "id": "c2MV7wYRiVZE",
        "outputId": "0dda93e6-55b1-42e7-c521-632374309f58"
      },
      "source": [
        "list_sp"
      ],
      "execution_count": 58,
      "outputs": [
        {
          "output_type": "execute_result",
          "data": {
            "text/plain": [
              "['[\\n\\n\\n\\n\\n\\n\\n\\n\\n, Áo len nam Biluxury 5ALRT001TRK,  Chọn mua, \\n\\n\\n\\n\\n\\n\\n\\n\\n, Áo len nam Biluxury 5ALRT001TTS,  Chọn mua, \\n\\n\\n\\n\\n\\n\\n\\n\\n, Áo len nam Biluxury 5ALRT001DEN,  Chọn mua, \\n\\n\\n\\n\\n\\n\\n\\n\\n, Áo khoác gió 5AG2T004GHS,  Chọn mua, \\n\\n\\n\\n\\n\\n\\n\\n\\n, Áo khoác gió 5AG2T004CAM,  Chọn mua, \\n\\n\\n\\n\\n\\n\\n\\n\\n, Áo khoác gió 5AG2T004DEN,  Chọn mua, \\n\\n\\n\\n\\n\\n\\n\\n\\n, Áo khoác gió 5AG2T007GHS,  Chọn mua, \\n\\n\\n\\n\\n\\n\\n\\n\\n, Áo khoác gió 2 lớp 4AG2H009DEN,  Chọn mua, \\n\\n\\n\\n\\n\\n\\n\\n\\n, Áo khoác gió 5AG2T004TTS,  Chọn mua, \\n\\n\\n\\n\\n\\n\\n\\n\\n, Áo khoác gió 5AG2T009DEN,  Chọn mua, \\n\\n\\n\\n\\n\\n\\n\\n\\n, Áo khoác gió 4AG2T007REU,  Chọn mua, \\n\\n\\n\\n\\n\\n\\n\\n\\n, Áo nỉ thể thao cao cấp 4ANOT008GHT,  Chọn mua, \\n\\n\\n\\n\\n\\n\\n\\n\\n, Áo nỉ thể thao cao cấp 4ANOT012VAB,  Chọn mua, \\n\\n\\n\\n\\n\\n\\n\\n\\n, Áo vest nam Biluxury 5AVBC007DEN,  Chọn mua, \\n\\n\\n\\n\\n\\n\\n\\n\\n, Áo vest nam Biluxury 5AVBC008DEN,  Chọn mua, \\n\\n\\n\\n\\n\\n\\n\\n\\n, Áo len nam Biluxury 5ALRH002TTS,  Chọn mua, \\n\\n\\n\\n\\n\\n\\n\\n\\n, Áo len nam Biluxury 5ALRH001GHS,  Chọn mua, \\n\\n\\n\\n\\n\\n\\n\\n\\n, Áo khoác gió 5AG2T007TTT,  Chọn mua, \\n\\n\\n\\n\\n\\n\\n\\n\\n, Áo khoác gió 5AG2T009XAH,  Chọn mua, \\n\\n\\n\\n\\n\\n\\n\\n\\n, Áo Thun giữ nhiệt Biluxury 5ATOB001XDM,  Chọn mua, \\n\\n\\n\\n\\n\\n\\n\\n\\n, Áo Thun giữ nhiệt Biluxury 5ATOB001TTT,  Chọn mua, \\n\\n\\n\\n\\n\\n\\n\\n\\n, Áo Thun giữ nhiệt Biluxury 5ATOB001TRK,  Chọn mua, \\n\\n\\n\\n\\n\\n\\n\\n\\n, Áo Thun giữ nhiệt Biluxury 5ATOB001GHT,  Chọn mua, \\n\\n\\n\\n\\n\\n\\n\\n\\n, Áo Thun giữ nhiệt Biluxury 5ATOB001GHS,  Chọn mua]']"
            ]
          },
          "metadata": {},
          "execution_count": 58
        }
      ]
    },
    {
      "cell_type": "code",
      "metadata": {
        "colab": {
          "base_uri": "https://localhost:8080/",
          "height": 80
        },
        "id": "cm-VR3LZiYoj",
        "outputId": "689e3253-b1c9-4428-a6ce-bfae7440e48d"
      },
      "source": [
        "df=pd.DataFrame(list_sp)\n",
        "df.head(10)\n"
      ],
      "execution_count": 59,
      "outputs": [
        {
          "output_type": "execute_result",
          "data": {
            "text/html": [
              "<div>\n",
              "<style scoped>\n",
              "    .dataframe tbody tr th:only-of-type {\n",
              "        vertical-align: middle;\n",
              "    }\n",
              "\n",
              "    .dataframe tbody tr th {\n",
              "        vertical-align: top;\n",
              "    }\n",
              "\n",
              "    .dataframe thead th {\n",
              "        text-align: right;\n",
              "    }\n",
              "</style>\n",
              "<table border=\"1\" class=\"dataframe\">\n",
              "  <thead>\n",
              "    <tr style=\"text-align: right;\">\n",
              "      <th></th>\n",
              "      <th>0</th>\n",
              "    </tr>\n",
              "  </thead>\n",
              "  <tbody>\n",
              "    <tr>\n",
              "      <th>0</th>\n",
              "      <td>[\\n\\n\\n\\n\\n\\n\\n\\n\\n, Áo len nam Biluxury 5ALRT...</td>\n",
              "    </tr>\n",
              "  </tbody>\n",
              "</table>\n",
              "</div>"
            ],
            "text/plain": [
              "                                                   0\n",
              "0  [\\n\\n\\n\\n\\n\\n\\n\\n\\n, Áo len nam Biluxury 5ALRT..."
            ]
          },
          "metadata": {},
          "execution_count": 59
        }
      ]
    },
    {
      "cell_type": "code",
      "metadata": {
        "colab": {
          "base_uri": "https://localhost:8080/",
          "height": 134
        },
        "id": "iJ01GXFiipo5",
        "outputId": "ac449620-fc3d-4d08-9db4-f96876412667"
      },
      "source": [
        "df=df[0].str.split(',',expand=True)\n",
        "df.head(7)"
      ],
      "execution_count": 60,
      "outputs": [
        {
          "output_type": "execute_result",
          "data": {
            "text/html": [
              "<div>\n",
              "<style scoped>\n",
              "    .dataframe tbody tr th:only-of-type {\n",
              "        vertical-align: middle;\n",
              "    }\n",
              "\n",
              "    .dataframe tbody tr th {\n",
              "        vertical-align: top;\n",
              "    }\n",
              "\n",
              "    .dataframe thead th {\n",
              "        text-align: right;\n",
              "    }\n",
              "</style>\n",
              "<table border=\"1\" class=\"dataframe\">\n",
              "  <thead>\n",
              "    <tr style=\"text-align: right;\">\n",
              "      <th></th>\n",
              "      <th>0</th>\n",
              "      <th>1</th>\n",
              "      <th>2</th>\n",
              "      <th>3</th>\n",
              "      <th>4</th>\n",
              "      <th>5</th>\n",
              "      <th>6</th>\n",
              "      <th>7</th>\n",
              "      <th>8</th>\n",
              "      <th>9</th>\n",
              "      <th>10</th>\n",
              "      <th>11</th>\n",
              "      <th>12</th>\n",
              "      <th>13</th>\n",
              "      <th>14</th>\n",
              "      <th>15</th>\n",
              "      <th>16</th>\n",
              "      <th>17</th>\n",
              "      <th>18</th>\n",
              "      <th>19</th>\n",
              "      <th>20</th>\n",
              "      <th>21</th>\n",
              "      <th>22</th>\n",
              "      <th>23</th>\n",
              "      <th>24</th>\n",
              "      <th>25</th>\n",
              "      <th>26</th>\n",
              "      <th>27</th>\n",
              "      <th>28</th>\n",
              "      <th>29</th>\n",
              "      <th>30</th>\n",
              "      <th>31</th>\n",
              "      <th>32</th>\n",
              "      <th>33</th>\n",
              "      <th>34</th>\n",
              "      <th>35</th>\n",
              "      <th>36</th>\n",
              "      <th>37</th>\n",
              "      <th>38</th>\n",
              "      <th>39</th>\n",
              "      <th>40</th>\n",
              "      <th>41</th>\n",
              "      <th>42</th>\n",
              "      <th>43</th>\n",
              "      <th>44</th>\n",
              "      <th>45</th>\n",
              "      <th>46</th>\n",
              "      <th>47</th>\n",
              "      <th>48</th>\n",
              "      <th>49</th>\n",
              "      <th>50</th>\n",
              "      <th>51</th>\n",
              "      <th>52</th>\n",
              "      <th>53</th>\n",
              "      <th>54</th>\n",
              "      <th>55</th>\n",
              "      <th>56</th>\n",
              "      <th>57</th>\n",
              "      <th>58</th>\n",
              "      <th>59</th>\n",
              "      <th>60</th>\n",
              "      <th>61</th>\n",
              "      <th>62</th>\n",
              "      <th>63</th>\n",
              "      <th>64</th>\n",
              "      <th>65</th>\n",
              "      <th>66</th>\n",
              "      <th>67</th>\n",
              "      <th>68</th>\n",
              "      <th>69</th>\n",
              "      <th>70</th>\n",
              "      <th>71</th>\n",
              "    </tr>\n",
              "  </thead>\n",
              "  <tbody>\n",
              "    <tr>\n",
              "      <th>0</th>\n",
              "      <td>[\\n\\n\\n\\n\\n\\n\\n\\n\\n</td>\n",
              "      <td>Áo len nam Biluxury 5ALRT001TRK</td>\n",
              "      <td>Chọn mua</td>\n",
              "      <td>\\n\\n\\n\\n\\n\\n\\n\\n\\n</td>\n",
              "      <td>Áo len nam Biluxury 5ALRT001TTS</td>\n",
              "      <td>Chọn mua</td>\n",
              "      <td>\\n\\n\\n\\n\\n\\n\\n\\n\\n</td>\n",
              "      <td>Áo len nam Biluxury 5ALRT001DEN</td>\n",
              "      <td>Chọn mua</td>\n",
              "      <td>\\n\\n\\n\\n\\n\\n\\n\\n\\n</td>\n",
              "      <td>Áo khoác gió 5AG2T004GHS</td>\n",
              "      <td>Chọn mua</td>\n",
              "      <td>\\n\\n\\n\\n\\n\\n\\n\\n\\n</td>\n",
              "      <td>Áo khoác gió 5AG2T004CAM</td>\n",
              "      <td>Chọn mua</td>\n",
              "      <td>\\n\\n\\n\\n\\n\\n\\n\\n\\n</td>\n",
              "      <td>Áo khoác gió 5AG2T004DEN</td>\n",
              "      <td>Chọn mua</td>\n",
              "      <td>\\n\\n\\n\\n\\n\\n\\n\\n\\n</td>\n",
              "      <td>Áo khoác gió 5AG2T007GHS</td>\n",
              "      <td>Chọn mua</td>\n",
              "      <td>\\n\\n\\n\\n\\n\\n\\n\\n\\n</td>\n",
              "      <td>Áo khoác gió 2 lớp 4AG2H009DEN</td>\n",
              "      <td>Chọn mua</td>\n",
              "      <td>\\n\\n\\n\\n\\n\\n\\n\\n\\n</td>\n",
              "      <td>Áo khoác gió 5AG2T004TTS</td>\n",
              "      <td>Chọn mua</td>\n",
              "      <td>\\n\\n\\n\\n\\n\\n\\n\\n\\n</td>\n",
              "      <td>Áo khoác gió 5AG2T009DEN</td>\n",
              "      <td>Chọn mua</td>\n",
              "      <td>\\n\\n\\n\\n\\n\\n\\n\\n\\n</td>\n",
              "      <td>Áo khoác gió 4AG2T007REU</td>\n",
              "      <td>Chọn mua</td>\n",
              "      <td>\\n\\n\\n\\n\\n\\n\\n\\n\\n</td>\n",
              "      <td>Áo nỉ thể thao cao cấp 4ANOT008GHT</td>\n",
              "      <td>Chọn mua</td>\n",
              "      <td>\\n\\n\\n\\n\\n\\n\\n\\n\\n</td>\n",
              "      <td>Áo nỉ thể thao cao cấp 4ANOT012VAB</td>\n",
              "      <td>Chọn mua</td>\n",
              "      <td>\\n\\n\\n\\n\\n\\n\\n\\n\\n</td>\n",
              "      <td>Áo vest nam Biluxury 5AVBC007DEN</td>\n",
              "      <td>Chọn mua</td>\n",
              "      <td>\\n\\n\\n\\n\\n\\n\\n\\n\\n</td>\n",
              "      <td>Áo vest nam Biluxury 5AVBC008DEN</td>\n",
              "      <td>Chọn mua</td>\n",
              "      <td>\\n\\n\\n\\n\\n\\n\\n\\n\\n</td>\n",
              "      <td>Áo len nam Biluxury 5ALRH002TTS</td>\n",
              "      <td>Chọn mua</td>\n",
              "      <td>\\n\\n\\n\\n\\n\\n\\n\\n\\n</td>\n",
              "      <td>Áo len nam Biluxury 5ALRH001GHS</td>\n",
              "      <td>Chọn mua</td>\n",
              "      <td>\\n\\n\\n\\n\\n\\n\\n\\n\\n</td>\n",
              "      <td>Áo khoác gió 5AG2T007TTT</td>\n",
              "      <td>Chọn mua</td>\n",
              "      <td>\\n\\n\\n\\n\\n\\n\\n\\n\\n</td>\n",
              "      <td>Áo khoác gió 5AG2T009XAH</td>\n",
              "      <td>Chọn mua</td>\n",
              "      <td>\\n\\n\\n\\n\\n\\n\\n\\n\\n</td>\n",
              "      <td>Áo Thun giữ nhiệt Biluxury 5ATOB001XDM</td>\n",
              "      <td>Chọn mua</td>\n",
              "      <td>\\n\\n\\n\\n\\n\\n\\n\\n\\n</td>\n",
              "      <td>Áo Thun giữ nhiệt Biluxury 5ATOB001TTT</td>\n",
              "      <td>Chọn mua</td>\n",
              "      <td>\\n\\n\\n\\n\\n\\n\\n\\n\\n</td>\n",
              "      <td>Áo Thun giữ nhiệt Biluxury 5ATOB001TRK</td>\n",
              "      <td>Chọn mua</td>\n",
              "      <td>\\n\\n\\n\\n\\n\\n\\n\\n\\n</td>\n",
              "      <td>Áo Thun giữ nhiệt Biluxury 5ATOB001GHT</td>\n",
              "      <td>Chọn mua</td>\n",
              "      <td>\\n\\n\\n\\n\\n\\n\\n\\n\\n</td>\n",
              "      <td>Áo Thun giữ nhiệt Biluxury 5ATOB001GHS</td>\n",
              "      <td>Chọn mua]</td>\n",
              "    </tr>\n",
              "  </tbody>\n",
              "</table>\n",
              "</div>"
            ],
            "text/plain": [
              "                    0   ...           71\n",
              "0  [\\n\\n\\n\\n\\n\\n\\n\\n\\n  ...    Chọn mua]\n",
              "\n",
              "[1 rows x 72 columns]"
            ]
          },
          "metadata": {},
          "execution_count": 60
        }
      ]
    },
    {
      "cell_type": "code",
      "metadata": {
        "colab": {
          "base_uri": "https://localhost:8080/"
        },
        "id": "LYf2LaCoj-So",
        "outputId": "df7f0cd1-8ea0-45f9-e525-9e878b1b9d90"
      },
      "source": [
        "df=df.unstack()\n",
        "df.head(10)"
      ],
      "execution_count": 61,
      "outputs": [
        {
          "output_type": "execute_result",
          "data": {
            "text/plain": [
              "0  0                 [\\n\\n\\n\\n\\n\\n\\n\\n\\n\n",
              "1  0     Áo len nam Biluxury 5ALRT001TRK\n",
              "2  0                            Chọn mua\n",
              "3  0                  \\n\\n\\n\\n\\n\\n\\n\\n\\n\n",
              "4  0     Áo len nam Biluxury 5ALRT001TTS\n",
              "5  0                            Chọn mua\n",
              "6  0                  \\n\\n\\n\\n\\n\\n\\n\\n\\n\n",
              "7  0     Áo len nam Biluxury 5ALRT001DEN\n",
              "8  0                            Chọn mua\n",
              "9  0                  \\n\\n\\n\\n\\n\\n\\n\\n\\n\n",
              "dtype: object"
            ]
          },
          "metadata": {},
          "execution_count": 61
        }
      ]
    }
  ]
}