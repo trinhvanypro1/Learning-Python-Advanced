{
  "nbformat": 4,
  "nbformat_minor": 0,
  "metadata": {
    "colab": {
      "name": "Swapping Web DoAn.ipynb",
      "provenance": [],
      "authorship_tag": "ABX9TyMWLywyGlWtwJqMOa2aFbMY",
      "include_colab_link": true
    },
    "kernelspec": {
      "name": "python3",
      "display_name": "Python 3"
    },
    "language_info": {
      "name": "python"
    }
  },
  "cells": [
    {
      "cell_type": "markdown",
      "metadata": {
        "id": "view-in-github",
        "colab_type": "text"
      },
      "source": [
        "<a href=\"https://colab.research.google.com/github/trinhvanypro1/Learning-Python-Advanced/blob/master/Swapping_Web_DoAn.ipynb\" target=\"_parent\"><img src=\"https://colab.research.google.com/assets/colab-badge.svg\" alt=\"Open In Colab\"/></a>"
      ]
    },
    {
      "cell_type": "markdown",
      "metadata": {
        "id": "4dJGn7JvpU6M"
      },
      "source": [
        "***Import các module cần thiết***"
      ]
    },
    {
      "cell_type": "code",
      "metadata": {
        "id": "_EGfQsdmbPL3"
      },
      "source": [
        "import pandas as pd\n",
        "import numpy as np\n",
        "import matplotlib.pyplot as plt\n",
        "import seaborn as sns\n",
        "%matplotlib inline\n",
        "from urllib.request import urlopen\n",
        "from bs4 import BeautifulSoup"
      ],
      "execution_count": 664,
      "outputs": []
    },
    {
      "cell_type": "markdown",
      "metadata": {
        "id": "3tDyL6i0png3"
      },
      "source": [
        "***import link và khởi tạo module BeautifulSoup***"
      ]
    },
    {
      "cell_type": "code",
      "metadata": {
        "id": "Qbm08ppMbTQD"
      },
      "source": [
        "url='https://biluxury.vn/collections/ao-nam'\n",
        "html=urlopen(url)\n",
        "soup=BeautifulSoup(html,'lxml')"
      ],
      "execution_count": 665,
      "outputs": []
    },
    {
      "cell_type": "code",
      "metadata": {
        "colab": {
          "base_uri": "https://localhost:8080/"
        },
        "id": "i03ZJW2IcaSn",
        "outputId": "91de2827-aeb8-47f4-f69e-29227b324713"
      },
      "source": [
        "title=soup.title\n",
        "print(title)"
      ],
      "execution_count": 666,
      "outputs": [
        {
          "output_type": "stream",
          "name": "stdout",
          "text": [
            "<title>\n",
            "\t\t\tÁo nam\n",
            "\t\t</title>\n"
          ]
        }
      ]
    },
    {
      "cell_type": "markdown",
      "metadata": {
        "id": "9A1uEyQRpx1Q"
      },
      "source": [
        "***Lấy dữ liệu html từ sản phẩm áo***"
      ]
    },
    {
      "cell_type": "code",
      "metadata": {
        "id": "pUqhvh4VemMp"
      },
      "source": [
        "list_ao=soup.find_all('div', attrs={'class':'grid-uniform product-list md-mg-left-15 d-flex-wrap'})"
      ],
      "execution_count": 667,
      "outputs": []
    },
    {
      "cell_type": "markdown",
      "metadata": {
        "id": "p6wn4iv1p7eX"
      },
      "source": [
        "Lấy dữ liệu "
      ]
    },
    {
      "cell_type": "code",
      "metadata": {
        "id": "cjtD2IyqgunW"
      },
      "source": [
        "# Tên sản phẩm:\n",
        "for i in list_ao:\n",
        "  sp=i.find_all('h3',attrs={'class':\"product-title\"})\n",
        "  str_sp=str(sp)\n",
        "  list_sp=[]\n",
        "  import re\n",
        "  clean=re.compile('<.*?>')\n",
        "  clean2=(re.sub(clean, '',str_sp))\n",
        "  list_sp.append(clean2)"
      ],
      "execution_count": 668,
      "outputs": []
    },
    {
      "cell_type": "code",
      "metadata": {
        "id": "GmGJDvrkjOIn"
      },
      "source": [
        "#Giá sản phẩm:\n",
        "for j in list_ao:\n",
        "  gia=j.find_all('div',attrs={'class':'product-price'})\n",
        "  str_gia=str(gia)\n",
        "  list_gia=[]\n",
        "  import re\n",
        "  clean_gia=re.compile('<.*?>')\n",
        "  clean_gia2=(re.sub(clean_gia, '',str_gia))\n",
        "  list_gia.append(clean_gia2)"
      ],
      "execution_count": 669,
      "outputs": []
    },
    {
      "cell_type": "code",
      "metadata": {
        "id": "X_0FzYr2nzGU"
      },
      "source": [
        "#Số lượng bán:\n",
        "for k in list_ao:\n",
        "  sl_ban=k.find_all('div',attrs={'class':'product-sold'})\n",
        "  str_sl_ban=str(sl_ban)\n",
        "  list_sl_ban=[]\n",
        "  import re\n",
        "  clean_sl_ban=re.compile('<.*?>')\n",
        "  clean_sl_ban2=(re.sub(clean_sl_ban,'',str_sl_ban))\n",
        "  list_sl_ban.append(clean_sl_ban2)"
      ],
      "execution_count": 670,
      "outputs": []
    },
    {
      "cell_type": "markdown",
      "metadata": {
        "id": "_pg2KNQZrmdc"
      },
      "source": [
        "***In dữ liệu:***\n",
        "\n",
        "> Văn bản được thụt lề\n",
        "\n"
      ]
    },
    {
      "cell_type": "code",
      "metadata": {
        "colab": {
          "base_uri": "https://localhost:8080/"
        },
        "id": "c2MV7wYRiVZE",
        "outputId": "fc359639-a50f-4002-c23f-8ea700743963"
      },
      "source": [
        "list_sp"
      ],
      "execution_count": 671,
      "outputs": [
        {
          "output_type": "execute_result",
          "data": {
            "text/plain": [
              "['[Áo len nam Biluxury 5ALRT001TRK, Áo len nam Biluxury 5ALRT001TTS, Áo len nam Biluxury 5ALRT001DEN, Áo khoác gió 5AG2T004GHS, Áo khoác gió 5AG2T004CAM, Áo khoác gió 5AG2T004DEN, Áo khoác gió 5AG2T007GHS, Áo khoác gió 2 lớp 4AG2H009DEN, Áo khoác gió 5AG2T004TTS, Áo khoác gió 5AG2T009DEN, Áo khoác gió 4AG2T007REU, Áo nỉ thể thao cao cấp 4ANOT008GHT, Áo nỉ thể thao cao cấp 4ANOT012VAB, Áo vest nam Biluxury 5AVBC007DEN, Áo vest nam Biluxury 5AVBC008DEN, Áo len nam Biluxury 5ALRH002TTS, Áo len nam Biluxury 5ALRH001GHS, Áo khoác gió 5AG2T007TTT, Áo khoác gió 5AG2T009XAH, Áo Thun giữ nhiệt Biluxury 5ATOB001XDM, Áo Thun giữ nhiệt Biluxury 5ATOB001TTT, Áo Thun giữ nhiệt Biluxury 5ATOB001TRK, Áo Thun giữ nhiệt Biluxury 5ATOB001GHT, Áo Thun giữ nhiệt Biluxury 5ATOB001GHS]']"
            ]
          },
          "metadata": {},
          "execution_count": 671
        }
      ]
    },
    {
      "cell_type": "code",
      "metadata": {
        "id": "EkZNDkGKnpGR",
        "colab": {
          "base_uri": "https://localhost:8080/"
        },
        "outputId": "959cff05-c9e6-4851-a996-d3a924acecea"
      },
      "source": [
        "list_gia"
      ],
      "execution_count": 672,
      "outputs": [
        {
          "output_type": "execute_result",
          "data": {
            "text/plain": [
              "['[\\n475,000₫\\n, \\n475,000₫\\n, \\n475,000₫\\n, \\n699,000₫\\n, \\n699,000₫\\n, \\n699,000₫\\n, \\n695,000₫\\n, \\n735,000₫\\n, \\n469,000₫ 699,000₫\\n, \\n799,000₫\\n, \\n399,000₫ 945,000₫\\n, \\n249,000₫ 398,000₫\\n, \\n249,000₫ 389,000₫\\n, \\n1,690,000₫\\n, \\n1,865,000₫\\n, \\n525,000₫\\n, \\n535,000₫\\n, \\n695,000₫\\n, \\n799,000₫\\n, \\n99,000₫ 279,000₫\\n, \\n99,000₫ 279,000₫\\n, \\n99,000₫ 279,000₫\\n, \\n99,000₫ 279,000₫\\n, \\n99,000₫ 279,000₫\\n]']"
            ]
          },
          "metadata": {},
          "execution_count": 672
        }
      ]
    },
    {
      "cell_type": "code",
      "metadata": {
        "id": "DUbrKOF6oqm2",
        "colab": {
          "base_uri": "https://localhost:8080/"
        },
        "outputId": "1969f128-b7ed-4e6c-cbf0-8d6b25ddc023"
      },
      "source": [
        "list_sl_ban"
      ],
      "execution_count": 673,
      "outputs": [
        {
          "output_type": "execute_result",
          "data": {
            "text/plain": [
              "['[   (100 đã bán),    (101 đã bán),    (100 đã bán),    (102 đã bán),    (101 đã bán),    (104 đã bán),    (103 đã bán),    (102 đã bán),    (103 đã bán),    (102 đã bán),    (136 đã bán),    (108 đã bán),    (102 đã bán),    (100 đã bán),    (100 đã bán),    (103 đã bán),    (103 đã bán),    (110 đã bán),    (112 đã bán),    (153 đã bán),    (134 đã bán),    (131 đã bán),    (134 đã bán),    (132 đã bán)]']"
            ]
          },
          "metadata": {},
          "execution_count": 673
        }
      ]
    },
    {
      "cell_type": "markdown",
      "metadata": {
        "id": "dHxQ7INSrpK_"
      },
      "source": [
        "***Tạo DataFrame***"
      ]
    },
    {
      "cell_type": "code",
      "metadata": {
        "colab": {
          "base_uri": "https://localhost:8080/",
          "height": 80
        },
        "id": "cm-VR3LZiYoj",
        "outputId": "fd2f192d-d449-41f3-afda-57b96bc86d12"
      },
      "source": [
        "df=pd.DataFrame(list_sp)\n",
        "df.head(10)\n"
      ],
      "execution_count": 674,
      "outputs": [
        {
          "output_type": "execute_result",
          "data": {
            "text/html": [
              "<div>\n",
              "<style scoped>\n",
              "    .dataframe tbody tr th:only-of-type {\n",
              "        vertical-align: middle;\n",
              "    }\n",
              "\n",
              "    .dataframe tbody tr th {\n",
              "        vertical-align: top;\n",
              "    }\n",
              "\n",
              "    .dataframe thead th {\n",
              "        text-align: right;\n",
              "    }\n",
              "</style>\n",
              "<table border=\"1\" class=\"dataframe\">\n",
              "  <thead>\n",
              "    <tr style=\"text-align: right;\">\n",
              "      <th></th>\n",
              "      <th>0</th>\n",
              "    </tr>\n",
              "  </thead>\n",
              "  <tbody>\n",
              "    <tr>\n",
              "      <th>0</th>\n",
              "      <td>[Áo len nam Biluxury 5ALRT001TRK, Áo len nam B...</td>\n",
              "    </tr>\n",
              "  </tbody>\n",
              "</table>\n",
              "</div>"
            ],
            "text/plain": [
              "                                                   0\n",
              "0  [Áo len nam Biluxury 5ALRT001TRK, Áo len nam B..."
            ]
          },
          "metadata": {},
          "execution_count": 674
        }
      ]
    },
    {
      "cell_type": "code",
      "metadata": {
        "id": "LAapG5JmrutP",
        "colab": {
          "base_uri": "https://localhost:8080/",
          "height": 80
        },
        "outputId": "fe11d447-4939-40b2-bf19-0067777a7278"
      },
      "source": [
        "df2=pd.DataFrame(list_gia)\n",
        "df2.head(10)"
      ],
      "execution_count": 675,
      "outputs": [
        {
          "output_type": "execute_result",
          "data": {
            "text/html": [
              "<div>\n",
              "<style scoped>\n",
              "    .dataframe tbody tr th:only-of-type {\n",
              "        vertical-align: middle;\n",
              "    }\n",
              "\n",
              "    .dataframe tbody tr th {\n",
              "        vertical-align: top;\n",
              "    }\n",
              "\n",
              "    .dataframe thead th {\n",
              "        text-align: right;\n",
              "    }\n",
              "</style>\n",
              "<table border=\"1\" class=\"dataframe\">\n",
              "  <thead>\n",
              "    <tr style=\"text-align: right;\">\n",
              "      <th></th>\n",
              "      <th>0</th>\n",
              "    </tr>\n",
              "  </thead>\n",
              "  <tbody>\n",
              "    <tr>\n",
              "      <th>0</th>\n",
              "      <td>[\\n475,000₫\\n, \\n475,000₫\\n, \\n475,000₫\\n, \\n6...</td>\n",
              "    </tr>\n",
              "  </tbody>\n",
              "</table>\n",
              "</div>"
            ],
            "text/plain": [
              "                                                   0\n",
              "0  [\\n475,000₫\\n, \\n475,000₫\\n, \\n475,000₫\\n, \\n6..."
            ]
          },
          "metadata": {},
          "execution_count": 675
        }
      ]
    },
    {
      "cell_type": "code",
      "metadata": {
        "id": "QFRPi651r6HZ",
        "colab": {
          "base_uri": "https://localhost:8080/",
          "height": 80
        },
        "outputId": "74b04f65-f2e5-436f-b060-f7b687f102bf"
      },
      "source": [
        "df3=pd.DataFrame(list_sl_ban)\n",
        "df3.head(10)"
      ],
      "execution_count": 676,
      "outputs": [
        {
          "output_type": "execute_result",
          "data": {
            "text/html": [
              "<div>\n",
              "<style scoped>\n",
              "    .dataframe tbody tr th:only-of-type {\n",
              "        vertical-align: middle;\n",
              "    }\n",
              "\n",
              "    .dataframe tbody tr th {\n",
              "        vertical-align: top;\n",
              "    }\n",
              "\n",
              "    .dataframe thead th {\n",
              "        text-align: right;\n",
              "    }\n",
              "</style>\n",
              "<table border=\"1\" class=\"dataframe\">\n",
              "  <thead>\n",
              "    <tr style=\"text-align: right;\">\n",
              "      <th></th>\n",
              "      <th>0</th>\n",
              "    </tr>\n",
              "  </thead>\n",
              "  <tbody>\n",
              "    <tr>\n",
              "      <th>0</th>\n",
              "      <td>[   (100 đã bán),    (101 đã bán),    (100 đã ...</td>\n",
              "    </tr>\n",
              "  </tbody>\n",
              "</table>\n",
              "</div>"
            ],
            "text/plain": [
              "                                                   0\n",
              "0  [   (100 đã bán),    (101 đã bán),    (100 đã ..."
            ]
          },
          "metadata": {},
          "execution_count": 676
        }
      ]
    },
    {
      "cell_type": "markdown",
      "metadata": {
        "id": "vJHD_X2kr42X"
      },
      "source": [
        "***Tách giá trị***"
      ]
    },
    {
      "cell_type": "code",
      "metadata": {
        "colab": {
          "base_uri": "https://localhost:8080/",
          "height": 134
        },
        "id": "iJ01GXFiipo5",
        "outputId": "bb5b5cc7-4494-414b-fe98-a681b208af05"
      },
      "source": [
        "df=df[0].str.split(',',expand=True)\n",
        "df.head(7)"
      ],
      "execution_count": 677,
      "outputs": [
        {
          "output_type": "execute_result",
          "data": {
            "text/html": [
              "<div>\n",
              "<style scoped>\n",
              "    .dataframe tbody tr th:only-of-type {\n",
              "        vertical-align: middle;\n",
              "    }\n",
              "\n",
              "    .dataframe tbody tr th {\n",
              "        vertical-align: top;\n",
              "    }\n",
              "\n",
              "    .dataframe thead th {\n",
              "        text-align: right;\n",
              "    }\n",
              "</style>\n",
              "<table border=\"1\" class=\"dataframe\">\n",
              "  <thead>\n",
              "    <tr style=\"text-align: right;\">\n",
              "      <th></th>\n",
              "      <th>0</th>\n",
              "      <th>1</th>\n",
              "      <th>2</th>\n",
              "      <th>3</th>\n",
              "      <th>4</th>\n",
              "      <th>5</th>\n",
              "      <th>6</th>\n",
              "      <th>7</th>\n",
              "      <th>8</th>\n",
              "      <th>9</th>\n",
              "      <th>10</th>\n",
              "      <th>11</th>\n",
              "      <th>12</th>\n",
              "      <th>13</th>\n",
              "      <th>14</th>\n",
              "      <th>15</th>\n",
              "      <th>16</th>\n",
              "      <th>17</th>\n",
              "      <th>18</th>\n",
              "      <th>19</th>\n",
              "      <th>20</th>\n",
              "      <th>21</th>\n",
              "      <th>22</th>\n",
              "      <th>23</th>\n",
              "    </tr>\n",
              "  </thead>\n",
              "  <tbody>\n",
              "    <tr>\n",
              "      <th>0</th>\n",
              "      <td>[Áo len nam Biluxury 5ALRT001TRK</td>\n",
              "      <td>Áo len nam Biluxury 5ALRT001TTS</td>\n",
              "      <td>Áo len nam Biluxury 5ALRT001DEN</td>\n",
              "      <td>Áo khoác gió 5AG2T004GHS</td>\n",
              "      <td>Áo khoác gió 5AG2T004CAM</td>\n",
              "      <td>Áo khoác gió 5AG2T004DEN</td>\n",
              "      <td>Áo khoác gió 5AG2T007GHS</td>\n",
              "      <td>Áo khoác gió 2 lớp 4AG2H009DEN</td>\n",
              "      <td>Áo khoác gió 5AG2T004TTS</td>\n",
              "      <td>Áo khoác gió 5AG2T009DEN</td>\n",
              "      <td>Áo khoác gió 4AG2T007REU</td>\n",
              "      <td>Áo nỉ thể thao cao cấp 4ANOT008GHT</td>\n",
              "      <td>Áo nỉ thể thao cao cấp 4ANOT012VAB</td>\n",
              "      <td>Áo vest nam Biluxury 5AVBC007DEN</td>\n",
              "      <td>Áo vest nam Biluxury 5AVBC008DEN</td>\n",
              "      <td>Áo len nam Biluxury 5ALRH002TTS</td>\n",
              "      <td>Áo len nam Biluxury 5ALRH001GHS</td>\n",
              "      <td>Áo khoác gió 5AG2T007TTT</td>\n",
              "      <td>Áo khoác gió 5AG2T009XAH</td>\n",
              "      <td>Áo Thun giữ nhiệt Biluxury 5ATOB001XDM</td>\n",
              "      <td>Áo Thun giữ nhiệt Biluxury 5ATOB001TTT</td>\n",
              "      <td>Áo Thun giữ nhiệt Biluxury 5ATOB001TRK</td>\n",
              "      <td>Áo Thun giữ nhiệt Biluxury 5ATOB001GHT</td>\n",
              "      <td>Áo Thun giữ nhiệt Biluxury 5ATOB001GHS]</td>\n",
              "    </tr>\n",
              "  </tbody>\n",
              "</table>\n",
              "</div>"
            ],
            "text/plain": [
              "                                 0   ...                                        23\n",
              "0  [Áo len nam Biluxury 5ALRT001TRK  ...   Áo Thun giữ nhiệt Biluxury 5ATOB001GHS]\n",
              "\n",
              "[1 rows x 24 columns]"
            ]
          },
          "metadata": {},
          "execution_count": 677
        }
      ]
    },
    {
      "cell_type": "code",
      "metadata": {
        "id": "keblXuo0sDoP",
        "colab": {
          "base_uri": "https://localhost:8080/",
          "height": 117
        },
        "outputId": "f6e2a41e-50a1-44ca-ef74-35101b79926a"
      },
      "source": [
        "df2=df2[0].str.split(' ',expand=True)\n",
        "df2.head(5)"
      ],
      "execution_count": 678,
      "outputs": [
        {
          "output_type": "execute_result",
          "data": {
            "text/html": [
              "<div>\n",
              "<style scoped>\n",
              "    .dataframe tbody tr th:only-of-type {\n",
              "        vertical-align: middle;\n",
              "    }\n",
              "\n",
              "    .dataframe tbody tr th {\n",
              "        vertical-align: top;\n",
              "    }\n",
              "\n",
              "    .dataframe thead th {\n",
              "        text-align: right;\n",
              "    }\n",
              "</style>\n",
              "<table border=\"1\" class=\"dataframe\">\n",
              "  <thead>\n",
              "    <tr style=\"text-align: right;\">\n",
              "      <th></th>\n",
              "      <th>0</th>\n",
              "      <th>1</th>\n",
              "      <th>2</th>\n",
              "      <th>3</th>\n",
              "      <th>4</th>\n",
              "      <th>5</th>\n",
              "      <th>6</th>\n",
              "      <th>7</th>\n",
              "      <th>8</th>\n",
              "      <th>9</th>\n",
              "      <th>10</th>\n",
              "      <th>11</th>\n",
              "      <th>12</th>\n",
              "      <th>13</th>\n",
              "      <th>14</th>\n",
              "      <th>15</th>\n",
              "      <th>16</th>\n",
              "      <th>17</th>\n",
              "      <th>18</th>\n",
              "      <th>19</th>\n",
              "      <th>20</th>\n",
              "      <th>21</th>\n",
              "      <th>22</th>\n",
              "      <th>23</th>\n",
              "      <th>24</th>\n",
              "      <th>25</th>\n",
              "      <th>26</th>\n",
              "      <th>27</th>\n",
              "      <th>28</th>\n",
              "      <th>29</th>\n",
              "      <th>30</th>\n",
              "      <th>31</th>\n",
              "      <th>32</th>\n",
              "    </tr>\n",
              "  </thead>\n",
              "  <tbody>\n",
              "    <tr>\n",
              "      <th>0</th>\n",
              "      <td>[\\n475,000₫\\n,</td>\n",
              "      <td>\\n475,000₫\\n,</td>\n",
              "      <td>\\n475,000₫\\n,</td>\n",
              "      <td>\\n699,000₫\\n,</td>\n",
              "      <td>\\n699,000₫\\n,</td>\n",
              "      <td>\\n699,000₫\\n,</td>\n",
              "      <td>\\n695,000₫\\n,</td>\n",
              "      <td>\\n735,000₫\\n,</td>\n",
              "      <td>\\n469,000₫</td>\n",
              "      <td>699,000₫\\n,</td>\n",
              "      <td>\\n799,000₫\\n,</td>\n",
              "      <td>\\n399,000₫</td>\n",
              "      <td>945,000₫\\n,</td>\n",
              "      <td>\\n249,000₫</td>\n",
              "      <td>398,000₫\\n,</td>\n",
              "      <td>\\n249,000₫</td>\n",
              "      <td>389,000₫\\n,</td>\n",
              "      <td>\\n1,690,000₫\\n,</td>\n",
              "      <td>\\n1,865,000₫\\n,</td>\n",
              "      <td>\\n525,000₫\\n,</td>\n",
              "      <td>\\n535,000₫\\n,</td>\n",
              "      <td>\\n695,000₫\\n,</td>\n",
              "      <td>\\n799,000₫\\n,</td>\n",
              "      <td>\\n99,000₫</td>\n",
              "      <td>279,000₫\\n,</td>\n",
              "      <td>\\n99,000₫</td>\n",
              "      <td>279,000₫\\n,</td>\n",
              "      <td>\\n99,000₫</td>\n",
              "      <td>279,000₫\\n,</td>\n",
              "      <td>\\n99,000₫</td>\n",
              "      <td>279,000₫\\n,</td>\n",
              "      <td>\\n99,000₫</td>\n",
              "      <td>279,000₫\\n]</td>\n",
              "    </tr>\n",
              "  </tbody>\n",
              "</table>\n",
              "</div>"
            ],
            "text/plain": [
              "               0              1   ...         31           32\n",
              "0  [\\n475,000₫\\n,  \\n475,000₫\\n,  ...  \\n99,000₫  279,000₫\\n]\n",
              "\n",
              "[1 rows x 33 columns]"
            ]
          },
          "metadata": {},
          "execution_count": 678
        }
      ]
    },
    {
      "cell_type": "code",
      "metadata": {
        "id": "T4heGAXSsRr0",
        "colab": {
          "base_uri": "https://localhost:8080/",
          "height": 114
        },
        "outputId": "bb989194-47df-4a3a-cee4-8ec5ec4064bd"
      },
      "source": [
        "df3=df3[0].str.split(',',expand=True)\n",
        "df3.head(5)"
      ],
      "execution_count": 679,
      "outputs": [
        {
          "output_type": "execute_result",
          "data": {
            "text/html": [
              "<div>\n",
              "<style scoped>\n",
              "    .dataframe tbody tr th:only-of-type {\n",
              "        vertical-align: middle;\n",
              "    }\n",
              "\n",
              "    .dataframe tbody tr th {\n",
              "        vertical-align: top;\n",
              "    }\n",
              "\n",
              "    .dataframe thead th {\n",
              "        text-align: right;\n",
              "    }\n",
              "</style>\n",
              "<table border=\"1\" class=\"dataframe\">\n",
              "  <thead>\n",
              "    <tr style=\"text-align: right;\">\n",
              "      <th></th>\n",
              "      <th>0</th>\n",
              "      <th>1</th>\n",
              "      <th>2</th>\n",
              "      <th>3</th>\n",
              "      <th>4</th>\n",
              "      <th>5</th>\n",
              "      <th>6</th>\n",
              "      <th>7</th>\n",
              "      <th>8</th>\n",
              "      <th>9</th>\n",
              "      <th>10</th>\n",
              "      <th>11</th>\n",
              "      <th>12</th>\n",
              "      <th>13</th>\n",
              "      <th>14</th>\n",
              "      <th>15</th>\n",
              "      <th>16</th>\n",
              "      <th>17</th>\n",
              "      <th>18</th>\n",
              "      <th>19</th>\n",
              "      <th>20</th>\n",
              "      <th>21</th>\n",
              "      <th>22</th>\n",
              "      <th>23</th>\n",
              "    </tr>\n",
              "  </thead>\n",
              "  <tbody>\n",
              "    <tr>\n",
              "      <th>0</th>\n",
              "      <td>[   (100 đã bán)</td>\n",
              "      <td>(101 đã bán)</td>\n",
              "      <td>(100 đã bán)</td>\n",
              "      <td>(102 đã bán)</td>\n",
              "      <td>(101 đã bán)</td>\n",
              "      <td>(104 đã bán)</td>\n",
              "      <td>(103 đã bán)</td>\n",
              "      <td>(102 đã bán)</td>\n",
              "      <td>(103 đã bán)</td>\n",
              "      <td>(102 đã bán)</td>\n",
              "      <td>(136 đã bán)</td>\n",
              "      <td>(108 đã bán)</td>\n",
              "      <td>(102 đã bán)</td>\n",
              "      <td>(100 đã bán)</td>\n",
              "      <td>(100 đã bán)</td>\n",
              "      <td>(103 đã bán)</td>\n",
              "      <td>(103 đã bán)</td>\n",
              "      <td>(110 đã bán)</td>\n",
              "      <td>(112 đã bán)</td>\n",
              "      <td>(153 đã bán)</td>\n",
              "      <td>(134 đã bán)</td>\n",
              "      <td>(131 đã bán)</td>\n",
              "      <td>(134 đã bán)</td>\n",
              "      <td>(132 đã bán)]</td>\n",
              "    </tr>\n",
              "  </tbody>\n",
              "</table>\n",
              "</div>"
            ],
            "text/plain": [
              "                 0                 1   ...                22                 23\n",
              "0  [   (100 đã bán)      (101 đã bán)  ...      (134 đã bán)      (132 đã bán)]\n",
              "\n",
              "[1 rows x 24 columns]"
            ]
          },
          "metadata": {},
          "execution_count": 679
        }
      ]
    },
    {
      "cell_type": "markdown",
      "metadata": {
        "id": "0bY40wfpsaAU"
      },
      "source": [
        "***Chuyển về dạng unstack***"
      ]
    },
    {
      "cell_type": "code",
      "metadata": {
        "colab": {
          "base_uri": "https://localhost:8080/"
        },
        "id": "LYf2LaCoj-So",
        "outputId": "e08575c9-7a06-4a7f-efe3-381290ab1de8"
      },
      "source": [
        "df=df.unstack()\n",
        "df.head(10)"
      ],
      "execution_count": 680,
      "outputs": [
        {
          "output_type": "execute_result",
          "data": {
            "text/plain": [
              "0  0    [Áo len nam Biluxury 5ALRT001TRK\n",
              "1  0     Áo len nam Biluxury 5ALRT001TTS\n",
              "2  0     Áo len nam Biluxury 5ALRT001DEN\n",
              "3  0            Áo khoác gió 5AG2T004GHS\n",
              "4  0            Áo khoác gió 5AG2T004CAM\n",
              "5  0            Áo khoác gió 5AG2T004DEN\n",
              "6  0            Áo khoác gió 5AG2T007GHS\n",
              "7  0      Áo khoác gió 2 lớp 4AG2H009DEN\n",
              "8  0            Áo khoác gió 5AG2T004TTS\n",
              "9  0            Áo khoác gió 5AG2T009DEN\n",
              "dtype: object"
            ]
          },
          "metadata": {},
          "execution_count": 680
        }
      ]
    },
    {
      "cell_type": "code",
      "metadata": {
        "id": "1FPe1_0ci_uf",
        "colab": {
          "base_uri": "https://localhost:8080/"
        },
        "outputId": "84ef5d62-50f3-44a1-946c-f6309023ba59"
      },
      "source": [
        "df2=df2.unstack()\n",
        "df2.head(5)"
      ],
      "execution_count": 681,
      "outputs": [
        {
          "output_type": "execute_result",
          "data": {
            "text/plain": [
              "0  0    [\\n475,000₫\\n,\n",
              "1  0     \\n475,000₫\\n,\n",
              "2  0     \\n475,000₫\\n,\n",
              "3  0     \\n699,000₫\\n,\n",
              "4  0     \\n699,000₫\\n,\n",
              "dtype: object"
            ]
          },
          "metadata": {},
          "execution_count": 681
        }
      ]
    },
    {
      "cell_type": "code",
      "metadata": {
        "id": "gjjkiRcNs148",
        "colab": {
          "base_uri": "https://localhost:8080/"
        },
        "outputId": "4a202dae-1825-45ee-9458-6b3698bb6801"
      },
      "source": [
        "df3=df3.unstack()\n",
        "df3.head(5)"
      ],
      "execution_count": 682,
      "outputs": [
        {
          "output_type": "execute_result",
          "data": {
            "text/plain": [
              "0  0    [   (100 đã bán)\n",
              "1  0        (101 đã bán)\n",
              "2  0        (100 đã bán)\n",
              "3  0        (102 đã bán)\n",
              "4  0        (101 đã bán)\n",
              "dtype: object"
            ]
          },
          "metadata": {},
          "execution_count": 682
        }
      ]
    },
    {
      "cell_type": "markdown",
      "metadata": {
        "id": "h2uNeFzZVTUo"
      },
      "source": [
        "**Xử lý df3**"
      ]
    },
    {
      "cell_type": "code",
      "metadata": {
        "id": "ioFxq8LlVV-h"
      },
      "source": [
        "df3=pd.DataFrame(df3)"
      ],
      "execution_count": 683,
      "outputs": []
    },
    {
      "cell_type": "code",
      "metadata": {
        "id": "5nSHYjY-VaSS",
        "colab": {
          "base_uri": "https://localhost:8080/",
          "height": 142
        },
        "outputId": "fa8b3f77-764a-41da-bae4-106f213c20b7"
      },
      "source": [
        "df3=df3.reset_index()\n",
        "df3.head(3)"
      ],
      "execution_count": 684,
      "outputs": [
        {
          "output_type": "execute_result",
          "data": {
            "text/html": [
              "<div>\n",
              "<style scoped>\n",
              "    .dataframe tbody tr th:only-of-type {\n",
              "        vertical-align: middle;\n",
              "    }\n",
              "\n",
              "    .dataframe tbody tr th {\n",
              "        vertical-align: top;\n",
              "    }\n",
              "\n",
              "    .dataframe thead th {\n",
              "        text-align: right;\n",
              "    }\n",
              "</style>\n",
              "<table border=\"1\" class=\"dataframe\">\n",
              "  <thead>\n",
              "    <tr style=\"text-align: right;\">\n",
              "      <th></th>\n",
              "      <th>level_0</th>\n",
              "      <th>level_1</th>\n",
              "      <th>0</th>\n",
              "    </tr>\n",
              "  </thead>\n",
              "  <tbody>\n",
              "    <tr>\n",
              "      <th>0</th>\n",
              "      <td>0</td>\n",
              "      <td>0</td>\n",
              "      <td>[   (100 đã bán)</td>\n",
              "    </tr>\n",
              "    <tr>\n",
              "      <th>1</th>\n",
              "      <td>1</td>\n",
              "      <td>0</td>\n",
              "      <td>(101 đã bán)</td>\n",
              "    </tr>\n",
              "    <tr>\n",
              "      <th>2</th>\n",
              "      <td>2</td>\n",
              "      <td>0</td>\n",
              "      <td>(100 đã bán)</td>\n",
              "    </tr>\n",
              "  </tbody>\n",
              "</table>\n",
              "</div>"
            ],
            "text/plain": [
              "   level_0  level_1                 0\n",
              "0        0        0  [   (100 đã bán)\n",
              "1        1        0      (101 đã bán)\n",
              "2        2        0      (100 đã bán)"
            ]
          },
          "metadata": {},
          "execution_count": 684
        }
      ]
    },
    {
      "cell_type": "code",
      "metadata": {
        "id": "Lf8A5np4VhIX"
      },
      "source": [
        "del df3['level_0']\n",
        "del df3['level_1']"
      ],
      "execution_count": 685,
      "outputs": []
    },
    {
      "cell_type": "markdown",
      "metadata": {
        "id": "5sVTdtstycGE"
      },
      "source": [
        "***Xử lý df2:***"
      ]
    },
    {
      "cell_type": "code",
      "metadata": {
        "id": "RgWhQjegw9pw"
      },
      "source": [
        "df2=pd.DataFrame(df2)\n"
      ],
      "execution_count": 686,
      "outputs": []
    },
    {
      "cell_type": "code",
      "metadata": {
        "id": "XIfGy-WluZo8",
        "colab": {
          "base_uri": "https://localhost:8080/",
          "height": 142
        },
        "outputId": "bff8eec8-d49a-44a8-a210-f22f40414329"
      },
      "source": [
        "\n",
        "df2=df2.reset_index()\n",
        "df2.head(3)"
      ],
      "execution_count": 687,
      "outputs": [
        {
          "output_type": "execute_result",
          "data": {
            "text/html": [
              "<div>\n",
              "<style scoped>\n",
              "    .dataframe tbody tr th:only-of-type {\n",
              "        vertical-align: middle;\n",
              "    }\n",
              "\n",
              "    .dataframe tbody tr th {\n",
              "        vertical-align: top;\n",
              "    }\n",
              "\n",
              "    .dataframe thead th {\n",
              "        text-align: right;\n",
              "    }\n",
              "</style>\n",
              "<table border=\"1\" class=\"dataframe\">\n",
              "  <thead>\n",
              "    <tr style=\"text-align: right;\">\n",
              "      <th></th>\n",
              "      <th>level_0</th>\n",
              "      <th>level_1</th>\n",
              "      <th>0</th>\n",
              "    </tr>\n",
              "  </thead>\n",
              "  <tbody>\n",
              "    <tr>\n",
              "      <th>0</th>\n",
              "      <td>0</td>\n",
              "      <td>0</td>\n",
              "      <td>[\\n475,000₫\\n,</td>\n",
              "    </tr>\n",
              "    <tr>\n",
              "      <th>1</th>\n",
              "      <td>1</td>\n",
              "      <td>0</td>\n",
              "      <td>\\n475,000₫\\n,</td>\n",
              "    </tr>\n",
              "    <tr>\n",
              "      <th>2</th>\n",
              "      <td>2</td>\n",
              "      <td>0</td>\n",
              "      <td>\\n475,000₫\\n,</td>\n",
              "    </tr>\n",
              "  </tbody>\n",
              "</table>\n",
              "</div>"
            ],
            "text/plain": [
              "   level_0  level_1               0\n",
              "0        0        0  [\\n475,000₫\\n,\n",
              "1        1        0   \\n475,000₫\\n,\n",
              "2        2        0   \\n475,000₫\\n,"
            ]
          },
          "metadata": {},
          "execution_count": 687
        }
      ]
    },
    {
      "cell_type": "code",
      "metadata": {
        "id": "8LPBH8kAx9LW"
      },
      "source": [
        "\n",
        "del df2['level_0']\n",
        "del df2['level_1']"
      ],
      "execution_count": 688,
      "outputs": []
    },
    {
      "cell_type": "code",
      "metadata": {
        "id": "J5L5zCKAF50A",
        "colab": {
          "base_uri": "https://localhost:8080/",
          "height": 204
        },
        "outputId": "ae3e8828-7f8c-4d19-b2fe-3be010c7e9e4"
      },
      "source": [
        "df2.head(5)"
      ],
      "execution_count": 689,
      "outputs": [
        {
          "output_type": "execute_result",
          "data": {
            "text/html": [
              "<div>\n",
              "<style scoped>\n",
              "    .dataframe tbody tr th:only-of-type {\n",
              "        vertical-align: middle;\n",
              "    }\n",
              "\n",
              "    .dataframe tbody tr th {\n",
              "        vertical-align: top;\n",
              "    }\n",
              "\n",
              "    .dataframe thead th {\n",
              "        text-align: right;\n",
              "    }\n",
              "</style>\n",
              "<table border=\"1\" class=\"dataframe\">\n",
              "  <thead>\n",
              "    <tr style=\"text-align: right;\">\n",
              "      <th></th>\n",
              "      <th>0</th>\n",
              "    </tr>\n",
              "  </thead>\n",
              "  <tbody>\n",
              "    <tr>\n",
              "      <th>0</th>\n",
              "      <td>[\\n475,000₫\\n,</td>\n",
              "    </tr>\n",
              "    <tr>\n",
              "      <th>1</th>\n",
              "      <td>\\n475,000₫\\n,</td>\n",
              "    </tr>\n",
              "    <tr>\n",
              "      <th>2</th>\n",
              "      <td>\\n475,000₫\\n,</td>\n",
              "    </tr>\n",
              "    <tr>\n",
              "      <th>3</th>\n",
              "      <td>\\n699,000₫\\n,</td>\n",
              "    </tr>\n",
              "    <tr>\n",
              "      <th>4</th>\n",
              "      <td>\\n699,000₫\\n,</td>\n",
              "    </tr>\n",
              "  </tbody>\n",
              "</table>\n",
              "</div>"
            ],
            "text/plain": [
              "                0\n",
              "0  [\\n475,000₫\\n,\n",
              "1   \\n475,000₫\\n,\n",
              "2   \\n475,000₫\\n,\n",
              "3   \\n699,000₫\\n,\n",
              "4   \\n699,000₫\\n,"
            ]
          },
          "metadata": {},
          "execution_count": 689
        }
      ]
    },
    {
      "cell_type": "markdown",
      "metadata": {
        "id": "IMduztwRRu4W"
      },
      "source": [
        "Xử lý df"
      ]
    },
    {
      "cell_type": "code",
      "metadata": {
        "id": "Ntm9IlaLRiRr",
        "colab": {
          "base_uri": "https://localhost:8080/",
          "height": 142
        },
        "outputId": "afedabae-c52e-46d4-b78d-153de5db5305"
      },
      "source": [
        "df=df.reset_index()\n",
        "df.head(3)"
      ],
      "execution_count": 690,
      "outputs": [
        {
          "output_type": "execute_result",
          "data": {
            "text/html": [
              "<div>\n",
              "<style scoped>\n",
              "    .dataframe tbody tr th:only-of-type {\n",
              "        vertical-align: middle;\n",
              "    }\n",
              "\n",
              "    .dataframe tbody tr th {\n",
              "        vertical-align: top;\n",
              "    }\n",
              "\n",
              "    .dataframe thead th {\n",
              "        text-align: right;\n",
              "    }\n",
              "</style>\n",
              "<table border=\"1\" class=\"dataframe\">\n",
              "  <thead>\n",
              "    <tr style=\"text-align: right;\">\n",
              "      <th></th>\n",
              "      <th>level_0</th>\n",
              "      <th>level_1</th>\n",
              "      <th>0</th>\n",
              "    </tr>\n",
              "  </thead>\n",
              "  <tbody>\n",
              "    <tr>\n",
              "      <th>0</th>\n",
              "      <td>0</td>\n",
              "      <td>0</td>\n",
              "      <td>[Áo len nam Biluxury 5ALRT001TRK</td>\n",
              "    </tr>\n",
              "    <tr>\n",
              "      <th>1</th>\n",
              "      <td>1</td>\n",
              "      <td>0</td>\n",
              "      <td>Áo len nam Biluxury 5ALRT001TTS</td>\n",
              "    </tr>\n",
              "    <tr>\n",
              "      <th>2</th>\n",
              "      <td>2</td>\n",
              "      <td>0</td>\n",
              "      <td>Áo len nam Biluxury 5ALRT001DEN</td>\n",
              "    </tr>\n",
              "  </tbody>\n",
              "</table>\n",
              "</div>"
            ],
            "text/plain": [
              "   level_0  level_1                                 0\n",
              "0        0        0  [Áo len nam Biluxury 5ALRT001TRK\n",
              "1        1        0   Áo len nam Biluxury 5ALRT001TTS\n",
              "2        2        0   Áo len nam Biluxury 5ALRT001DEN"
            ]
          },
          "metadata": {},
          "execution_count": 690
        }
      ]
    },
    {
      "cell_type": "code",
      "metadata": {
        "id": "IwOlfNhkR615"
      },
      "source": [
        "del df['level_0']\n",
        "del df['level_1']"
      ],
      "execution_count": 691,
      "outputs": []
    },
    {
      "cell_type": "markdown",
      "metadata": {
        "id": "3K8wi2mJVJz2"
      },
      "source": [
        "Đổi tên cột"
      ]
    },
    {
      "cell_type": "code",
      "metadata": {
        "id": "fo4WujrJSLWr"
      },
      "source": [
        "df=df.set_axis(['T-Shirt Name'],axis=1,inplace=False)"
      ],
      "execution_count": 692,
      "outputs": []
    },
    {
      "cell_type": "code",
      "metadata": {
        "id": "C9UNl_2XU-tm"
      },
      "source": [
        "df2=df2.set_axis(['Product Price'],axis=1,inplace=False)"
      ],
      "execution_count": 693,
      "outputs": []
    },
    {
      "cell_type": "code",
      "metadata": {
        "id": "Vur-zd5PVIqk"
      },
      "source": [
        "df3=df3.set_axis(['Product Sold'],axis=1,inplace=False)"
      ],
      "execution_count": 694,
      "outputs": []
    },
    {
      "cell_type": "code",
      "metadata": {
        "id": "8klW9oxiV9ed"
      },
      "source": [
        "product_tshirt=pd.concat([df,df2,df3],axis=1)"
      ],
      "execution_count": 695,
      "outputs": []
    },
    {
      "cell_type": "code",
      "metadata": {
        "id": "VEisR0jtPCna",
        "outputId": "a1a923ba-e57d-4794-94af-4a5276c5c775",
        "colab": {
          "base_uri": "https://localhost:8080/",
          "height": 204
        }
      },
      "source": [
        "product_tshirt.head(5)"
      ],
      "execution_count": 696,
      "outputs": [
        {
          "output_type": "execute_result",
          "data": {
            "text/html": [
              "<div>\n",
              "<style scoped>\n",
              "    .dataframe tbody tr th:only-of-type {\n",
              "        vertical-align: middle;\n",
              "    }\n",
              "\n",
              "    .dataframe tbody tr th {\n",
              "        vertical-align: top;\n",
              "    }\n",
              "\n",
              "    .dataframe thead th {\n",
              "        text-align: right;\n",
              "    }\n",
              "</style>\n",
              "<table border=\"1\" class=\"dataframe\">\n",
              "  <thead>\n",
              "    <tr style=\"text-align: right;\">\n",
              "      <th></th>\n",
              "      <th>T-Shirt Name</th>\n",
              "      <th>Product Price</th>\n",
              "      <th>Product Sold</th>\n",
              "    </tr>\n",
              "  </thead>\n",
              "  <tbody>\n",
              "    <tr>\n",
              "      <th>0</th>\n",
              "      <td>[Áo len nam Biluxury 5ALRT001TRK</td>\n",
              "      <td>[\\n475,000₫\\n,</td>\n",
              "      <td>[   (100 đã bán)</td>\n",
              "    </tr>\n",
              "    <tr>\n",
              "      <th>1</th>\n",
              "      <td>Áo len nam Biluxury 5ALRT001TTS</td>\n",
              "      <td>\\n475,000₫\\n,</td>\n",
              "      <td>(101 đã bán)</td>\n",
              "    </tr>\n",
              "    <tr>\n",
              "      <th>2</th>\n",
              "      <td>Áo len nam Biluxury 5ALRT001DEN</td>\n",
              "      <td>\\n475,000₫\\n,</td>\n",
              "      <td>(100 đã bán)</td>\n",
              "    </tr>\n",
              "    <tr>\n",
              "      <th>3</th>\n",
              "      <td>Áo khoác gió 5AG2T004GHS</td>\n",
              "      <td>\\n699,000₫\\n,</td>\n",
              "      <td>(102 đã bán)</td>\n",
              "    </tr>\n",
              "    <tr>\n",
              "      <th>4</th>\n",
              "      <td>Áo khoác gió 5AG2T004CAM</td>\n",
              "      <td>\\n699,000₫\\n,</td>\n",
              "      <td>(101 đã bán)</td>\n",
              "    </tr>\n",
              "  </tbody>\n",
              "</table>\n",
              "</div>"
            ],
            "text/plain": [
              "                       T-Shirt Name   Product Price      Product Sold\n",
              "0  [Áo len nam Biluxury 5ALRT001TRK  [\\n475,000₫\\n,  [   (100 đã bán)\n",
              "1   Áo len nam Biluxury 5ALRT001TTS   \\n475,000₫\\n,      (101 đã bán)\n",
              "2   Áo len nam Biluxury 5ALRT001DEN   \\n475,000₫\\n,      (100 đã bán)\n",
              "3          Áo khoác gió 5AG2T004GHS   \\n699,000₫\\n,      (102 đã bán)\n",
              "4          Áo khoác gió 5AG2T004CAM   \\n699,000₫\\n,      (101 đã bán)"
            ]
          },
          "metadata": {},
          "execution_count": 696
        }
      ]
    },
    {
      "cell_type": "code",
      "metadata": {
        "id": "p9gNHnorUTI5"
      },
      "source": [
        "product_tshirt['T-Shirt Name']=product_tshirt['T-Shirt Name'].str.strip('[]')\n",
        "product_tshirt['Product Price']=product_tshirt['Product Price'].str.strip('[\\n]')\n",
        "product_tshirt['Product Price']=product_tshirt['Product Price'].str.strip('\\n,')\n",
        "product_tshirt['Product Sold']=product_tshirt['Product Sold'].str.strip('[)]')\n",
        "product_tshirt['Product Sold']=product_tshirt['Product Sold'].str.strip(' (')"
      ],
      "execution_count": 697,
      "outputs": []
    },
    {
      "cell_type": "code",
      "metadata": {
        "id": "hK5eztBjUbxJ",
        "outputId": "0a71ceda-09fb-4cff-93f5-b29e4db58c30",
        "colab": {
          "base_uri": "https://localhost:8080/",
          "height": 1000
        }
      },
      "source": [
        "product_tshirt"
      ],
      "execution_count": 698,
      "outputs": [
        {
          "output_type": "execute_result",
          "data": {
            "text/html": [
              "<div>\n",
              "<style scoped>\n",
              "    .dataframe tbody tr th:only-of-type {\n",
              "        vertical-align: middle;\n",
              "    }\n",
              "\n",
              "    .dataframe tbody tr th {\n",
              "        vertical-align: top;\n",
              "    }\n",
              "\n",
              "    .dataframe thead th {\n",
              "        text-align: right;\n",
              "    }\n",
              "</style>\n",
              "<table border=\"1\" class=\"dataframe\">\n",
              "  <thead>\n",
              "    <tr style=\"text-align: right;\">\n",
              "      <th></th>\n",
              "      <th>T-Shirt Name</th>\n",
              "      <th>Product Price</th>\n",
              "      <th>Product Sold</th>\n",
              "    </tr>\n",
              "  </thead>\n",
              "  <tbody>\n",
              "    <tr>\n",
              "      <th>0</th>\n",
              "      <td>Áo len nam Biluxury 5ALRT001TRK</td>\n",
              "      <td>475,000₫</td>\n",
              "      <td>100 đã bán</td>\n",
              "    </tr>\n",
              "    <tr>\n",
              "      <th>1</th>\n",
              "      <td>Áo len nam Biluxury 5ALRT001TTS</td>\n",
              "      <td>475,000₫</td>\n",
              "      <td>101 đã bán</td>\n",
              "    </tr>\n",
              "    <tr>\n",
              "      <th>2</th>\n",
              "      <td>Áo len nam Biluxury 5ALRT001DEN</td>\n",
              "      <td>475,000₫</td>\n",
              "      <td>100 đã bán</td>\n",
              "    </tr>\n",
              "    <tr>\n",
              "      <th>3</th>\n",
              "      <td>Áo khoác gió 5AG2T004GHS</td>\n",
              "      <td>699,000₫</td>\n",
              "      <td>102 đã bán</td>\n",
              "    </tr>\n",
              "    <tr>\n",
              "      <th>4</th>\n",
              "      <td>Áo khoác gió 5AG2T004CAM</td>\n",
              "      <td>699,000₫</td>\n",
              "      <td>101 đã bán</td>\n",
              "    </tr>\n",
              "    <tr>\n",
              "      <th>5</th>\n",
              "      <td>Áo khoác gió 5AG2T004DEN</td>\n",
              "      <td>699,000₫</td>\n",
              "      <td>104 đã bán</td>\n",
              "    </tr>\n",
              "    <tr>\n",
              "      <th>6</th>\n",
              "      <td>Áo khoác gió 5AG2T007GHS</td>\n",
              "      <td>695,000₫</td>\n",
              "      <td>103 đã bán</td>\n",
              "    </tr>\n",
              "    <tr>\n",
              "      <th>7</th>\n",
              "      <td>Áo khoác gió 2 lớp 4AG2H009DEN</td>\n",
              "      <td>735,000₫</td>\n",
              "      <td>102 đã bán</td>\n",
              "    </tr>\n",
              "    <tr>\n",
              "      <th>8</th>\n",
              "      <td>Áo khoác gió 5AG2T004TTS</td>\n",
              "      <td>469,000₫</td>\n",
              "      <td>103 đã bán</td>\n",
              "    </tr>\n",
              "    <tr>\n",
              "      <th>9</th>\n",
              "      <td>Áo khoác gió 5AG2T009DEN</td>\n",
              "      <td>699,000₫</td>\n",
              "      <td>102 đã bán</td>\n",
              "    </tr>\n",
              "    <tr>\n",
              "      <th>10</th>\n",
              "      <td>Áo khoác gió 4AG2T007REU</td>\n",
              "      <td>799,000₫</td>\n",
              "      <td>136 đã bán</td>\n",
              "    </tr>\n",
              "    <tr>\n",
              "      <th>11</th>\n",
              "      <td>Áo nỉ thể thao cao cấp 4ANOT008GHT</td>\n",
              "      <td>399,000₫</td>\n",
              "      <td>108 đã bán</td>\n",
              "    </tr>\n",
              "    <tr>\n",
              "      <th>12</th>\n",
              "      <td>Áo nỉ thể thao cao cấp 4ANOT012VAB</td>\n",
              "      <td>945,000₫</td>\n",
              "      <td>102 đã bán</td>\n",
              "    </tr>\n",
              "    <tr>\n",
              "      <th>13</th>\n",
              "      <td>Áo vest nam Biluxury 5AVBC007DEN</td>\n",
              "      <td>249,000₫</td>\n",
              "      <td>100 đã bán</td>\n",
              "    </tr>\n",
              "    <tr>\n",
              "      <th>14</th>\n",
              "      <td>Áo vest nam Biluxury 5AVBC008DEN</td>\n",
              "      <td>398,000₫</td>\n",
              "      <td>100 đã bán</td>\n",
              "    </tr>\n",
              "    <tr>\n",
              "      <th>15</th>\n",
              "      <td>Áo len nam Biluxury 5ALRH002TTS</td>\n",
              "      <td>249,000₫</td>\n",
              "      <td>103 đã bán</td>\n",
              "    </tr>\n",
              "    <tr>\n",
              "      <th>16</th>\n",
              "      <td>Áo len nam Biluxury 5ALRH001GHS</td>\n",
              "      <td>389,000₫</td>\n",
              "      <td>103 đã bán</td>\n",
              "    </tr>\n",
              "    <tr>\n",
              "      <th>17</th>\n",
              "      <td>Áo khoác gió 5AG2T007TTT</td>\n",
              "      <td>1,690,000₫</td>\n",
              "      <td>110 đã bán</td>\n",
              "    </tr>\n",
              "    <tr>\n",
              "      <th>18</th>\n",
              "      <td>Áo khoác gió 5AG2T009XAH</td>\n",
              "      <td>1,865,000₫</td>\n",
              "      <td>112 đã bán</td>\n",
              "    </tr>\n",
              "    <tr>\n",
              "      <th>19</th>\n",
              "      <td>Áo Thun giữ nhiệt Biluxury 5ATOB001XDM</td>\n",
              "      <td>525,000₫</td>\n",
              "      <td>153 đã bán</td>\n",
              "    </tr>\n",
              "    <tr>\n",
              "      <th>20</th>\n",
              "      <td>Áo Thun giữ nhiệt Biluxury 5ATOB001TTT</td>\n",
              "      <td>535,000₫</td>\n",
              "      <td>134 đã bán</td>\n",
              "    </tr>\n",
              "    <tr>\n",
              "      <th>21</th>\n",
              "      <td>Áo Thun giữ nhiệt Biluxury 5ATOB001TRK</td>\n",
              "      <td>695,000₫</td>\n",
              "      <td>131 đã bán</td>\n",
              "    </tr>\n",
              "    <tr>\n",
              "      <th>22</th>\n",
              "      <td>Áo Thun giữ nhiệt Biluxury 5ATOB001GHT</td>\n",
              "      <td>799,000₫</td>\n",
              "      <td>134 đã bán</td>\n",
              "    </tr>\n",
              "    <tr>\n",
              "      <th>23</th>\n",
              "      <td>Áo Thun giữ nhiệt Biluxury 5ATOB001GHS</td>\n",
              "      <td>99,000₫</td>\n",
              "      <td>132 đã bán</td>\n",
              "    </tr>\n",
              "    <tr>\n",
              "      <th>24</th>\n",
              "      <td>NaN</td>\n",
              "      <td>279,000₫</td>\n",
              "      <td>NaN</td>\n",
              "    </tr>\n",
              "    <tr>\n",
              "      <th>25</th>\n",
              "      <td>NaN</td>\n",
              "      <td>99,000₫</td>\n",
              "      <td>NaN</td>\n",
              "    </tr>\n",
              "    <tr>\n",
              "      <th>26</th>\n",
              "      <td>NaN</td>\n",
              "      <td>279,000₫</td>\n",
              "      <td>NaN</td>\n",
              "    </tr>\n",
              "    <tr>\n",
              "      <th>27</th>\n",
              "      <td>NaN</td>\n",
              "      <td>99,000₫</td>\n",
              "      <td>NaN</td>\n",
              "    </tr>\n",
              "    <tr>\n",
              "      <th>28</th>\n",
              "      <td>NaN</td>\n",
              "      <td>279,000₫</td>\n",
              "      <td>NaN</td>\n",
              "    </tr>\n",
              "    <tr>\n",
              "      <th>29</th>\n",
              "      <td>NaN</td>\n",
              "      <td>99,000₫</td>\n",
              "      <td>NaN</td>\n",
              "    </tr>\n",
              "    <tr>\n",
              "      <th>30</th>\n",
              "      <td>NaN</td>\n",
              "      <td>279,000₫</td>\n",
              "      <td>NaN</td>\n",
              "    </tr>\n",
              "    <tr>\n",
              "      <th>31</th>\n",
              "      <td>NaN</td>\n",
              "      <td>99,000₫</td>\n",
              "      <td>NaN</td>\n",
              "    </tr>\n",
              "    <tr>\n",
              "      <th>32</th>\n",
              "      <td>NaN</td>\n",
              "      <td>279,000₫</td>\n",
              "      <td>NaN</td>\n",
              "    </tr>\n",
              "  </tbody>\n",
              "</table>\n",
              "</div>"
            ],
            "text/plain": [
              "                               T-Shirt Name Product Price Product Sold\n",
              "0           Áo len nam Biluxury 5ALRT001TRK      475,000₫   100 đã bán\n",
              "1           Áo len nam Biluxury 5ALRT001TTS      475,000₫   101 đã bán\n",
              "2           Áo len nam Biluxury 5ALRT001DEN      475,000₫   100 đã bán\n",
              "3                  Áo khoác gió 5AG2T004GHS      699,000₫   102 đã bán\n",
              "4                  Áo khoác gió 5AG2T004CAM      699,000₫   101 đã bán\n",
              "5                  Áo khoác gió 5AG2T004DEN      699,000₫   104 đã bán\n",
              "6                  Áo khoác gió 5AG2T007GHS      695,000₫   103 đã bán\n",
              "7            Áo khoác gió 2 lớp 4AG2H009DEN      735,000₫   102 đã bán\n",
              "8                  Áo khoác gió 5AG2T004TTS      469,000₫   103 đã bán\n",
              "9                  Áo khoác gió 5AG2T009DEN      699,000₫   102 đã bán\n",
              "10                 Áo khoác gió 4AG2T007REU      799,000₫   136 đã bán\n",
              "11       Áo nỉ thể thao cao cấp 4ANOT008GHT      399,000₫   108 đã bán\n",
              "12       Áo nỉ thể thao cao cấp 4ANOT012VAB      945,000₫   102 đã bán\n",
              "13         Áo vest nam Biluxury 5AVBC007DEN      249,000₫   100 đã bán\n",
              "14         Áo vest nam Biluxury 5AVBC008DEN      398,000₫   100 đã bán\n",
              "15          Áo len nam Biluxury 5ALRH002TTS      249,000₫   103 đã bán\n",
              "16          Áo len nam Biluxury 5ALRH001GHS      389,000₫   103 đã bán\n",
              "17                 Áo khoác gió 5AG2T007TTT    1,690,000₫   110 đã bán\n",
              "18                 Áo khoác gió 5AG2T009XAH    1,865,000₫   112 đã bán\n",
              "19   Áo Thun giữ nhiệt Biluxury 5ATOB001XDM      525,000₫   153 đã bán\n",
              "20   Áo Thun giữ nhiệt Biluxury 5ATOB001TTT      535,000₫   134 đã bán\n",
              "21   Áo Thun giữ nhiệt Biluxury 5ATOB001TRK      695,000₫   131 đã bán\n",
              "22   Áo Thun giữ nhiệt Biluxury 5ATOB001GHT      799,000₫   134 đã bán\n",
              "23   Áo Thun giữ nhiệt Biluxury 5ATOB001GHS       99,000₫   132 đã bán\n",
              "24                                      NaN      279,000₫          NaN\n",
              "25                                      NaN       99,000₫          NaN\n",
              "26                                      NaN      279,000₫          NaN\n",
              "27                                      NaN       99,000₫          NaN\n",
              "28                                      NaN      279,000₫          NaN\n",
              "29                                      NaN       99,000₫          NaN\n",
              "30                                      NaN      279,000₫          NaN\n",
              "31                                      NaN       99,000₫          NaN\n",
              "32                                      NaN      279,000₫          NaN"
            ]
          },
          "metadata": {},
          "execution_count": 698
        }
      ]
    }
  ]
}