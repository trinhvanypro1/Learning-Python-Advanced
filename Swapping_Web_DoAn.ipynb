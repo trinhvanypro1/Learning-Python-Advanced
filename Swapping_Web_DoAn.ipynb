{
  "nbformat": 4,
  "nbformat_minor": 0,
  "metadata": {
    "colab": {
      "name": "Swapping Web DoAn.ipynb",
      "provenance": [],
      "authorship_tag": "ABX9TyOkMb+v2wYtxnzQavAkG58p",
      "include_colab_link": true
    },
    "kernelspec": {
      "name": "python3",
      "display_name": "Python 3"
    },
    "language_info": {
      "name": "python"
    }
  },
  "cells": [
    {
      "cell_type": "markdown",
      "metadata": {
        "id": "view-in-github",
        "colab_type": "text"
      },
      "source": [
        "<a href=\"https://colab.research.google.com/github/trinhvanypro1/Learning-Python-Advanced/blob/master/Swapping_Web_DoAn.ipynb\" target=\"_parent\"><img src=\"https://colab.research.google.com/assets/colab-badge.svg\" alt=\"Open In Colab\"/></a>"
      ]
    },
    {
      "cell_type": "markdown",
      "metadata": {
        "id": "4dJGn7JvpU6M"
      },
      "source": [
        "***Import các module cần thiết***"
      ]
    },
    {
      "cell_type": "code",
      "metadata": {
        "id": "_EGfQsdmbPL3"
      },
      "source": [
        "import pandas as pd\n",
        "import numpy as np\n",
        "import matplotlib.pyplot as plt\n",
        "import seaborn as sns\n",
        "%matplotlib inline\n",
        "from urllib.request import urlopen\n",
        "from bs4 import BeautifulSoup"
      ],
      "execution_count": 108,
      "outputs": []
    },
    {
      "cell_type": "markdown",
      "metadata": {
        "id": "3tDyL6i0png3"
      },
      "source": [
        "***import link và khởi tạo module BeautifulSoup***"
      ]
    },
    {
      "cell_type": "code",
      "metadata": {
        "id": "Qbm08ppMbTQD"
      },
      "source": [
        "url='https://biluxury.vn/collections/ao-nam'\n",
        "html=urlopen(url)\n",
        "soup=BeautifulSoup(html,'lxml')"
      ],
      "execution_count": 109,
      "outputs": []
    },
    {
      "cell_type": "code",
      "metadata": {
        "colab": {
          "base_uri": "https://localhost:8080/"
        },
        "id": "i03ZJW2IcaSn",
        "outputId": "5126c59c-6f59-4549-e0b2-55bec454b488"
      },
      "source": [
        "title=soup.title\n",
        "print(title)"
      ],
      "execution_count": 110,
      "outputs": [
        {
          "output_type": "stream",
          "name": "stdout",
          "text": [
            "<title>\n",
            "\t\t\tÁo nam\n",
            "\t\t</title>\n"
          ]
        }
      ]
    },
    {
      "cell_type": "markdown",
      "metadata": {
        "id": "9A1uEyQRpx1Q"
      },
      "source": [
        "***Lấy dữ liệu html từ sản phẩm áo***"
      ]
    },
    {
      "cell_type": "code",
      "metadata": {
        "id": "pUqhvh4VemMp"
      },
      "source": [
        "list_ao=soup.find_all('div', attrs={'class':'grid-uniform product-list md-mg-left-15 d-flex-wrap'})"
      ],
      "execution_count": 111,
      "outputs": []
    },
    {
      "cell_type": "markdown",
      "metadata": {
        "id": "p6wn4iv1p7eX"
      },
      "source": [
        "Lấy dữ liệu "
      ]
    },
    {
      "cell_type": "code",
      "metadata": {
        "id": "cjtD2IyqgunW"
      },
      "source": [
        "# Tên sản phẩm:\n",
        "for i in list_ao:\n",
        "  sp=i.find_all('h3',attrs={'class':\"product-title\"})\n",
        "  str_sp=str(sp)\n",
        "  list_sp=[]\n",
        "  import re\n",
        "  clean=re.compile('<.*?>')\n",
        "  clean2=(re.sub(clean, '',str_sp))\n",
        "  list_sp.append(clean2)"
      ],
      "execution_count": 112,
      "outputs": []
    },
    {
      "cell_type": "code",
      "metadata": {
        "id": "iHaz_j4me_up",
        "outputId": "f9d382b4-dab0-401a-919a-7d004f72afde",
        "colab": {
          "base_uri": "https://localhost:8080/"
        }
      },
      "source": [
        "clean"
      ],
      "execution_count": 113,
      "outputs": [
        {
          "output_type": "execute_result",
          "data": {
            "text/plain": [
              "re.compile(r'<.*?>', re.UNICODE)"
            ]
          },
          "metadata": {},
          "execution_count": 113
        }
      ]
    },
    {
      "cell_type": "code",
      "metadata": {
        "id": "GmGJDvrkjOIn"
      },
      "source": [
        "#Giá sản phẩm:\n",
        "for j in list_ao:\n",
        "  gia=j.find_all('div',attrs={'class':'product-price'})\n",
        "  str_gia=str(gia)\n",
        "  list_gia=[]\n",
        "  import re\n",
        "  clean_gia=re.compile('<.*?>')\n",
        "  clean_gia2=(re.sub(clean_gia, '',str_gia))\n",
        "  list_gia.append(clean_gia2)"
      ],
      "execution_count": 114,
      "outputs": []
    },
    {
      "cell_type": "code",
      "metadata": {
        "id": "X_0FzYr2nzGU"
      },
      "source": [
        "#Số lượng bán:\n",
        "for k in list_ao:\n",
        "  sl_ban=k.find_all('div',attrs={'class':'product-sold'})\n",
        "  str_sl_ban=str(sl_ban)\n",
        "  list_sl_ban=[]\n",
        "  import re\n",
        "  clean_sl_ban=re.compile('<.*?>')\n",
        "  clean_sl_ban2=(re.sub(clean_sl_ban,'',str_sl_ban))\n",
        "  list_sl_ban.append(clean_sl_ban2)"
      ],
      "execution_count": 115,
      "outputs": []
    },
    {
      "cell_type": "markdown",
      "metadata": {
        "id": "_pg2KNQZrmdc"
      },
      "source": [
        "***In dữ liệu:***\n",
        "\n",
        "> Văn bản được thụt lề\n",
        "\n"
      ]
    },
    {
      "cell_type": "code",
      "metadata": {
        "colab": {
          "base_uri": "https://localhost:8080/"
        },
        "id": "c2MV7wYRiVZE",
        "outputId": "9b0d6949-d6c0-4f4a-b3f2-f4585377fd48"
      },
      "source": [
        "list_sp"
      ],
      "execution_count": 116,
      "outputs": [
        {
          "output_type": "execute_result",
          "data": {
            "text/plain": [
              "['[Áo len nam Biluxury 5ALRT001TRK, Áo len nam Biluxury 5ALRT001TTS, Áo len nam Biluxury 5ALRT001DEN, Áo khoác gió 5AG2T004GHS, Áo khoác gió 5AG2T004CAM, Áo khoác gió 5AG2T004DEN, Áo khoác gió 5AG2T007GHS, Áo khoác gió 2 lớp 4AG2H009DEN, Áo khoác gió 5AG2T004TTS, Áo khoác gió 5AG2T009DEN, Áo khoác gió 4AG2T007REU, Áo nỉ thể thao cao cấp 4ANOT008GHT, Áo nỉ thể thao cao cấp 4ANOT012VAB, Áo vest nam Biluxury 5AVBC007DEN, Áo vest nam Biluxury 5AVBC008DEN, Áo len nam Biluxury 5ALRH002TTS, Áo len nam Biluxury 5ALRH001GHS, Áo khoác gió 5AG2T007TTT, Áo khoác gió 5AG2T009XAH, Áo khoác gió 5AG2T007DEN, Áo khoác gió 5AG2T001XAH, Áo khoác gió 5AG2T001TTT, Áo khoác gió 5AG2T001GHS, Áo len nam Biluxury 5ALRB001XCB]']"
            ]
          },
          "metadata": {},
          "execution_count": 116
        }
      ]
    },
    {
      "cell_type": "code",
      "metadata": {
        "id": "EkZNDkGKnpGR",
        "colab": {
          "base_uri": "https://localhost:8080/"
        },
        "outputId": "f85c1a8d-aaaf-42e4-e2ee-620acac2ef14"
      },
      "source": [
        "list_gia"
      ],
      "execution_count": 117,
      "outputs": [
        {
          "output_type": "execute_result",
          "data": {
            "text/plain": [
              "['[\\n475,000₫\\n, \\n475,000₫\\n, \\n475,000₫\\n, \\n699,000₫\\n, \\n699,000₫\\n, \\n699,000₫\\n, \\n695,000₫\\n, \\n735,000₫\\n, \\n699,000₫\\n, \\n799,000₫\\n, \\n399,000₫ 945,000₫\\n, \\n249,000₫ 398,000₫\\n, \\n249,000₫ 389,000₫\\n, \\n1,690,000₫\\n, \\n1,865,000₫\\n, \\n525,000₫\\n, \\n535,000₫\\n, \\n695,000₫\\n, \\n799,000₫\\n, \\n695,000₫\\n, \\n695,000₫\\n, \\n695,000₫\\n, \\n695,000₫\\n, \\n449,000₫\\n]']"
            ]
          },
          "metadata": {},
          "execution_count": 117
        }
      ]
    },
    {
      "cell_type": "code",
      "metadata": {
        "id": "DUbrKOF6oqm2",
        "colab": {
          "base_uri": "https://localhost:8080/"
        },
        "outputId": "4a6c4601-2973-4cbe-c888-e152e7c10929"
      },
      "source": [
        "list_sl_ban"
      ],
      "execution_count": 118,
      "outputs": [
        {
          "output_type": "execute_result",
          "data": {
            "text/plain": [
              "['[   (103 đã bán),    (101 đã bán),    (102 đã bán),    (102 đã bán),    (101 đã bán),    (104 đã bán),    (104 đã bán),    (102 đã bán),    (106 đã bán),    (103 đã bán),    (140 đã bán),    (109 đã bán),    (102 đã bán),    (100 đã bán),    (100 đã bán),    (106 đã bán),    (105 đã bán),    (113 đã bán),    (111 đã bán),    (111 đã bán),    (110 đã bán),    (104 đã bán),    (103 đã bán),    (100 đã bán)]']"
            ]
          },
          "metadata": {},
          "execution_count": 118
        }
      ]
    },
    {
      "cell_type": "markdown",
      "metadata": {
        "id": "dHxQ7INSrpK_"
      },
      "source": [
        "***Tạo DataFrame***"
      ]
    },
    {
      "cell_type": "code",
      "metadata": {
        "colab": {
          "base_uri": "https://localhost:8080/",
          "height": 80
        },
        "id": "cm-VR3LZiYoj",
        "outputId": "cf843337-853e-43e4-c08b-9a83a51c236f"
      },
      "source": [
        "df=pd.DataFrame(list_sp)\n",
        "df\n"
      ],
      "execution_count": 119,
      "outputs": [
        {
          "output_type": "execute_result",
          "data": {
            "text/html": [
              "<div>\n",
              "<style scoped>\n",
              "    .dataframe tbody tr th:only-of-type {\n",
              "        vertical-align: middle;\n",
              "    }\n",
              "\n",
              "    .dataframe tbody tr th {\n",
              "        vertical-align: top;\n",
              "    }\n",
              "\n",
              "    .dataframe thead th {\n",
              "        text-align: right;\n",
              "    }\n",
              "</style>\n",
              "<table border=\"1\" class=\"dataframe\">\n",
              "  <thead>\n",
              "    <tr style=\"text-align: right;\">\n",
              "      <th></th>\n",
              "      <th>0</th>\n",
              "    </tr>\n",
              "  </thead>\n",
              "  <tbody>\n",
              "    <tr>\n",
              "      <th>0</th>\n",
              "      <td>[Áo len nam Biluxury 5ALRT001TRK, Áo len nam B...</td>\n",
              "    </tr>\n",
              "  </tbody>\n",
              "</table>\n",
              "</div>"
            ],
            "text/plain": [
              "                                                   0\n",
              "0  [Áo len nam Biluxury 5ALRT001TRK, Áo len nam B..."
            ]
          },
          "metadata": {},
          "execution_count": 119
        }
      ]
    },
    {
      "cell_type": "code",
      "metadata": {
        "id": "LAapG5JmrutP",
        "colab": {
          "base_uri": "https://localhost:8080/",
          "height": 80
        },
        "outputId": "863e9d7c-a1e2-433f-f2f6-2af76a04a267"
      },
      "source": [
        "df2=pd.DataFrame(list_gia)\n",
        "df2"
      ],
      "execution_count": 120,
      "outputs": [
        {
          "output_type": "execute_result",
          "data": {
            "text/html": [
              "<div>\n",
              "<style scoped>\n",
              "    .dataframe tbody tr th:only-of-type {\n",
              "        vertical-align: middle;\n",
              "    }\n",
              "\n",
              "    .dataframe tbody tr th {\n",
              "        vertical-align: top;\n",
              "    }\n",
              "\n",
              "    .dataframe thead th {\n",
              "        text-align: right;\n",
              "    }\n",
              "</style>\n",
              "<table border=\"1\" class=\"dataframe\">\n",
              "  <thead>\n",
              "    <tr style=\"text-align: right;\">\n",
              "      <th></th>\n",
              "      <th>0</th>\n",
              "    </tr>\n",
              "  </thead>\n",
              "  <tbody>\n",
              "    <tr>\n",
              "      <th>0</th>\n",
              "      <td>[\\n475,000₫\\n, \\n475,000₫\\n, \\n475,000₫\\n, \\n6...</td>\n",
              "    </tr>\n",
              "  </tbody>\n",
              "</table>\n",
              "</div>"
            ],
            "text/plain": [
              "                                                   0\n",
              "0  [\\n475,000₫\\n, \\n475,000₫\\n, \\n475,000₫\\n, \\n6..."
            ]
          },
          "metadata": {},
          "execution_count": 120
        }
      ]
    },
    {
      "cell_type": "code",
      "metadata": {
        "id": "QFRPi651r6HZ",
        "colab": {
          "base_uri": "https://localhost:8080/",
          "height": 80
        },
        "outputId": "551867af-6b02-4473-a50a-02191b569428"
      },
      "source": [
        "df3=pd.DataFrame(list_sl_ban)\n",
        "df3"
      ],
      "execution_count": 121,
      "outputs": [
        {
          "output_type": "execute_result",
          "data": {
            "text/html": [
              "<div>\n",
              "<style scoped>\n",
              "    .dataframe tbody tr th:only-of-type {\n",
              "        vertical-align: middle;\n",
              "    }\n",
              "\n",
              "    .dataframe tbody tr th {\n",
              "        vertical-align: top;\n",
              "    }\n",
              "\n",
              "    .dataframe thead th {\n",
              "        text-align: right;\n",
              "    }\n",
              "</style>\n",
              "<table border=\"1\" class=\"dataframe\">\n",
              "  <thead>\n",
              "    <tr style=\"text-align: right;\">\n",
              "      <th></th>\n",
              "      <th>0</th>\n",
              "    </tr>\n",
              "  </thead>\n",
              "  <tbody>\n",
              "    <tr>\n",
              "      <th>0</th>\n",
              "      <td>[   (103 đã bán),    (101 đã bán),    (102 đã ...</td>\n",
              "    </tr>\n",
              "  </tbody>\n",
              "</table>\n",
              "</div>"
            ],
            "text/plain": [
              "                                                   0\n",
              "0  [   (103 đã bán),    (101 đã bán),    (102 đã ..."
            ]
          },
          "metadata": {},
          "execution_count": 121
        }
      ]
    },
    {
      "cell_type": "markdown",
      "metadata": {
        "id": "vJHD_X2kr42X"
      },
      "source": [
        "***Tách giá trị***"
      ]
    },
    {
      "cell_type": "code",
      "metadata": {
        "colab": {
          "base_uri": "https://localhost:8080/",
          "height": 134
        },
        "id": "iJ01GXFiipo5",
        "outputId": "793eba2e-6b28-4991-d951-490c90cbfd60"
      },
      "source": [
        "df=df[0].str.split(',',expand=True)\n",
        "df.head(7)"
      ],
      "execution_count": 122,
      "outputs": [
        {
          "output_type": "execute_result",
          "data": {
            "text/html": [
              "<div>\n",
              "<style scoped>\n",
              "    .dataframe tbody tr th:only-of-type {\n",
              "        vertical-align: middle;\n",
              "    }\n",
              "\n",
              "    .dataframe tbody tr th {\n",
              "        vertical-align: top;\n",
              "    }\n",
              "\n",
              "    .dataframe thead th {\n",
              "        text-align: right;\n",
              "    }\n",
              "</style>\n",
              "<table border=\"1\" class=\"dataframe\">\n",
              "  <thead>\n",
              "    <tr style=\"text-align: right;\">\n",
              "      <th></th>\n",
              "      <th>0</th>\n",
              "      <th>1</th>\n",
              "      <th>2</th>\n",
              "      <th>3</th>\n",
              "      <th>4</th>\n",
              "      <th>5</th>\n",
              "      <th>6</th>\n",
              "      <th>7</th>\n",
              "      <th>8</th>\n",
              "      <th>9</th>\n",
              "      <th>10</th>\n",
              "      <th>11</th>\n",
              "      <th>12</th>\n",
              "      <th>13</th>\n",
              "      <th>14</th>\n",
              "      <th>15</th>\n",
              "      <th>16</th>\n",
              "      <th>17</th>\n",
              "      <th>18</th>\n",
              "      <th>19</th>\n",
              "      <th>20</th>\n",
              "      <th>21</th>\n",
              "      <th>22</th>\n",
              "      <th>23</th>\n",
              "    </tr>\n",
              "  </thead>\n",
              "  <tbody>\n",
              "    <tr>\n",
              "      <th>0</th>\n",
              "      <td>[Áo len nam Biluxury 5ALRT001TRK</td>\n",
              "      <td>Áo len nam Biluxury 5ALRT001TTS</td>\n",
              "      <td>Áo len nam Biluxury 5ALRT001DEN</td>\n",
              "      <td>Áo khoác gió 5AG2T004GHS</td>\n",
              "      <td>Áo khoác gió 5AG2T004CAM</td>\n",
              "      <td>Áo khoác gió 5AG2T004DEN</td>\n",
              "      <td>Áo khoác gió 5AG2T007GHS</td>\n",
              "      <td>Áo khoác gió 2 lớp 4AG2H009DEN</td>\n",
              "      <td>Áo khoác gió 5AG2T004TTS</td>\n",
              "      <td>Áo khoác gió 5AG2T009DEN</td>\n",
              "      <td>Áo khoác gió 4AG2T007REU</td>\n",
              "      <td>Áo nỉ thể thao cao cấp 4ANOT008GHT</td>\n",
              "      <td>Áo nỉ thể thao cao cấp 4ANOT012VAB</td>\n",
              "      <td>Áo vest nam Biluxury 5AVBC007DEN</td>\n",
              "      <td>Áo vest nam Biluxury 5AVBC008DEN</td>\n",
              "      <td>Áo len nam Biluxury 5ALRH002TTS</td>\n",
              "      <td>Áo len nam Biluxury 5ALRH001GHS</td>\n",
              "      <td>Áo khoác gió 5AG2T007TTT</td>\n",
              "      <td>Áo khoác gió 5AG2T009XAH</td>\n",
              "      <td>Áo khoác gió 5AG2T007DEN</td>\n",
              "      <td>Áo khoác gió 5AG2T001XAH</td>\n",
              "      <td>Áo khoác gió 5AG2T001TTT</td>\n",
              "      <td>Áo khoác gió 5AG2T001GHS</td>\n",
              "      <td>Áo len nam Biluxury 5ALRB001XCB]</td>\n",
              "    </tr>\n",
              "  </tbody>\n",
              "</table>\n",
              "</div>"
            ],
            "text/plain": [
              "                                 0   ...                                 23\n",
              "0  [Áo len nam Biluxury 5ALRT001TRK  ...   Áo len nam Biluxury 5ALRB001XCB]\n",
              "\n",
              "[1 rows x 24 columns]"
            ]
          },
          "metadata": {},
          "execution_count": 122
        }
      ]
    },
    {
      "cell_type": "code",
      "metadata": {
        "id": "keblXuo0sDoP",
        "colab": {
          "base_uri": "https://localhost:8080/",
          "height": 117
        },
        "outputId": "0b31865b-3f33-4199-da6f-e0472893ea20"
      },
      "source": [
        "df2=df2[0].str.split(' ',expand=True)\n",
        "df2.head(5)"
      ],
      "execution_count": 123,
      "outputs": [
        {
          "output_type": "execute_result",
          "data": {
            "text/html": [
              "<div>\n",
              "<style scoped>\n",
              "    .dataframe tbody tr th:only-of-type {\n",
              "        vertical-align: middle;\n",
              "    }\n",
              "\n",
              "    .dataframe tbody tr th {\n",
              "        vertical-align: top;\n",
              "    }\n",
              "\n",
              "    .dataframe thead th {\n",
              "        text-align: right;\n",
              "    }\n",
              "</style>\n",
              "<table border=\"1\" class=\"dataframe\">\n",
              "  <thead>\n",
              "    <tr style=\"text-align: right;\">\n",
              "      <th></th>\n",
              "      <th>0</th>\n",
              "      <th>1</th>\n",
              "      <th>2</th>\n",
              "      <th>3</th>\n",
              "      <th>4</th>\n",
              "      <th>5</th>\n",
              "      <th>6</th>\n",
              "      <th>7</th>\n",
              "      <th>8</th>\n",
              "      <th>9</th>\n",
              "      <th>10</th>\n",
              "      <th>11</th>\n",
              "      <th>12</th>\n",
              "      <th>13</th>\n",
              "      <th>14</th>\n",
              "      <th>15</th>\n",
              "      <th>16</th>\n",
              "      <th>17</th>\n",
              "      <th>18</th>\n",
              "      <th>19</th>\n",
              "      <th>20</th>\n",
              "      <th>21</th>\n",
              "      <th>22</th>\n",
              "      <th>23</th>\n",
              "      <th>24</th>\n",
              "      <th>25</th>\n",
              "      <th>26</th>\n",
              "    </tr>\n",
              "  </thead>\n",
              "  <tbody>\n",
              "    <tr>\n",
              "      <th>0</th>\n",
              "      <td>[\\n475,000₫\\n,</td>\n",
              "      <td>\\n475,000₫\\n,</td>\n",
              "      <td>\\n475,000₫\\n,</td>\n",
              "      <td>\\n699,000₫\\n,</td>\n",
              "      <td>\\n699,000₫\\n,</td>\n",
              "      <td>\\n699,000₫\\n,</td>\n",
              "      <td>\\n695,000₫\\n,</td>\n",
              "      <td>\\n735,000₫\\n,</td>\n",
              "      <td>\\n699,000₫\\n,</td>\n",
              "      <td>\\n799,000₫\\n,</td>\n",
              "      <td>\\n399,000₫</td>\n",
              "      <td>945,000₫\\n,</td>\n",
              "      <td>\\n249,000₫</td>\n",
              "      <td>398,000₫\\n,</td>\n",
              "      <td>\\n249,000₫</td>\n",
              "      <td>389,000₫\\n,</td>\n",
              "      <td>\\n1,690,000₫\\n,</td>\n",
              "      <td>\\n1,865,000₫\\n,</td>\n",
              "      <td>\\n525,000₫\\n,</td>\n",
              "      <td>\\n535,000₫\\n,</td>\n",
              "      <td>\\n695,000₫\\n,</td>\n",
              "      <td>\\n799,000₫\\n,</td>\n",
              "      <td>\\n695,000₫\\n,</td>\n",
              "      <td>\\n695,000₫\\n,</td>\n",
              "      <td>\\n695,000₫\\n,</td>\n",
              "      <td>\\n695,000₫\\n,</td>\n",
              "      <td>\\n449,000₫\\n]</td>\n",
              "    </tr>\n",
              "  </tbody>\n",
              "</table>\n",
              "</div>"
            ],
            "text/plain": [
              "               0              1   ...             25             26\n",
              "0  [\\n475,000₫\\n,  \\n475,000₫\\n,  ...  \\n695,000₫\\n,  \\n449,000₫\\n]\n",
              "\n",
              "[1 rows x 27 columns]"
            ]
          },
          "metadata": {},
          "execution_count": 123
        }
      ]
    },
    {
      "cell_type": "code",
      "metadata": {
        "id": "T4heGAXSsRr0",
        "colab": {
          "base_uri": "https://localhost:8080/",
          "height": 114
        },
        "outputId": "2b213250-0eb9-489d-83a5-f7b2b9d535d1"
      },
      "source": [
        "df3=df3[0].str.split(',',expand=True)\n",
        "df3.head(5)"
      ],
      "execution_count": 124,
      "outputs": [
        {
          "output_type": "execute_result",
          "data": {
            "text/html": [
              "<div>\n",
              "<style scoped>\n",
              "    .dataframe tbody tr th:only-of-type {\n",
              "        vertical-align: middle;\n",
              "    }\n",
              "\n",
              "    .dataframe tbody tr th {\n",
              "        vertical-align: top;\n",
              "    }\n",
              "\n",
              "    .dataframe thead th {\n",
              "        text-align: right;\n",
              "    }\n",
              "</style>\n",
              "<table border=\"1\" class=\"dataframe\">\n",
              "  <thead>\n",
              "    <tr style=\"text-align: right;\">\n",
              "      <th></th>\n",
              "      <th>0</th>\n",
              "      <th>1</th>\n",
              "      <th>2</th>\n",
              "      <th>3</th>\n",
              "      <th>4</th>\n",
              "      <th>5</th>\n",
              "      <th>6</th>\n",
              "      <th>7</th>\n",
              "      <th>8</th>\n",
              "      <th>9</th>\n",
              "      <th>10</th>\n",
              "      <th>11</th>\n",
              "      <th>12</th>\n",
              "      <th>13</th>\n",
              "      <th>14</th>\n",
              "      <th>15</th>\n",
              "      <th>16</th>\n",
              "      <th>17</th>\n",
              "      <th>18</th>\n",
              "      <th>19</th>\n",
              "      <th>20</th>\n",
              "      <th>21</th>\n",
              "      <th>22</th>\n",
              "      <th>23</th>\n",
              "    </tr>\n",
              "  </thead>\n",
              "  <tbody>\n",
              "    <tr>\n",
              "      <th>0</th>\n",
              "      <td>[   (103 đã bán)</td>\n",
              "      <td>(101 đã bán)</td>\n",
              "      <td>(102 đã bán)</td>\n",
              "      <td>(102 đã bán)</td>\n",
              "      <td>(101 đã bán)</td>\n",
              "      <td>(104 đã bán)</td>\n",
              "      <td>(104 đã bán)</td>\n",
              "      <td>(102 đã bán)</td>\n",
              "      <td>(106 đã bán)</td>\n",
              "      <td>(103 đã bán)</td>\n",
              "      <td>(140 đã bán)</td>\n",
              "      <td>(109 đã bán)</td>\n",
              "      <td>(102 đã bán)</td>\n",
              "      <td>(100 đã bán)</td>\n",
              "      <td>(100 đã bán)</td>\n",
              "      <td>(106 đã bán)</td>\n",
              "      <td>(105 đã bán)</td>\n",
              "      <td>(113 đã bán)</td>\n",
              "      <td>(111 đã bán)</td>\n",
              "      <td>(111 đã bán)</td>\n",
              "      <td>(110 đã bán)</td>\n",
              "      <td>(104 đã bán)</td>\n",
              "      <td>(103 đã bán)</td>\n",
              "      <td>(100 đã bán)]</td>\n",
              "    </tr>\n",
              "  </tbody>\n",
              "</table>\n",
              "</div>"
            ],
            "text/plain": [
              "                 0                 1   ...                22                 23\n",
              "0  [   (103 đã bán)      (101 đã bán)  ...      (103 đã bán)      (100 đã bán)]\n",
              "\n",
              "[1 rows x 24 columns]"
            ]
          },
          "metadata": {},
          "execution_count": 124
        }
      ]
    },
    {
      "cell_type": "markdown",
      "metadata": {
        "id": "0bY40wfpsaAU"
      },
      "source": [
        "***Chuyển về dạng unstack***"
      ]
    },
    {
      "cell_type": "code",
      "metadata": {
        "colab": {
          "base_uri": "https://localhost:8080/"
        },
        "id": "LYf2LaCoj-So",
        "outputId": "93db0c73-8152-47c9-92e7-34861ec9ea9b"
      },
      "source": [
        "df=df.unstack()\n",
        "df.head(10)"
      ],
      "execution_count": 125,
      "outputs": [
        {
          "output_type": "execute_result",
          "data": {
            "text/plain": [
              "0  0    [Áo len nam Biluxury 5ALRT001TRK\n",
              "1  0     Áo len nam Biluxury 5ALRT001TTS\n",
              "2  0     Áo len nam Biluxury 5ALRT001DEN\n",
              "3  0            Áo khoác gió 5AG2T004GHS\n",
              "4  0            Áo khoác gió 5AG2T004CAM\n",
              "5  0            Áo khoác gió 5AG2T004DEN\n",
              "6  0            Áo khoác gió 5AG2T007GHS\n",
              "7  0      Áo khoác gió 2 lớp 4AG2H009DEN\n",
              "8  0            Áo khoác gió 5AG2T004TTS\n",
              "9  0            Áo khoác gió 5AG2T009DEN\n",
              "dtype: object"
            ]
          },
          "metadata": {},
          "execution_count": 125
        }
      ]
    },
    {
      "cell_type": "code",
      "metadata": {
        "id": "1FPe1_0ci_uf",
        "colab": {
          "base_uri": "https://localhost:8080/"
        },
        "outputId": "53dcdf2c-0a4c-40fd-d607-4f61963784b1"
      },
      "source": [
        "df2=df2.unstack()\n",
        "df2.head(5)"
      ],
      "execution_count": 126,
      "outputs": [
        {
          "output_type": "execute_result",
          "data": {
            "text/plain": [
              "0  0    [\\n475,000₫\\n,\n",
              "1  0     \\n475,000₫\\n,\n",
              "2  0     \\n475,000₫\\n,\n",
              "3  0     \\n699,000₫\\n,\n",
              "4  0     \\n699,000₫\\n,\n",
              "dtype: object"
            ]
          },
          "metadata": {},
          "execution_count": 126
        }
      ]
    },
    {
      "cell_type": "code",
      "metadata": {
        "id": "gjjkiRcNs148",
        "colab": {
          "base_uri": "https://localhost:8080/"
        },
        "outputId": "20de7e4a-6886-4eca-f08b-d95dd6ec5087"
      },
      "source": [
        "df3=df3.unstack()\n",
        "df3.head(5)"
      ],
      "execution_count": 127,
      "outputs": [
        {
          "output_type": "execute_result",
          "data": {
            "text/plain": [
              "0  0    [   (103 đã bán)\n",
              "1  0        (101 đã bán)\n",
              "2  0        (102 đã bán)\n",
              "3  0        (102 đã bán)\n",
              "4  0        (101 đã bán)\n",
              "dtype: object"
            ]
          },
          "metadata": {},
          "execution_count": 127
        }
      ]
    },
    {
      "cell_type": "markdown",
      "metadata": {
        "id": "h2uNeFzZVTUo"
      },
      "source": [
        "**Xử lý df3**"
      ]
    },
    {
      "cell_type": "code",
      "metadata": {
        "id": "5nSHYjY-VaSS",
        "colab": {
          "base_uri": "https://localhost:8080/",
          "height": 142
        },
        "outputId": "98f6d18d-cf5d-4f90-d15c-dae6bd0d300a"
      },
      "source": [
        "df3=df3.reset_index()\n",
        "df3.head(3)"
      ],
      "execution_count": 128,
      "outputs": [
        {
          "output_type": "execute_result",
          "data": {
            "text/html": [
              "<div>\n",
              "<style scoped>\n",
              "    .dataframe tbody tr th:only-of-type {\n",
              "        vertical-align: middle;\n",
              "    }\n",
              "\n",
              "    .dataframe tbody tr th {\n",
              "        vertical-align: top;\n",
              "    }\n",
              "\n",
              "    .dataframe thead th {\n",
              "        text-align: right;\n",
              "    }\n",
              "</style>\n",
              "<table border=\"1\" class=\"dataframe\">\n",
              "  <thead>\n",
              "    <tr style=\"text-align: right;\">\n",
              "      <th></th>\n",
              "      <th>level_0</th>\n",
              "      <th>level_1</th>\n",
              "      <th>0</th>\n",
              "    </tr>\n",
              "  </thead>\n",
              "  <tbody>\n",
              "    <tr>\n",
              "      <th>0</th>\n",
              "      <td>0</td>\n",
              "      <td>0</td>\n",
              "      <td>[   (103 đã bán)</td>\n",
              "    </tr>\n",
              "    <tr>\n",
              "      <th>1</th>\n",
              "      <td>1</td>\n",
              "      <td>0</td>\n",
              "      <td>(101 đã bán)</td>\n",
              "    </tr>\n",
              "    <tr>\n",
              "      <th>2</th>\n",
              "      <td>2</td>\n",
              "      <td>0</td>\n",
              "      <td>(102 đã bán)</td>\n",
              "    </tr>\n",
              "  </tbody>\n",
              "</table>\n",
              "</div>"
            ],
            "text/plain": [
              "   level_0  level_1                 0\n",
              "0        0        0  [   (103 đã bán)\n",
              "1        1        0      (101 đã bán)\n",
              "2        2        0      (102 đã bán)"
            ]
          },
          "metadata": {},
          "execution_count": 128
        }
      ]
    },
    {
      "cell_type": "code",
      "metadata": {
        "id": "Lf8A5np4VhIX"
      },
      "source": [
        "del df3['level_0']\n",
        "del df3['level_1']"
      ],
      "execution_count": 129,
      "outputs": []
    },
    {
      "cell_type": "markdown",
      "metadata": {
        "id": "5sVTdtstycGE"
      },
      "source": [
        "***Xử lý df2:***"
      ]
    },
    {
      "cell_type": "code",
      "metadata": {
        "id": "XIfGy-WluZo8",
        "colab": {
          "base_uri": "https://localhost:8080/",
          "height": 142
        },
        "outputId": "92be9953-42f2-490e-989e-5497df1c57eb"
      },
      "source": [
        "df2=df2.reset_index()\n",
        "df2.head(3)"
      ],
      "execution_count": 130,
      "outputs": [
        {
          "output_type": "execute_result",
          "data": {
            "text/html": [
              "<div>\n",
              "<style scoped>\n",
              "    .dataframe tbody tr th:only-of-type {\n",
              "        vertical-align: middle;\n",
              "    }\n",
              "\n",
              "    .dataframe tbody tr th {\n",
              "        vertical-align: top;\n",
              "    }\n",
              "\n",
              "    .dataframe thead th {\n",
              "        text-align: right;\n",
              "    }\n",
              "</style>\n",
              "<table border=\"1\" class=\"dataframe\">\n",
              "  <thead>\n",
              "    <tr style=\"text-align: right;\">\n",
              "      <th></th>\n",
              "      <th>level_0</th>\n",
              "      <th>level_1</th>\n",
              "      <th>0</th>\n",
              "    </tr>\n",
              "  </thead>\n",
              "  <tbody>\n",
              "    <tr>\n",
              "      <th>0</th>\n",
              "      <td>0</td>\n",
              "      <td>0</td>\n",
              "      <td>[\\n475,000₫\\n,</td>\n",
              "    </tr>\n",
              "    <tr>\n",
              "      <th>1</th>\n",
              "      <td>1</td>\n",
              "      <td>0</td>\n",
              "      <td>\\n475,000₫\\n,</td>\n",
              "    </tr>\n",
              "    <tr>\n",
              "      <th>2</th>\n",
              "      <td>2</td>\n",
              "      <td>0</td>\n",
              "      <td>\\n475,000₫\\n,</td>\n",
              "    </tr>\n",
              "  </tbody>\n",
              "</table>\n",
              "</div>"
            ],
            "text/plain": [
              "   level_0  level_1               0\n",
              "0        0        0  [\\n475,000₫\\n,\n",
              "1        1        0   \\n475,000₫\\n,\n",
              "2        2        0   \\n475,000₫\\n,"
            ]
          },
          "metadata": {},
          "execution_count": 130
        }
      ]
    },
    {
      "cell_type": "code",
      "metadata": {
        "id": "8LPBH8kAx9LW"
      },
      "source": [
        "\n",
        "del df2['level_0']\n",
        "del df2['level_1']"
      ],
      "execution_count": 131,
      "outputs": []
    },
    {
      "cell_type": "code",
      "metadata": {
        "id": "J5L5zCKAF50A",
        "colab": {
          "base_uri": "https://localhost:8080/",
          "height": 204
        },
        "outputId": "f8b5a29a-9edc-449e-ac4f-760667179fbc"
      },
      "source": [
        "df2.head(5)"
      ],
      "execution_count": 132,
      "outputs": [
        {
          "output_type": "execute_result",
          "data": {
            "text/html": [
              "<div>\n",
              "<style scoped>\n",
              "    .dataframe tbody tr th:only-of-type {\n",
              "        vertical-align: middle;\n",
              "    }\n",
              "\n",
              "    .dataframe tbody tr th {\n",
              "        vertical-align: top;\n",
              "    }\n",
              "\n",
              "    .dataframe thead th {\n",
              "        text-align: right;\n",
              "    }\n",
              "</style>\n",
              "<table border=\"1\" class=\"dataframe\">\n",
              "  <thead>\n",
              "    <tr style=\"text-align: right;\">\n",
              "      <th></th>\n",
              "      <th>0</th>\n",
              "    </tr>\n",
              "  </thead>\n",
              "  <tbody>\n",
              "    <tr>\n",
              "      <th>0</th>\n",
              "      <td>[\\n475,000₫\\n,</td>\n",
              "    </tr>\n",
              "    <tr>\n",
              "      <th>1</th>\n",
              "      <td>\\n475,000₫\\n,</td>\n",
              "    </tr>\n",
              "    <tr>\n",
              "      <th>2</th>\n",
              "      <td>\\n475,000₫\\n,</td>\n",
              "    </tr>\n",
              "    <tr>\n",
              "      <th>3</th>\n",
              "      <td>\\n699,000₫\\n,</td>\n",
              "    </tr>\n",
              "    <tr>\n",
              "      <th>4</th>\n",
              "      <td>\\n699,000₫\\n,</td>\n",
              "    </tr>\n",
              "  </tbody>\n",
              "</table>\n",
              "</div>"
            ],
            "text/plain": [
              "                0\n",
              "0  [\\n475,000₫\\n,\n",
              "1   \\n475,000₫\\n,\n",
              "2   \\n475,000₫\\n,\n",
              "3   \\n699,000₫\\n,\n",
              "4   \\n699,000₫\\n,"
            ]
          },
          "metadata": {},
          "execution_count": 132
        }
      ]
    },
    {
      "cell_type": "markdown",
      "metadata": {
        "id": "IMduztwRRu4W"
      },
      "source": [
        "Xử lý df"
      ]
    },
    {
      "cell_type": "code",
      "metadata": {
        "id": "Ntm9IlaLRiRr",
        "colab": {
          "base_uri": "https://localhost:8080/",
          "height": 142
        },
        "outputId": "6e49e98e-a208-4b5b-bac8-b721ea68b06c"
      },
      "source": [
        "df=df.reset_index()\n",
        "df.head(3)"
      ],
      "execution_count": 133,
      "outputs": [
        {
          "output_type": "execute_result",
          "data": {
            "text/html": [
              "<div>\n",
              "<style scoped>\n",
              "    .dataframe tbody tr th:only-of-type {\n",
              "        vertical-align: middle;\n",
              "    }\n",
              "\n",
              "    .dataframe tbody tr th {\n",
              "        vertical-align: top;\n",
              "    }\n",
              "\n",
              "    .dataframe thead th {\n",
              "        text-align: right;\n",
              "    }\n",
              "</style>\n",
              "<table border=\"1\" class=\"dataframe\">\n",
              "  <thead>\n",
              "    <tr style=\"text-align: right;\">\n",
              "      <th></th>\n",
              "      <th>level_0</th>\n",
              "      <th>level_1</th>\n",
              "      <th>0</th>\n",
              "    </tr>\n",
              "  </thead>\n",
              "  <tbody>\n",
              "    <tr>\n",
              "      <th>0</th>\n",
              "      <td>0</td>\n",
              "      <td>0</td>\n",
              "      <td>[Áo len nam Biluxury 5ALRT001TRK</td>\n",
              "    </tr>\n",
              "    <tr>\n",
              "      <th>1</th>\n",
              "      <td>1</td>\n",
              "      <td>0</td>\n",
              "      <td>Áo len nam Biluxury 5ALRT001TTS</td>\n",
              "    </tr>\n",
              "    <tr>\n",
              "      <th>2</th>\n",
              "      <td>2</td>\n",
              "      <td>0</td>\n",
              "      <td>Áo len nam Biluxury 5ALRT001DEN</td>\n",
              "    </tr>\n",
              "  </tbody>\n",
              "</table>\n",
              "</div>"
            ],
            "text/plain": [
              "   level_0  level_1                                 0\n",
              "0        0        0  [Áo len nam Biluxury 5ALRT001TRK\n",
              "1        1        0   Áo len nam Biluxury 5ALRT001TTS\n",
              "2        2        0   Áo len nam Biluxury 5ALRT001DEN"
            ]
          },
          "metadata": {},
          "execution_count": 133
        }
      ]
    },
    {
      "cell_type": "code",
      "metadata": {
        "id": "IwOlfNhkR615"
      },
      "source": [
        "del df['level_0']\n",
        "del df['level_1']"
      ],
      "execution_count": 134,
      "outputs": []
    },
    {
      "cell_type": "markdown",
      "metadata": {
        "id": "3K8wi2mJVJz2"
      },
      "source": [
        "Đổi tên cột"
      ]
    },
    {
      "cell_type": "code",
      "metadata": {
        "id": "fo4WujrJSLWr"
      },
      "source": [
        "df=df.set_axis(['T-Shirt Name'],axis=1,inplace=False)"
      ],
      "execution_count": 135,
      "outputs": []
    },
    {
      "cell_type": "code",
      "metadata": {
        "id": "C9UNl_2XU-tm"
      },
      "source": [
        "df2=df2.set_axis(['Product Price'],axis=1,inplace=False)"
      ],
      "execution_count": 136,
      "outputs": []
    },
    {
      "cell_type": "code",
      "metadata": {
        "id": "Vur-zd5PVIqk"
      },
      "source": [
        "df3=df3.set_axis(['Product Sold'],axis=1,inplace=False)"
      ],
      "execution_count": 137,
      "outputs": []
    },
    {
      "cell_type": "code",
      "metadata": {
        "id": "8klW9oxiV9ed"
      },
      "source": [
        "product_tshirt=pd.concat([df,df2,df3],axis=1)"
      ],
      "execution_count": 138,
      "outputs": []
    },
    {
      "cell_type": "code",
      "metadata": {
        "id": "VEisR0jtPCna",
        "colab": {
          "base_uri": "https://localhost:8080/",
          "height": 204
        },
        "outputId": "145f7eb9-d0dc-4178-90ed-72a5744875e0"
      },
      "source": [
        "product_tshirt.head(5)"
      ],
      "execution_count": 139,
      "outputs": [
        {
          "output_type": "execute_result",
          "data": {
            "text/html": [
              "<div>\n",
              "<style scoped>\n",
              "    .dataframe tbody tr th:only-of-type {\n",
              "        vertical-align: middle;\n",
              "    }\n",
              "\n",
              "    .dataframe tbody tr th {\n",
              "        vertical-align: top;\n",
              "    }\n",
              "\n",
              "    .dataframe thead th {\n",
              "        text-align: right;\n",
              "    }\n",
              "</style>\n",
              "<table border=\"1\" class=\"dataframe\">\n",
              "  <thead>\n",
              "    <tr style=\"text-align: right;\">\n",
              "      <th></th>\n",
              "      <th>T-Shirt Name</th>\n",
              "      <th>Product Price</th>\n",
              "      <th>Product Sold</th>\n",
              "    </tr>\n",
              "  </thead>\n",
              "  <tbody>\n",
              "    <tr>\n",
              "      <th>0</th>\n",
              "      <td>[Áo len nam Biluxury 5ALRT001TRK</td>\n",
              "      <td>[\\n475,000₫\\n,</td>\n",
              "      <td>[   (103 đã bán)</td>\n",
              "    </tr>\n",
              "    <tr>\n",
              "      <th>1</th>\n",
              "      <td>Áo len nam Biluxury 5ALRT001TTS</td>\n",
              "      <td>\\n475,000₫\\n,</td>\n",
              "      <td>(101 đã bán)</td>\n",
              "    </tr>\n",
              "    <tr>\n",
              "      <th>2</th>\n",
              "      <td>Áo len nam Biluxury 5ALRT001DEN</td>\n",
              "      <td>\\n475,000₫\\n,</td>\n",
              "      <td>(102 đã bán)</td>\n",
              "    </tr>\n",
              "    <tr>\n",
              "      <th>3</th>\n",
              "      <td>Áo khoác gió 5AG2T004GHS</td>\n",
              "      <td>\\n699,000₫\\n,</td>\n",
              "      <td>(102 đã bán)</td>\n",
              "    </tr>\n",
              "    <tr>\n",
              "      <th>4</th>\n",
              "      <td>Áo khoác gió 5AG2T004CAM</td>\n",
              "      <td>\\n699,000₫\\n,</td>\n",
              "      <td>(101 đã bán)</td>\n",
              "    </tr>\n",
              "  </tbody>\n",
              "</table>\n",
              "</div>"
            ],
            "text/plain": [
              "                       T-Shirt Name   Product Price      Product Sold\n",
              "0  [Áo len nam Biluxury 5ALRT001TRK  [\\n475,000₫\\n,  [   (103 đã bán)\n",
              "1   Áo len nam Biluxury 5ALRT001TTS   \\n475,000₫\\n,      (101 đã bán)\n",
              "2   Áo len nam Biluxury 5ALRT001DEN   \\n475,000₫\\n,      (102 đã bán)\n",
              "3          Áo khoác gió 5AG2T004GHS   \\n699,000₫\\n,      (102 đã bán)\n",
              "4          Áo khoác gió 5AG2T004CAM   \\n699,000₫\\n,      (101 đã bán)"
            ]
          },
          "metadata": {},
          "execution_count": 139
        }
      ]
    },
    {
      "cell_type": "code",
      "metadata": {
        "id": "p9gNHnorUTI5"
      },
      "source": [
        "product_tshirt['T-Shirt Name']=product_tshirt['T-Shirt Name'].str.strip('[]')\n",
        "product_tshirt['Product Price']=product_tshirt['Product Price'].str.strip('[\\n]')\n",
        "product_tshirt['Product Price']=product_tshirt['Product Price'].str.strip('\\n,')\n",
        "product_tshirt['Product Sold']=product_tshirt['Product Sold'].str.strip('[)]')\n",
        "product_tshirt['Product Sold']=product_tshirt['Product Sold'].str.strip(' (')"
      ],
      "execution_count": 140,
      "outputs": []
    },
    {
      "cell_type": "code",
      "metadata": {
        "id": "hK5eztBjUbxJ",
        "colab": {
          "base_uri": "https://localhost:8080/",
          "height": 886
        },
        "outputId": "2dbd8aff-7097-4f9e-b25c-b38ea5f63dbf"
      },
      "source": [
        "product_tshirt"
      ],
      "execution_count": 141,
      "outputs": [
        {
          "output_type": "execute_result",
          "data": {
            "text/html": [
              "<div>\n",
              "<style scoped>\n",
              "    .dataframe tbody tr th:only-of-type {\n",
              "        vertical-align: middle;\n",
              "    }\n",
              "\n",
              "    .dataframe tbody tr th {\n",
              "        vertical-align: top;\n",
              "    }\n",
              "\n",
              "    .dataframe thead th {\n",
              "        text-align: right;\n",
              "    }\n",
              "</style>\n",
              "<table border=\"1\" class=\"dataframe\">\n",
              "  <thead>\n",
              "    <tr style=\"text-align: right;\">\n",
              "      <th></th>\n",
              "      <th>T-Shirt Name</th>\n",
              "      <th>Product Price</th>\n",
              "      <th>Product Sold</th>\n",
              "    </tr>\n",
              "  </thead>\n",
              "  <tbody>\n",
              "    <tr>\n",
              "      <th>0</th>\n",
              "      <td>Áo len nam Biluxury 5ALRT001TRK</td>\n",
              "      <td>475,000₫</td>\n",
              "      <td>103 đã bán</td>\n",
              "    </tr>\n",
              "    <tr>\n",
              "      <th>1</th>\n",
              "      <td>Áo len nam Biluxury 5ALRT001TTS</td>\n",
              "      <td>475,000₫</td>\n",
              "      <td>101 đã bán</td>\n",
              "    </tr>\n",
              "    <tr>\n",
              "      <th>2</th>\n",
              "      <td>Áo len nam Biluxury 5ALRT001DEN</td>\n",
              "      <td>475,000₫</td>\n",
              "      <td>102 đã bán</td>\n",
              "    </tr>\n",
              "    <tr>\n",
              "      <th>3</th>\n",
              "      <td>Áo khoác gió 5AG2T004GHS</td>\n",
              "      <td>699,000₫</td>\n",
              "      <td>102 đã bán</td>\n",
              "    </tr>\n",
              "    <tr>\n",
              "      <th>4</th>\n",
              "      <td>Áo khoác gió 5AG2T004CAM</td>\n",
              "      <td>699,000₫</td>\n",
              "      <td>101 đã bán</td>\n",
              "    </tr>\n",
              "    <tr>\n",
              "      <th>5</th>\n",
              "      <td>Áo khoác gió 5AG2T004DEN</td>\n",
              "      <td>699,000₫</td>\n",
              "      <td>104 đã bán</td>\n",
              "    </tr>\n",
              "    <tr>\n",
              "      <th>6</th>\n",
              "      <td>Áo khoác gió 5AG2T007GHS</td>\n",
              "      <td>695,000₫</td>\n",
              "      <td>104 đã bán</td>\n",
              "    </tr>\n",
              "    <tr>\n",
              "      <th>7</th>\n",
              "      <td>Áo khoác gió 2 lớp 4AG2H009DEN</td>\n",
              "      <td>735,000₫</td>\n",
              "      <td>102 đã bán</td>\n",
              "    </tr>\n",
              "    <tr>\n",
              "      <th>8</th>\n",
              "      <td>Áo khoác gió 5AG2T004TTS</td>\n",
              "      <td>699,000₫</td>\n",
              "      <td>106 đã bán</td>\n",
              "    </tr>\n",
              "    <tr>\n",
              "      <th>9</th>\n",
              "      <td>Áo khoác gió 5AG2T009DEN</td>\n",
              "      <td>799,000₫</td>\n",
              "      <td>103 đã bán</td>\n",
              "    </tr>\n",
              "    <tr>\n",
              "      <th>10</th>\n",
              "      <td>Áo khoác gió 4AG2T007REU</td>\n",
              "      <td>399,000₫</td>\n",
              "      <td>140 đã bán</td>\n",
              "    </tr>\n",
              "    <tr>\n",
              "      <th>11</th>\n",
              "      <td>Áo nỉ thể thao cao cấp 4ANOT008GHT</td>\n",
              "      <td>945,000₫</td>\n",
              "      <td>109 đã bán</td>\n",
              "    </tr>\n",
              "    <tr>\n",
              "      <th>12</th>\n",
              "      <td>Áo nỉ thể thao cao cấp 4ANOT012VAB</td>\n",
              "      <td>249,000₫</td>\n",
              "      <td>102 đã bán</td>\n",
              "    </tr>\n",
              "    <tr>\n",
              "      <th>13</th>\n",
              "      <td>Áo vest nam Biluxury 5AVBC007DEN</td>\n",
              "      <td>398,000₫</td>\n",
              "      <td>100 đã bán</td>\n",
              "    </tr>\n",
              "    <tr>\n",
              "      <th>14</th>\n",
              "      <td>Áo vest nam Biluxury 5AVBC008DEN</td>\n",
              "      <td>249,000₫</td>\n",
              "      <td>100 đã bán</td>\n",
              "    </tr>\n",
              "    <tr>\n",
              "      <th>15</th>\n",
              "      <td>Áo len nam Biluxury 5ALRH002TTS</td>\n",
              "      <td>389,000₫</td>\n",
              "      <td>106 đã bán</td>\n",
              "    </tr>\n",
              "    <tr>\n",
              "      <th>16</th>\n",
              "      <td>Áo len nam Biluxury 5ALRH001GHS</td>\n",
              "      <td>1,690,000₫</td>\n",
              "      <td>105 đã bán</td>\n",
              "    </tr>\n",
              "    <tr>\n",
              "      <th>17</th>\n",
              "      <td>Áo khoác gió 5AG2T007TTT</td>\n",
              "      <td>1,865,000₫</td>\n",
              "      <td>113 đã bán</td>\n",
              "    </tr>\n",
              "    <tr>\n",
              "      <th>18</th>\n",
              "      <td>Áo khoác gió 5AG2T009XAH</td>\n",
              "      <td>525,000₫</td>\n",
              "      <td>111 đã bán</td>\n",
              "    </tr>\n",
              "    <tr>\n",
              "      <th>19</th>\n",
              "      <td>Áo khoác gió 5AG2T007DEN</td>\n",
              "      <td>535,000₫</td>\n",
              "      <td>111 đã bán</td>\n",
              "    </tr>\n",
              "    <tr>\n",
              "      <th>20</th>\n",
              "      <td>Áo khoác gió 5AG2T001XAH</td>\n",
              "      <td>695,000₫</td>\n",
              "      <td>110 đã bán</td>\n",
              "    </tr>\n",
              "    <tr>\n",
              "      <th>21</th>\n",
              "      <td>Áo khoác gió 5AG2T001TTT</td>\n",
              "      <td>799,000₫</td>\n",
              "      <td>104 đã bán</td>\n",
              "    </tr>\n",
              "    <tr>\n",
              "      <th>22</th>\n",
              "      <td>Áo khoác gió 5AG2T001GHS</td>\n",
              "      <td>695,000₫</td>\n",
              "      <td>103 đã bán</td>\n",
              "    </tr>\n",
              "    <tr>\n",
              "      <th>23</th>\n",
              "      <td>Áo len nam Biluxury 5ALRB001XCB</td>\n",
              "      <td>695,000₫</td>\n",
              "      <td>100 đã bán</td>\n",
              "    </tr>\n",
              "    <tr>\n",
              "      <th>24</th>\n",
              "      <td>NaN</td>\n",
              "      <td>695,000₫</td>\n",
              "      <td>NaN</td>\n",
              "    </tr>\n",
              "    <tr>\n",
              "      <th>25</th>\n",
              "      <td>NaN</td>\n",
              "      <td>695,000₫</td>\n",
              "      <td>NaN</td>\n",
              "    </tr>\n",
              "    <tr>\n",
              "      <th>26</th>\n",
              "      <td>NaN</td>\n",
              "      <td>449,000₫</td>\n",
              "      <td>NaN</td>\n",
              "    </tr>\n",
              "  </tbody>\n",
              "</table>\n",
              "</div>"
            ],
            "text/plain": [
              "                           T-Shirt Name Product Price Product Sold\n",
              "0       Áo len nam Biluxury 5ALRT001TRK      475,000₫   103 đã bán\n",
              "1       Áo len nam Biluxury 5ALRT001TTS      475,000₫   101 đã bán\n",
              "2       Áo len nam Biluxury 5ALRT001DEN      475,000₫   102 đã bán\n",
              "3              Áo khoác gió 5AG2T004GHS      699,000₫   102 đã bán\n",
              "4              Áo khoác gió 5AG2T004CAM      699,000₫   101 đã bán\n",
              "5              Áo khoác gió 5AG2T004DEN      699,000₫   104 đã bán\n",
              "6              Áo khoác gió 5AG2T007GHS      695,000₫   104 đã bán\n",
              "7        Áo khoác gió 2 lớp 4AG2H009DEN      735,000₫   102 đã bán\n",
              "8              Áo khoác gió 5AG2T004TTS      699,000₫   106 đã bán\n",
              "9              Áo khoác gió 5AG2T009DEN      799,000₫   103 đã bán\n",
              "10             Áo khoác gió 4AG2T007REU      399,000₫   140 đã bán\n",
              "11   Áo nỉ thể thao cao cấp 4ANOT008GHT      945,000₫   109 đã bán\n",
              "12   Áo nỉ thể thao cao cấp 4ANOT012VAB      249,000₫   102 đã bán\n",
              "13     Áo vest nam Biluxury 5AVBC007DEN      398,000₫   100 đã bán\n",
              "14     Áo vest nam Biluxury 5AVBC008DEN      249,000₫   100 đã bán\n",
              "15      Áo len nam Biluxury 5ALRH002TTS      389,000₫   106 đã bán\n",
              "16      Áo len nam Biluxury 5ALRH001GHS    1,690,000₫   105 đã bán\n",
              "17             Áo khoác gió 5AG2T007TTT    1,865,000₫   113 đã bán\n",
              "18             Áo khoác gió 5AG2T009XAH      525,000₫   111 đã bán\n",
              "19             Áo khoác gió 5AG2T007DEN      535,000₫   111 đã bán\n",
              "20             Áo khoác gió 5AG2T001XAH      695,000₫   110 đã bán\n",
              "21             Áo khoác gió 5AG2T001TTT      799,000₫   104 đã bán\n",
              "22             Áo khoác gió 5AG2T001GHS      695,000₫   103 đã bán\n",
              "23      Áo len nam Biluxury 5ALRB001XCB      695,000₫   100 đã bán\n",
              "24                                  NaN      695,000₫          NaN\n",
              "25                                  NaN      695,000₫          NaN\n",
              "26                                  NaN      449,000₫          NaN"
            ]
          },
          "metadata": {},
          "execution_count": 141
        }
      ]
    },
    {
      "cell_type": "code",
      "metadata": {
        "id": "W51BSMtF0pXw"
      },
      "source": [
        "product_tshirt.to_csv('product_t-shirt.csv')"
      ],
      "execution_count": 142,
      "outputs": []
    }
  ]
}