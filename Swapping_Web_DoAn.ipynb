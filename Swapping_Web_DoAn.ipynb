{
  "nbformat": 4,
  "nbformat_minor": 0,
  "metadata": {
    "colab": {
      "name": "Swapping Web DoAn.ipynb",
      "provenance": [],
      "authorship_tag": "ABX9TyPDrHc7MpimYqioN+M06x1L",
      "include_colab_link": true
    },
    "kernelspec": {
      "name": "python3",
      "display_name": "Python 3"
    },
    "language_info": {
      "name": "python"
    }
  },
  "cells": [
    {
      "cell_type": "markdown",
      "metadata": {
        "id": "view-in-github",
        "colab_type": "text"
      },
      "source": [
        "<a href=\"https://colab.research.google.com/github/trinhvanypro1/Learning-Python-Advanced/blob/master/Swapping_Web_DoAn.ipynb\" target=\"_parent\"><img src=\"https://colab.research.google.com/assets/colab-badge.svg\" alt=\"Open In Colab\"/></a>"
      ]
    },
    {
      "cell_type": "markdown",
      "metadata": {
        "id": "4dJGn7JvpU6M"
      },
      "source": [
        "***Import các module cần thiết***"
      ]
    },
    {
      "cell_type": "code",
      "metadata": {
        "id": "_EGfQsdmbPL3"
      },
      "source": [
        "import pandas as pd\n",
        "import numpy as np\n",
        "import matplotlib.pyplot as plt\n",
        "import seaborn as sns\n",
        "%matplotlib inline\n",
        "from urllib.request import urlopen\n",
        "from bs4 import BeautifulSoup"
      ],
      "execution_count": 336,
      "outputs": []
    },
    {
      "cell_type": "markdown",
      "metadata": {
        "id": "3tDyL6i0png3"
      },
      "source": [
        "***import link và khởi tạo module BeautifulSoup***"
      ]
    },
    {
      "cell_type": "code",
      "metadata": {
        "id": "Qbm08ppMbTQD"
      },
      "source": [
        "url='https://biluxury.vn/collections/ao-nam'\n",
        "html=urlopen(url)\n",
        "soup=BeautifulSoup(html,'lxml')"
      ],
      "execution_count": 337,
      "outputs": []
    },
    {
      "cell_type": "code",
      "metadata": {
        "colab": {
          "base_uri": "https://localhost:8080/"
        },
        "id": "i03ZJW2IcaSn",
        "outputId": "285ee3ad-a07d-4f48-a806-49a8a498208a"
      },
      "source": [
        "title=soup.title\n",
        "print(title)"
      ],
      "execution_count": 338,
      "outputs": [
        {
          "output_type": "stream",
          "name": "stdout",
          "text": [
            "<title>\n",
            "\t\t\tÁo nam\n",
            "\t\t</title>\n"
          ]
        }
      ]
    },
    {
      "cell_type": "markdown",
      "metadata": {
        "id": "9A1uEyQRpx1Q"
      },
      "source": [
        "***Lấy dữ liệu html từ sản phẩm áo***"
      ]
    },
    {
      "cell_type": "code",
      "metadata": {
        "id": "pUqhvh4VemMp"
      },
      "source": [
        "list_ao=soup.find_all('div', attrs={'class':'grid-uniform product-list md-mg-left-15 d-flex-wrap'})"
      ],
      "execution_count": 339,
      "outputs": []
    },
    {
      "cell_type": "markdown",
      "metadata": {
        "id": "p6wn4iv1p7eX"
      },
      "source": [
        "Lấy dữ liệu "
      ]
    },
    {
      "cell_type": "code",
      "metadata": {
        "id": "cjtD2IyqgunW"
      },
      "source": [
        "# Tên sản phẩm:\n",
        "for i in list_ao:\n",
        "  sp=i.find_all('h3',attrs={'class':\"product-title\"})\n",
        "  str_sp=str(sp)\n",
        "  list_sp=[]\n",
        "  import re\n",
        "  clean=re.compile('<.*?>')\n",
        "  clean2=(re.sub(clean, '',str_sp))\n",
        "  list_sp.append(clean2)"
      ],
      "execution_count": 340,
      "outputs": []
    },
    {
      "cell_type": "code",
      "metadata": {
        "id": "GmGJDvrkjOIn"
      },
      "source": [
        "#Giá sản phẩm:\n",
        "for j in list_ao:\n",
        "  gia=j.find_all('div',attrs={'class':'product-price'})\n",
        "  str_gia=str(gia)\n",
        "  list_gia=[]\n",
        "  import re\n",
        "  clean_gia=re.compile('<.*?>')\n",
        "  clean_gia2=(re.sub(clean_gia, '',str_gia))\n",
        "  list_gia.append(clean_gia2)"
      ],
      "execution_count": 341,
      "outputs": []
    },
    {
      "cell_type": "code",
      "metadata": {
        "id": "X_0FzYr2nzGU"
      },
      "source": [
        "#Số lượng bán:\n",
        "for k in list_ao:\n",
        "  sl_ban=k.find_all('div',attrs={'class':'product-sold'})\n",
        "  str_sl_ban=str(sl_ban)\n",
        "  list_sl_ban=[]\n",
        "  import re\n",
        "  clean_sl_ban=re.compile('<.*?>')\n",
        "  clean_sl_ban2=(re.sub(clean_sl_ban,'',str_sl_ban))\n",
        "  list_sl_ban.append(clean_sl_ban2)"
      ],
      "execution_count": 342,
      "outputs": []
    },
    {
      "cell_type": "markdown",
      "metadata": {
        "id": "_pg2KNQZrmdc"
      },
      "source": [
        "***In dữ liệu:***\n",
        "\n",
        "> Văn bản được thụt lề\n",
        "\n"
      ]
    },
    {
      "cell_type": "code",
      "metadata": {
        "colab": {
          "base_uri": "https://localhost:8080/"
        },
        "id": "c2MV7wYRiVZE",
        "outputId": "ce2a4e39-b140-45fc-af84-648835852314"
      },
      "source": [
        "list_sp"
      ],
      "execution_count": 343,
      "outputs": [
        {
          "output_type": "execute_result",
          "data": {
            "text/plain": [
              "['[Áo len nam Biluxury 5ALRT001TRK, Áo len nam Biluxury 5ALRT001TTS, Áo len nam Biluxury 5ALRT001DEN, Áo khoác gió 5AG2T004GHS, Áo khoác gió 5AG2T004CAM, Áo khoác gió 5AG2T004DEN, Áo khoác gió 5AG2T007GHS, Áo khoác gió 2 lớp 4AG2H009DEN, Áo khoác gió 5AG2T004TTS, Áo khoác gió 5AG2T009DEN, Áo khoác gió 4AG2T007REU, Áo nỉ thể thao cao cấp 4ANOT008GHT, Áo nỉ thể thao cao cấp 4ANOT012VAB, Áo vest nam Biluxury 5AVBC007DEN, Áo vest nam Biluxury 5AVBC008DEN, Áo len nam Biluxury 5ALRH002TTS, Áo len nam Biluxury 5ALRH001GHS, Áo khoác gió 5AG2T007TTT, Áo khoác gió 5AG2T009XAH, Áo Thun giữ nhiệt Biluxury 5ATOB001XDM, Áo Thun giữ nhiệt Biluxury 5ATOB001TTT, Áo Thun giữ nhiệt Biluxury 5ATOB001TRK, Áo Thun giữ nhiệt Biluxury 5ATOB001GHT, Áo Thun giữ nhiệt Biluxury 5ATOB001GHS]']"
            ]
          },
          "metadata": {},
          "execution_count": 343
        }
      ]
    },
    {
      "cell_type": "code",
      "metadata": {
        "id": "EkZNDkGKnpGR",
        "outputId": "aefb1733-689a-41c1-806e-7256225c98f6",
        "colab": {
          "base_uri": "https://localhost:8080/"
        }
      },
      "source": [
        "list_gia"
      ],
      "execution_count": 344,
      "outputs": [
        {
          "output_type": "execute_result",
          "data": {
            "text/plain": [
              "['[\\n475,000₫\\n, \\n475,000₫\\n, \\n475,000₫\\n, \\n469,000₫ 699,000₫\\n, \\n469,000₫ 699,000₫\\n, \\n469,000₫ 699,000₫\\n, \\n695,000₫\\n, \\n735,000₫\\n, \\n469,000₫ 699,000₫\\n, \\n799,000₫\\n, \\n399,000₫ 945,000₫\\n, \\n249,000₫ 398,000₫\\n, \\n249,000₫ 389,000₫\\n, \\n1,690,000₫\\n, \\n1,865,000₫\\n, \\n525,000₫\\n, \\n535,000₫\\n, \\n695,000₫\\n, \\n799,000₫\\n, \\n279,000₫\\n, \\n279,000₫\\n, \\n279,000₫\\n, \\n279,000₫\\n, \\n279,000₫\\n]']"
            ]
          },
          "metadata": {},
          "execution_count": 344
        }
      ]
    },
    {
      "cell_type": "code",
      "metadata": {
        "id": "DUbrKOF6oqm2",
        "outputId": "6ec2f4ab-0ec2-4036-b8ec-a095eef40caa",
        "colab": {
          "base_uri": "https://localhost:8080/"
        }
      },
      "source": [
        "list_sl_ban"
      ],
      "execution_count": 345,
      "outputs": [
        {
          "output_type": "execute_result",
          "data": {
            "text/plain": [
              "['[   (100 đã bán),    (100 đã bán),    (100 đã bán),    (102 đã bán),    (101 đã bán),    (102 đã bán),    (103 đã bán),    (101 đã bán),    (103 đã bán),    (102 đã bán),    (123 đã bán),    (106 đã bán),    (101 đã bán),    (100 đã bán),    (100 đã bán),    (100 đã bán),    (101 đã bán),    (108 đã bán),    (109 đã bán),    (102 đã bán),    (101 đã bán),    (102 đã bán),    (102 đã bán),    (100 đã bán)]']"
            ]
          },
          "metadata": {},
          "execution_count": 345
        }
      ]
    },
    {
      "cell_type": "markdown",
      "metadata": {
        "id": "dHxQ7INSrpK_"
      },
      "source": [
        "***Tạo DataFrame***"
      ]
    },
    {
      "cell_type": "code",
      "metadata": {
        "colab": {
          "base_uri": "https://localhost:8080/",
          "height": 80
        },
        "id": "cm-VR3LZiYoj",
        "outputId": "2e56214f-851c-409e-a308-d5b766b4ee42"
      },
      "source": [
        "df=pd.DataFrame(list_sp)\n",
        "df.head(10)\n"
      ],
      "execution_count": 346,
      "outputs": [
        {
          "output_type": "execute_result",
          "data": {
            "text/html": [
              "<div>\n",
              "<style scoped>\n",
              "    .dataframe tbody tr th:only-of-type {\n",
              "        vertical-align: middle;\n",
              "    }\n",
              "\n",
              "    .dataframe tbody tr th {\n",
              "        vertical-align: top;\n",
              "    }\n",
              "\n",
              "    .dataframe thead th {\n",
              "        text-align: right;\n",
              "    }\n",
              "</style>\n",
              "<table border=\"1\" class=\"dataframe\">\n",
              "  <thead>\n",
              "    <tr style=\"text-align: right;\">\n",
              "      <th></th>\n",
              "      <th>0</th>\n",
              "    </tr>\n",
              "  </thead>\n",
              "  <tbody>\n",
              "    <tr>\n",
              "      <th>0</th>\n",
              "      <td>[Áo len nam Biluxury 5ALRT001TRK, Áo len nam B...</td>\n",
              "    </tr>\n",
              "  </tbody>\n",
              "</table>\n",
              "</div>"
            ],
            "text/plain": [
              "                                                   0\n",
              "0  [Áo len nam Biluxury 5ALRT001TRK, Áo len nam B..."
            ]
          },
          "metadata": {},
          "execution_count": 346
        }
      ]
    },
    {
      "cell_type": "code",
      "metadata": {
        "id": "LAapG5JmrutP",
        "outputId": "5b7f07a9-d60f-4634-f1f9-df2a864049c9",
        "colab": {
          "base_uri": "https://localhost:8080/",
          "height": 80
        }
      },
      "source": [
        "df2=pd.DataFrame(list_gia)\n",
        "df2.head(10)"
      ],
      "execution_count": 347,
      "outputs": [
        {
          "output_type": "execute_result",
          "data": {
            "text/html": [
              "<div>\n",
              "<style scoped>\n",
              "    .dataframe tbody tr th:only-of-type {\n",
              "        vertical-align: middle;\n",
              "    }\n",
              "\n",
              "    .dataframe tbody tr th {\n",
              "        vertical-align: top;\n",
              "    }\n",
              "\n",
              "    .dataframe thead th {\n",
              "        text-align: right;\n",
              "    }\n",
              "</style>\n",
              "<table border=\"1\" class=\"dataframe\">\n",
              "  <thead>\n",
              "    <tr style=\"text-align: right;\">\n",
              "      <th></th>\n",
              "      <th>0</th>\n",
              "    </tr>\n",
              "  </thead>\n",
              "  <tbody>\n",
              "    <tr>\n",
              "      <th>0</th>\n",
              "      <td>[\\n475,000₫\\n, \\n475,000₫\\n, \\n475,000₫\\n, \\n4...</td>\n",
              "    </tr>\n",
              "  </tbody>\n",
              "</table>\n",
              "</div>"
            ],
            "text/plain": [
              "                                                   0\n",
              "0  [\\n475,000₫\\n, \\n475,000₫\\n, \\n475,000₫\\n, \\n4..."
            ]
          },
          "metadata": {},
          "execution_count": 347
        }
      ]
    },
    {
      "cell_type": "code",
      "metadata": {
        "id": "QFRPi651r6HZ",
        "outputId": "b9fe2c83-22f5-40e4-a2cb-aa5967982029",
        "colab": {
          "base_uri": "https://localhost:8080/",
          "height": 80
        }
      },
      "source": [
        "df3=pd.DataFrame(list_sl_ban)\n",
        "df3.head(10)"
      ],
      "execution_count": 348,
      "outputs": [
        {
          "output_type": "execute_result",
          "data": {
            "text/html": [
              "<div>\n",
              "<style scoped>\n",
              "    .dataframe tbody tr th:only-of-type {\n",
              "        vertical-align: middle;\n",
              "    }\n",
              "\n",
              "    .dataframe tbody tr th {\n",
              "        vertical-align: top;\n",
              "    }\n",
              "\n",
              "    .dataframe thead th {\n",
              "        text-align: right;\n",
              "    }\n",
              "</style>\n",
              "<table border=\"1\" class=\"dataframe\">\n",
              "  <thead>\n",
              "    <tr style=\"text-align: right;\">\n",
              "      <th></th>\n",
              "      <th>0</th>\n",
              "    </tr>\n",
              "  </thead>\n",
              "  <tbody>\n",
              "    <tr>\n",
              "      <th>0</th>\n",
              "      <td>[   (100 đã bán),    (100 đã bán),    (100 đã ...</td>\n",
              "    </tr>\n",
              "  </tbody>\n",
              "</table>\n",
              "</div>"
            ],
            "text/plain": [
              "                                                   0\n",
              "0  [   (100 đã bán),    (100 đã bán),    (100 đã ..."
            ]
          },
          "metadata": {},
          "execution_count": 348
        }
      ]
    },
    {
      "cell_type": "markdown",
      "metadata": {
        "id": "vJHD_X2kr42X"
      },
      "source": [
        "***Tách giá trị***"
      ]
    },
    {
      "cell_type": "code",
      "metadata": {
        "colab": {
          "base_uri": "https://localhost:8080/",
          "height": 134
        },
        "id": "iJ01GXFiipo5",
        "outputId": "ee37da84-f740-4006-9a0f-4fb585aac0e1"
      },
      "source": [
        "df=df[0].str.split(',',expand=True)\n",
        "df.head(7)"
      ],
      "execution_count": 349,
      "outputs": [
        {
          "output_type": "execute_result",
          "data": {
            "text/html": [
              "<div>\n",
              "<style scoped>\n",
              "    .dataframe tbody tr th:only-of-type {\n",
              "        vertical-align: middle;\n",
              "    }\n",
              "\n",
              "    .dataframe tbody tr th {\n",
              "        vertical-align: top;\n",
              "    }\n",
              "\n",
              "    .dataframe thead th {\n",
              "        text-align: right;\n",
              "    }\n",
              "</style>\n",
              "<table border=\"1\" class=\"dataframe\">\n",
              "  <thead>\n",
              "    <tr style=\"text-align: right;\">\n",
              "      <th></th>\n",
              "      <th>0</th>\n",
              "      <th>1</th>\n",
              "      <th>2</th>\n",
              "      <th>3</th>\n",
              "      <th>4</th>\n",
              "      <th>5</th>\n",
              "      <th>6</th>\n",
              "      <th>7</th>\n",
              "      <th>8</th>\n",
              "      <th>9</th>\n",
              "      <th>10</th>\n",
              "      <th>11</th>\n",
              "      <th>12</th>\n",
              "      <th>13</th>\n",
              "      <th>14</th>\n",
              "      <th>15</th>\n",
              "      <th>16</th>\n",
              "      <th>17</th>\n",
              "      <th>18</th>\n",
              "      <th>19</th>\n",
              "      <th>20</th>\n",
              "      <th>21</th>\n",
              "      <th>22</th>\n",
              "      <th>23</th>\n",
              "    </tr>\n",
              "  </thead>\n",
              "  <tbody>\n",
              "    <tr>\n",
              "      <th>0</th>\n",
              "      <td>[Áo len nam Biluxury 5ALRT001TRK</td>\n",
              "      <td>Áo len nam Biluxury 5ALRT001TTS</td>\n",
              "      <td>Áo len nam Biluxury 5ALRT001DEN</td>\n",
              "      <td>Áo khoác gió 5AG2T004GHS</td>\n",
              "      <td>Áo khoác gió 5AG2T004CAM</td>\n",
              "      <td>Áo khoác gió 5AG2T004DEN</td>\n",
              "      <td>Áo khoác gió 5AG2T007GHS</td>\n",
              "      <td>Áo khoác gió 2 lớp 4AG2H009DEN</td>\n",
              "      <td>Áo khoác gió 5AG2T004TTS</td>\n",
              "      <td>Áo khoác gió 5AG2T009DEN</td>\n",
              "      <td>Áo khoác gió 4AG2T007REU</td>\n",
              "      <td>Áo nỉ thể thao cao cấp 4ANOT008GHT</td>\n",
              "      <td>Áo nỉ thể thao cao cấp 4ANOT012VAB</td>\n",
              "      <td>Áo vest nam Biluxury 5AVBC007DEN</td>\n",
              "      <td>Áo vest nam Biluxury 5AVBC008DEN</td>\n",
              "      <td>Áo len nam Biluxury 5ALRH002TTS</td>\n",
              "      <td>Áo len nam Biluxury 5ALRH001GHS</td>\n",
              "      <td>Áo khoác gió 5AG2T007TTT</td>\n",
              "      <td>Áo khoác gió 5AG2T009XAH</td>\n",
              "      <td>Áo Thun giữ nhiệt Biluxury 5ATOB001XDM</td>\n",
              "      <td>Áo Thun giữ nhiệt Biluxury 5ATOB001TTT</td>\n",
              "      <td>Áo Thun giữ nhiệt Biluxury 5ATOB001TRK</td>\n",
              "      <td>Áo Thun giữ nhiệt Biluxury 5ATOB001GHT</td>\n",
              "      <td>Áo Thun giữ nhiệt Biluxury 5ATOB001GHS]</td>\n",
              "    </tr>\n",
              "  </tbody>\n",
              "</table>\n",
              "</div>"
            ],
            "text/plain": [
              "                                 0   ...                                        23\n",
              "0  [Áo len nam Biluxury 5ALRT001TRK  ...   Áo Thun giữ nhiệt Biluxury 5ATOB001GHS]\n",
              "\n",
              "[1 rows x 24 columns]"
            ]
          },
          "metadata": {},
          "execution_count": 349
        }
      ]
    },
    {
      "cell_type": "code",
      "metadata": {
        "id": "keblXuo0sDoP",
        "outputId": "d7424045-8e35-4af4-8c2a-1c4323819f71",
        "colab": {
          "base_uri": "https://localhost:8080/",
          "height": 117
        }
      },
      "source": [
        "df2=df2[0].str.split(',',expand=True)\n",
        "df2.head(5)"
      ],
      "execution_count": 350,
      "outputs": [
        {
          "output_type": "execute_result",
          "data": {
            "text/html": [
              "<div>\n",
              "<style scoped>\n",
              "    .dataframe tbody tr th:only-of-type {\n",
              "        vertical-align: middle;\n",
              "    }\n",
              "\n",
              "    .dataframe tbody tr th {\n",
              "        vertical-align: top;\n",
              "    }\n",
              "\n",
              "    .dataframe thead th {\n",
              "        text-align: right;\n",
              "    }\n",
              "</style>\n",
              "<table border=\"1\" class=\"dataframe\">\n",
              "  <thead>\n",
              "    <tr style=\"text-align: right;\">\n",
              "      <th></th>\n",
              "      <th>0</th>\n",
              "      <th>1</th>\n",
              "      <th>2</th>\n",
              "      <th>3</th>\n",
              "      <th>4</th>\n",
              "      <th>5</th>\n",
              "      <th>6</th>\n",
              "      <th>7</th>\n",
              "      <th>8</th>\n",
              "      <th>9</th>\n",
              "      <th>10</th>\n",
              "      <th>11</th>\n",
              "      <th>12</th>\n",
              "      <th>13</th>\n",
              "      <th>14</th>\n",
              "      <th>15</th>\n",
              "      <th>16</th>\n",
              "      <th>17</th>\n",
              "      <th>18</th>\n",
              "      <th>19</th>\n",
              "      <th>20</th>\n",
              "      <th>21</th>\n",
              "      <th>22</th>\n",
              "      <th>23</th>\n",
              "      <th>24</th>\n",
              "      <th>25</th>\n",
              "      <th>26</th>\n",
              "      <th>27</th>\n",
              "      <th>28</th>\n",
              "      <th>29</th>\n",
              "      <th>30</th>\n",
              "      <th>31</th>\n",
              "      <th>32</th>\n",
              "      <th>33</th>\n",
              "      <th>34</th>\n",
              "      <th>35</th>\n",
              "      <th>36</th>\n",
              "      <th>37</th>\n",
              "      <th>38</th>\n",
              "      <th>39</th>\n",
              "      <th>40</th>\n",
              "      <th>41</th>\n",
              "      <th>42</th>\n",
              "      <th>43</th>\n",
              "      <th>44</th>\n",
              "      <th>45</th>\n",
              "      <th>46</th>\n",
              "      <th>47</th>\n",
              "      <th>48</th>\n",
              "      <th>49</th>\n",
              "      <th>50</th>\n",
              "      <th>51</th>\n",
              "      <th>52</th>\n",
              "      <th>53</th>\n",
              "      <th>54</th>\n",
              "      <th>55</th>\n",
              "      <th>56</th>\n",
              "    </tr>\n",
              "  </thead>\n",
              "  <tbody>\n",
              "    <tr>\n",
              "      <th>0</th>\n",
              "      <td>[\\n475</td>\n",
              "      <td>000₫\\n</td>\n",
              "      <td>\\n475</td>\n",
              "      <td>000₫\\n</td>\n",
              "      <td>\\n475</td>\n",
              "      <td>000₫\\n</td>\n",
              "      <td>\\n469</td>\n",
              "      <td>000₫ 699</td>\n",
              "      <td>000₫\\n</td>\n",
              "      <td>\\n469</td>\n",
              "      <td>000₫ 699</td>\n",
              "      <td>000₫\\n</td>\n",
              "      <td>\\n469</td>\n",
              "      <td>000₫ 699</td>\n",
              "      <td>000₫\\n</td>\n",
              "      <td>\\n695</td>\n",
              "      <td>000₫\\n</td>\n",
              "      <td>\\n735</td>\n",
              "      <td>000₫\\n</td>\n",
              "      <td>\\n469</td>\n",
              "      <td>000₫ 699</td>\n",
              "      <td>000₫\\n</td>\n",
              "      <td>\\n799</td>\n",
              "      <td>000₫\\n</td>\n",
              "      <td>\\n399</td>\n",
              "      <td>000₫ 945</td>\n",
              "      <td>000₫\\n</td>\n",
              "      <td>\\n249</td>\n",
              "      <td>000₫ 398</td>\n",
              "      <td>000₫\\n</td>\n",
              "      <td>\\n249</td>\n",
              "      <td>000₫ 389</td>\n",
              "      <td>000₫\\n</td>\n",
              "      <td>\\n1</td>\n",
              "      <td>690</td>\n",
              "      <td>000₫\\n</td>\n",
              "      <td>\\n1</td>\n",
              "      <td>865</td>\n",
              "      <td>000₫\\n</td>\n",
              "      <td>\\n525</td>\n",
              "      <td>000₫\\n</td>\n",
              "      <td>\\n535</td>\n",
              "      <td>000₫\\n</td>\n",
              "      <td>\\n695</td>\n",
              "      <td>000₫\\n</td>\n",
              "      <td>\\n799</td>\n",
              "      <td>000₫\\n</td>\n",
              "      <td>\\n279</td>\n",
              "      <td>000₫\\n</td>\n",
              "      <td>\\n279</td>\n",
              "      <td>000₫\\n</td>\n",
              "      <td>\\n279</td>\n",
              "      <td>000₫\\n</td>\n",
              "      <td>\\n279</td>\n",
              "      <td>000₫\\n</td>\n",
              "      <td>\\n279</td>\n",
              "      <td>000₫\\n]</td>\n",
              "    </tr>\n",
              "  </tbody>\n",
              "</table>\n",
              "</div>"
            ],
            "text/plain": [
              "       0       1       2       3   ...      53      54      55       56\n",
              "0  [\\n475  000₫\\n   \\n475  000₫\\n  ...   \\n279  000₫\\n   \\n279  000₫\\n]\n",
              "\n",
              "[1 rows x 57 columns]"
            ]
          },
          "metadata": {},
          "execution_count": 350
        }
      ]
    },
    {
      "cell_type": "code",
      "metadata": {
        "id": "T4heGAXSsRr0",
        "outputId": "33d052d1-8369-49fa-f5e8-3f49e52db31c",
        "colab": {
          "base_uri": "https://localhost:8080/",
          "height": 114
        }
      },
      "source": [
        "df3=df3[0].str.split(',',expand=True)\n",
        "df3.head(5)"
      ],
      "execution_count": 351,
      "outputs": [
        {
          "output_type": "execute_result",
          "data": {
            "text/html": [
              "<div>\n",
              "<style scoped>\n",
              "    .dataframe tbody tr th:only-of-type {\n",
              "        vertical-align: middle;\n",
              "    }\n",
              "\n",
              "    .dataframe tbody tr th {\n",
              "        vertical-align: top;\n",
              "    }\n",
              "\n",
              "    .dataframe thead th {\n",
              "        text-align: right;\n",
              "    }\n",
              "</style>\n",
              "<table border=\"1\" class=\"dataframe\">\n",
              "  <thead>\n",
              "    <tr style=\"text-align: right;\">\n",
              "      <th></th>\n",
              "      <th>0</th>\n",
              "      <th>1</th>\n",
              "      <th>2</th>\n",
              "      <th>3</th>\n",
              "      <th>4</th>\n",
              "      <th>5</th>\n",
              "      <th>6</th>\n",
              "      <th>7</th>\n",
              "      <th>8</th>\n",
              "      <th>9</th>\n",
              "      <th>10</th>\n",
              "      <th>11</th>\n",
              "      <th>12</th>\n",
              "      <th>13</th>\n",
              "      <th>14</th>\n",
              "      <th>15</th>\n",
              "      <th>16</th>\n",
              "      <th>17</th>\n",
              "      <th>18</th>\n",
              "      <th>19</th>\n",
              "      <th>20</th>\n",
              "      <th>21</th>\n",
              "      <th>22</th>\n",
              "      <th>23</th>\n",
              "    </tr>\n",
              "  </thead>\n",
              "  <tbody>\n",
              "    <tr>\n",
              "      <th>0</th>\n",
              "      <td>[   (100 đã bán)</td>\n",
              "      <td>(100 đã bán)</td>\n",
              "      <td>(100 đã bán)</td>\n",
              "      <td>(102 đã bán)</td>\n",
              "      <td>(101 đã bán)</td>\n",
              "      <td>(102 đã bán)</td>\n",
              "      <td>(103 đã bán)</td>\n",
              "      <td>(101 đã bán)</td>\n",
              "      <td>(103 đã bán)</td>\n",
              "      <td>(102 đã bán)</td>\n",
              "      <td>(123 đã bán)</td>\n",
              "      <td>(106 đã bán)</td>\n",
              "      <td>(101 đã bán)</td>\n",
              "      <td>(100 đã bán)</td>\n",
              "      <td>(100 đã bán)</td>\n",
              "      <td>(100 đã bán)</td>\n",
              "      <td>(101 đã bán)</td>\n",
              "      <td>(108 đã bán)</td>\n",
              "      <td>(109 đã bán)</td>\n",
              "      <td>(102 đã bán)</td>\n",
              "      <td>(101 đã bán)</td>\n",
              "      <td>(102 đã bán)</td>\n",
              "      <td>(102 đã bán)</td>\n",
              "      <td>(100 đã bán)]</td>\n",
              "    </tr>\n",
              "  </tbody>\n",
              "</table>\n",
              "</div>"
            ],
            "text/plain": [
              "                 0                 1   ...                22                 23\n",
              "0  [   (100 đã bán)      (100 đã bán)  ...      (102 đã bán)      (100 đã bán)]\n",
              "\n",
              "[1 rows x 24 columns]"
            ]
          },
          "metadata": {},
          "execution_count": 351
        }
      ]
    },
    {
      "cell_type": "markdown",
      "metadata": {
        "id": "0bY40wfpsaAU"
      },
      "source": [
        "***Chuyển về dạng unstack***"
      ]
    },
    {
      "cell_type": "code",
      "metadata": {
        "colab": {
          "base_uri": "https://localhost:8080/"
        },
        "id": "LYf2LaCoj-So",
        "outputId": "559eed2c-028a-4ea9-b36d-39a7ff6743fa"
      },
      "source": [
        "df=df.unstack()\n",
        "df.head(10)"
      ],
      "execution_count": 352,
      "outputs": [
        {
          "output_type": "execute_result",
          "data": {
            "text/plain": [
              "0  0    [Áo len nam Biluxury 5ALRT001TRK\n",
              "1  0     Áo len nam Biluxury 5ALRT001TTS\n",
              "2  0     Áo len nam Biluxury 5ALRT001DEN\n",
              "3  0            Áo khoác gió 5AG2T004GHS\n",
              "4  0            Áo khoác gió 5AG2T004CAM\n",
              "5  0            Áo khoác gió 5AG2T004DEN\n",
              "6  0            Áo khoác gió 5AG2T007GHS\n",
              "7  0      Áo khoác gió 2 lớp 4AG2H009DEN\n",
              "8  0            Áo khoác gió 5AG2T004TTS\n",
              "9  0            Áo khoác gió 5AG2T009DEN\n",
              "dtype: object"
            ]
          },
          "metadata": {},
          "execution_count": 352
        }
      ]
    },
    {
      "cell_type": "code",
      "metadata": {
        "id": "1FPe1_0ci_uf",
        "outputId": "7741cb6d-2f16-471d-a022-47f15140b29d",
        "colab": {
          "base_uri": "https://localhost:8080/"
        }
      },
      "source": [
        "df2=df2.unstack()\n",
        "df2.head(5)"
      ],
      "execution_count": 353,
      "outputs": [
        {
          "output_type": "execute_result",
          "data": {
            "text/plain": [
              "0  0    [\\n475\n",
              "1  0    000₫\\n\n",
              "2  0     \\n475\n",
              "3  0    000₫\\n\n",
              "4  0     \\n475\n",
              "dtype: object"
            ]
          },
          "metadata": {},
          "execution_count": 353
        }
      ]
    },
    {
      "cell_type": "code",
      "metadata": {
        "id": "gjjkiRcNs148",
        "outputId": "5aad683e-92c6-4e36-8df9-1ab6da07a7c6",
        "colab": {
          "base_uri": "https://localhost:8080/"
        }
      },
      "source": [
        "df3=df3.unstack()\n",
        "df3.head(5)"
      ],
      "execution_count": 354,
      "outputs": [
        {
          "output_type": "execute_result",
          "data": {
            "text/plain": [
              "0  0    [   (100 đã bán)\n",
              "1  0        (100 đã bán)\n",
              "2  0        (100 đã bán)\n",
              "3  0        (102 đã bán)\n",
              "4  0        (101 đã bán)\n",
              "dtype: object"
            ]
          },
          "metadata": {},
          "execution_count": 354
        }
      ]
    },
    {
      "cell_type": "markdown",
      "metadata": {
        "id": "5sVTdtstycGE"
      },
      "source": [
        "***Xử lý df2:***"
      ]
    },
    {
      "cell_type": "code",
      "metadata": {
        "id": "RgWhQjegw9pw"
      },
      "source": [
        "df2=pd.DataFrame(df2)\n"
      ],
      "execution_count": 355,
      "outputs": []
    },
    {
      "cell_type": "code",
      "metadata": {
        "id": "XIfGy-WluZo8",
        "outputId": "f3639eb4-5bff-4f31-8451-352c8aaa099b",
        "colab": {
          "base_uri": "https://localhost:8080/",
          "height": 142
        }
      },
      "source": [
        "\n",
        "df2=df2.reset_index()\n",
        "df2.head(3)"
      ],
      "execution_count": 356,
      "outputs": [
        {
          "output_type": "execute_result",
          "data": {
            "text/html": [
              "<div>\n",
              "<style scoped>\n",
              "    .dataframe tbody tr th:only-of-type {\n",
              "        vertical-align: middle;\n",
              "    }\n",
              "\n",
              "    .dataframe tbody tr th {\n",
              "        vertical-align: top;\n",
              "    }\n",
              "\n",
              "    .dataframe thead th {\n",
              "        text-align: right;\n",
              "    }\n",
              "</style>\n",
              "<table border=\"1\" class=\"dataframe\">\n",
              "  <thead>\n",
              "    <tr style=\"text-align: right;\">\n",
              "      <th></th>\n",
              "      <th>level_0</th>\n",
              "      <th>level_1</th>\n",
              "      <th>0</th>\n",
              "    </tr>\n",
              "  </thead>\n",
              "  <tbody>\n",
              "    <tr>\n",
              "      <th>0</th>\n",
              "      <td>0</td>\n",
              "      <td>0</td>\n",
              "      <td>[\\n475</td>\n",
              "    </tr>\n",
              "    <tr>\n",
              "      <th>1</th>\n",
              "      <td>1</td>\n",
              "      <td>0</td>\n",
              "      <td>000₫\\n</td>\n",
              "    </tr>\n",
              "    <tr>\n",
              "      <th>2</th>\n",
              "      <td>2</td>\n",
              "      <td>0</td>\n",
              "      <td>\\n475</td>\n",
              "    </tr>\n",
              "  </tbody>\n",
              "</table>\n",
              "</div>"
            ],
            "text/plain": [
              "   level_0  level_1       0\n",
              "0        0        0  [\\n475\n",
              "1        1        0  000₫\\n\n",
              "2        2        0   \\n475"
            ]
          },
          "metadata": {},
          "execution_count": 356
        }
      ]
    },
    {
      "cell_type": "code",
      "metadata": {
        "id": "8LPBH8kAx9LW"
      },
      "source": [
        "\n",
        "del df2['level_0']\n",
        "del df2['level_1']"
      ],
      "execution_count": 357,
      "outputs": []
    },
    {
      "cell_type": "markdown",
      "metadata": {
        "id": "ro7pID8Rylga"
      },
      "source": [
        "Xử lí df1"
      ]
    },
    {
      "cell_type": "code",
      "metadata": {
        "id": "4m769EkTyn1f",
        "outputId": "804121e6-1460-4e60-824a-af0278a59a29",
        "colab": {
          "base_uri": "https://localhost:8080/",
          "height": 359
        }
      },
      "source": [
        "df=pd.DataFrame(df)\n",
        "df.reset_index().head(10)"
      ],
      "execution_count": 361,
      "outputs": [
        {
          "output_type": "execute_result",
          "data": {
            "text/html": [
              "<div>\n",
              "<style scoped>\n",
              "    .dataframe tbody tr th:only-of-type {\n",
              "        vertical-align: middle;\n",
              "    }\n",
              "\n",
              "    .dataframe tbody tr th {\n",
              "        vertical-align: top;\n",
              "    }\n",
              "\n",
              "    .dataframe thead th {\n",
              "        text-align: right;\n",
              "    }\n",
              "</style>\n",
              "<table border=\"1\" class=\"dataframe\">\n",
              "  <thead>\n",
              "    <tr style=\"text-align: right;\">\n",
              "      <th></th>\n",
              "      <th>level_0</th>\n",
              "      <th>level_1</th>\n",
              "      <th>0</th>\n",
              "    </tr>\n",
              "  </thead>\n",
              "  <tbody>\n",
              "    <tr>\n",
              "      <th>0</th>\n",
              "      <td>0</td>\n",
              "      <td>0</td>\n",
              "      <td>[Áo len nam Biluxury 5ALRT001TRK</td>\n",
              "    </tr>\n",
              "    <tr>\n",
              "      <th>1</th>\n",
              "      <td>1</td>\n",
              "      <td>0</td>\n",
              "      <td>Áo len nam Biluxury 5ALRT001TTS</td>\n",
              "    </tr>\n",
              "    <tr>\n",
              "      <th>2</th>\n",
              "      <td>2</td>\n",
              "      <td>0</td>\n",
              "      <td>Áo len nam Biluxury 5ALRT001DEN</td>\n",
              "    </tr>\n",
              "    <tr>\n",
              "      <th>3</th>\n",
              "      <td>3</td>\n",
              "      <td>0</td>\n",
              "      <td>Áo khoác gió 5AG2T004GHS</td>\n",
              "    </tr>\n",
              "    <tr>\n",
              "      <th>4</th>\n",
              "      <td>4</td>\n",
              "      <td>0</td>\n",
              "      <td>Áo khoác gió 5AG2T004CAM</td>\n",
              "    </tr>\n",
              "    <tr>\n",
              "      <th>5</th>\n",
              "      <td>5</td>\n",
              "      <td>0</td>\n",
              "      <td>Áo khoác gió 5AG2T004DEN</td>\n",
              "    </tr>\n",
              "    <tr>\n",
              "      <th>6</th>\n",
              "      <td>6</td>\n",
              "      <td>0</td>\n",
              "      <td>Áo khoác gió 5AG2T007GHS</td>\n",
              "    </tr>\n",
              "    <tr>\n",
              "      <th>7</th>\n",
              "      <td>7</td>\n",
              "      <td>0</td>\n",
              "      <td>Áo khoác gió 2 lớp 4AG2H009DEN</td>\n",
              "    </tr>\n",
              "    <tr>\n",
              "      <th>8</th>\n",
              "      <td>8</td>\n",
              "      <td>0</td>\n",
              "      <td>Áo khoác gió 5AG2T004TTS</td>\n",
              "    </tr>\n",
              "    <tr>\n",
              "      <th>9</th>\n",
              "      <td>9</td>\n",
              "      <td>0</td>\n",
              "      <td>Áo khoác gió 5AG2T009DEN</td>\n",
              "    </tr>\n",
              "  </tbody>\n",
              "</table>\n",
              "</div>"
            ],
            "text/plain": [
              "   level_0  level_1                                 0\n",
              "0        0        0  [Áo len nam Biluxury 5ALRT001TRK\n",
              "1        1        0   Áo len nam Biluxury 5ALRT001TTS\n",
              "2        2        0   Áo len nam Biluxury 5ALRT001DEN\n",
              "3        3        0          Áo khoác gió 5AG2T004GHS\n",
              "4        4        0          Áo khoác gió 5AG2T004CAM\n",
              "5        5        0          Áo khoác gió 5AG2T004DEN\n",
              "6        6        0          Áo khoác gió 5AG2T007GHS\n",
              "7        7        0    Áo khoác gió 2 lớp 4AG2H009DEN\n",
              "8        8        0          Áo khoác gió 5AG2T004TTS\n",
              "9        9        0          Áo khoác gió 5AG2T009DEN"
            ]
          },
          "metadata": {},
          "execution_count": 361
        }
      ]
    }
  ]
}