{
  "nbformat": 4,
  "nbformat_minor": 0,
  "metadata": {
    "colab": {
      "name": "Swapping Web DoAn.ipynb",
      "provenance": [],
      "authorship_tag": "ABX9TyPYMavEwzzNTAIvk0dL7gCV",
      "include_colab_link": true
    },
    "kernelspec": {
      "name": "python3",
      "display_name": "Python 3"
    },
    "language_info": {
      "name": "python"
    }
  },
  "cells": [
    {
      "cell_type": "markdown",
      "metadata": {
        "id": "view-in-github",
        "colab_type": "text"
      },
      "source": [
        "<a href=\"https://colab.research.google.com/github/trinhvanypro1/Learning-Python-Advanced/blob/master/Swapping_Web_DoAn.ipynb\" target=\"_parent\"><img src=\"https://colab.research.google.com/assets/colab-badge.svg\" alt=\"Open In Colab\"/></a>"
      ]
    },
    {
      "cell_type": "markdown",
      "metadata": {
        "id": "4dJGn7JvpU6M"
      },
      "source": [
        "***Import các module cần thiết***"
      ]
    },
    {
      "cell_type": "code",
      "metadata": {
        "id": "_EGfQsdmbPL3"
      },
      "source": [
        "import pandas as pd\n",
        "import numpy as np\n",
        "import matplotlib.pyplot as plt\n",
        "import seaborn as sns\n",
        "%matplotlib inline\n",
        "from urllib.request import urlopen\n",
        "from bs4 import BeautifulSoup"
      ],
      "execution_count": 865,
      "outputs": []
    },
    {
      "cell_type": "markdown",
      "metadata": {
        "id": "3tDyL6i0png3"
      },
      "source": [
        "***import link và khởi tạo module BeautifulSoup***"
      ]
    },
    {
      "cell_type": "code",
      "metadata": {
        "id": "Qbm08ppMbTQD"
      },
      "source": [
        "url='https://biluxury.vn/collections/ao-nam'\n",
        "html=urlopen(url)\n",
        "soup=BeautifulSoup(html,'lxml')"
      ],
      "execution_count": 866,
      "outputs": []
    },
    {
      "cell_type": "code",
      "metadata": {
        "colab": {
          "base_uri": "https://localhost:8080/"
        },
        "id": "i03ZJW2IcaSn",
        "outputId": "6ae9c0cd-95b3-4286-f929-a9b6f4d9c6c9"
      },
      "source": [
        "title=soup.title\n",
        "print(title)"
      ],
      "execution_count": 867,
      "outputs": [
        {
          "output_type": "stream",
          "name": "stdout",
          "text": [
            "<title>\n",
            "\t\t\tÁo nam\n",
            "\t\t</title>\n"
          ]
        }
      ]
    },
    {
      "cell_type": "markdown",
      "metadata": {
        "id": "9A1uEyQRpx1Q"
      },
      "source": [
        "***Lấy dữ liệu html từ sản phẩm áo***"
      ]
    },
    {
      "cell_type": "code",
      "metadata": {
        "id": "pUqhvh4VemMp"
      },
      "source": [
        "list_ao=soup.find_all('div', attrs={'class':'grid-uniform product-list md-mg-left-15 d-flex-wrap'})"
      ],
      "execution_count": 868,
      "outputs": []
    },
    {
      "cell_type": "markdown",
      "metadata": {
        "id": "p6wn4iv1p7eX"
      },
      "source": [
        "Lấy dữ liệu "
      ]
    },
    {
      "cell_type": "code",
      "metadata": {
        "id": "cjtD2IyqgunW"
      },
      "source": [
        "# Tên sản phẩm:\n",
        "for i in list_ao:\n",
        "  sp=i.find_all('h3',attrs={'class':\"product-title\"})\n",
        "  str_sp=str(sp)\n",
        "  list_sp=[]\n",
        "  import re\n",
        "  clean=re.compile('<.*?>')\n",
        "  clean2=(re.sub(clean, '',str_sp))\n",
        "  list_sp.append(clean2)"
      ],
      "execution_count": 869,
      "outputs": []
    },
    {
      "cell_type": "code",
      "metadata": {
        "id": "GmGJDvrkjOIn"
      },
      "source": [
        "#Giá sản phẩm:\n",
        "for j in list_ao:\n",
        "  gia=j.find_all('div',attrs={'class':'product-price'})\n",
        "  str_gia=str(gia)\n",
        "  list_gia=[]\n",
        "  import re\n",
        "  clean_gia=re.compile('<.*?>')\n",
        "  clean_gia2=(re.sub(clean_gia, '',str_gia))\n",
        "  list_gia.append(clean_gia2)"
      ],
      "execution_count": 870,
      "outputs": []
    },
    {
      "cell_type": "code",
      "metadata": {
        "id": "X_0FzYr2nzGU"
      },
      "source": [
        "#Số lượng bán:\n",
        "for k in list_ao:\n",
        "  sl_ban=k.find_all('div',attrs={'class':'product-sold'})\n",
        "  str_sl_ban=str(sl_ban)\n",
        "  list_sl_ban=[]\n",
        "  import re\n",
        "  clean_sl_ban=re.compile('<.*?>')\n",
        "  clean_sl_ban2=(re.sub(clean_sl_ban,'',str_sl_ban))\n",
        "  list_sl_ban.append(clean_sl_ban2)"
      ],
      "execution_count": 871,
      "outputs": []
    },
    {
      "cell_type": "markdown",
      "metadata": {
        "id": "_pg2KNQZrmdc"
      },
      "source": [
        "***In dữ liệu:***\n",
        "\n",
        "> Văn bản được thụt lề\n",
        "\n"
      ]
    },
    {
      "cell_type": "code",
      "metadata": {
        "colab": {
          "base_uri": "https://localhost:8080/"
        },
        "id": "c2MV7wYRiVZE",
        "outputId": "ddcb50b5-30e3-43cd-b969-7444ae6bd6a0"
      },
      "source": [
        "list_sp"
      ],
      "execution_count": 872,
      "outputs": [
        {
          "output_type": "execute_result",
          "data": {
            "text/plain": [
              "['[Áo len nam Biluxury 5ALRT001TRK, Áo len nam Biluxury 5ALRT001TTS, Áo len nam Biluxury 5ALRT001DEN, Áo khoác gió 5AG2T004GHS, Áo khoác gió 5AG2T004CAM, Áo khoác gió 5AG2T004DEN, Áo khoác gió 5AG2T007GHS, Áo khoác gió 2 lớp 4AG2H009DEN, Áo khoác gió 5AG2T004TTS, Áo khoác gió 5AG2T009DEN, Áo khoác gió 4AG2T007REU, Áo nỉ thể thao cao cấp 4ANOT008GHT, Áo nỉ thể thao cao cấp 4ANOT012VAB, Áo vest nam Biluxury 5AVBC007DEN, Áo vest nam Biluxury 5AVBC008DEN, Áo len nam Biluxury 5ALRH002TTS, Áo len nam Biluxury 5ALRH001GHS, Áo khoác gió 5AG2T007TTT, Áo khoác gió 5AG2T009XAH, Áo Thun giữ nhiệt Biluxury 5ATOB001XDM, Áo Thun giữ nhiệt Biluxury 5ATOB001TTT, Áo Thun giữ nhiệt Biluxury 5ATOB001TRK, Áo Thun giữ nhiệt Biluxury 5ATOB001GHT, Áo Thun giữ nhiệt Biluxury 5ATOB001GHS]']"
            ]
          },
          "metadata": {},
          "execution_count": 872
        }
      ]
    },
    {
      "cell_type": "code",
      "metadata": {
        "id": "EkZNDkGKnpGR",
        "colab": {
          "base_uri": "https://localhost:8080/"
        },
        "outputId": "7837a140-14e1-4590-c1d6-27878eb46d7c"
      },
      "source": [
        "list_gia"
      ],
      "execution_count": 873,
      "outputs": [
        {
          "output_type": "execute_result",
          "data": {
            "text/plain": [
              "['[\\n475,000₫\\n, \\n475,000₫\\n, \\n475,000₫\\n, \\n699,000₫\\n, \\n699,000₫\\n, \\n699,000₫\\n, \\n695,000₫\\n, \\n735,000₫\\n, \\n469,000₫ 699,000₫\\n, \\n799,000₫\\n, \\n399,000₫ 945,000₫\\n, \\n249,000₫ 398,000₫\\n, \\n249,000₫ 389,000₫\\n, \\n1,690,000₫\\n, \\n1,865,000₫\\n, \\n525,000₫\\n, \\n535,000₫\\n, \\n695,000₫\\n, \\n799,000₫\\n, \\n99,000₫ 279,000₫\\n, \\n99,000₫ 279,000₫\\n, \\n99,000₫ 279,000₫\\n, \\n99,000₫ 279,000₫\\n, \\n99,000₫ 279,000₫\\n]']"
            ]
          },
          "metadata": {},
          "execution_count": 873
        }
      ]
    },
    {
      "cell_type": "code",
      "metadata": {
        "id": "DUbrKOF6oqm2",
        "colab": {
          "base_uri": "https://localhost:8080/"
        },
        "outputId": "fdbf4cdc-9d0e-4b73-a9ca-5ae90bf7b777"
      },
      "source": [
        "list_sl_ban"
      ],
      "execution_count": 874,
      "outputs": [
        {
          "output_type": "execute_result",
          "data": {
            "text/plain": [
              "['[   (100 đã bán),    (101 đã bán),    (100 đã bán),    (102 đã bán),    (101 đã bán),    (104 đã bán),    (103 đã bán),    (102 đã bán),    (103 đã bán),    (102 đã bán),    (130 đã bán),    (108 đã bán),    (102 đã bán),    (100 đã bán),    (100 đã bán),    (103 đã bán),    (103 đã bán),    (110 đã bán),    (111 đã bán),    (136 đã bán),    (125 đã bán),    (124 đã bán),    (125 đã bán),    (122 đã bán)]']"
            ]
          },
          "metadata": {},
          "execution_count": 874
        }
      ]
    },
    {
      "cell_type": "markdown",
      "metadata": {
        "id": "dHxQ7INSrpK_"
      },
      "source": [
        "***Tạo DataFrame***"
      ]
    },
    {
      "cell_type": "code",
      "metadata": {
        "colab": {
          "base_uri": "https://localhost:8080/",
          "height": 80
        },
        "id": "cm-VR3LZiYoj",
        "outputId": "64163f5a-9868-48a6-c8e2-33842906273e"
      },
      "source": [
        "df=pd.DataFrame(list_sp)\n",
        "df.head(10)\n"
      ],
      "execution_count": 875,
      "outputs": [
        {
          "output_type": "execute_result",
          "data": {
            "text/html": [
              "<div>\n",
              "<style scoped>\n",
              "    .dataframe tbody tr th:only-of-type {\n",
              "        vertical-align: middle;\n",
              "    }\n",
              "\n",
              "    .dataframe tbody tr th {\n",
              "        vertical-align: top;\n",
              "    }\n",
              "\n",
              "    .dataframe thead th {\n",
              "        text-align: right;\n",
              "    }\n",
              "</style>\n",
              "<table border=\"1\" class=\"dataframe\">\n",
              "  <thead>\n",
              "    <tr style=\"text-align: right;\">\n",
              "      <th></th>\n",
              "      <th>0</th>\n",
              "    </tr>\n",
              "  </thead>\n",
              "  <tbody>\n",
              "    <tr>\n",
              "      <th>0</th>\n",
              "      <td>[Áo len nam Biluxury 5ALRT001TRK, Áo len nam B...</td>\n",
              "    </tr>\n",
              "  </tbody>\n",
              "</table>\n",
              "</div>"
            ],
            "text/plain": [
              "                                                   0\n",
              "0  [Áo len nam Biluxury 5ALRT001TRK, Áo len nam B..."
            ]
          },
          "metadata": {},
          "execution_count": 875
        }
      ]
    },
    {
      "cell_type": "code",
      "metadata": {
        "id": "LAapG5JmrutP",
        "colab": {
          "base_uri": "https://localhost:8080/",
          "height": 80
        },
        "outputId": "6f08d9e0-5619-48d9-f345-effc999d606a"
      },
      "source": [
        "df2=pd.DataFrame(list_gia)\n",
        "df2.head(10)"
      ],
      "execution_count": 876,
      "outputs": [
        {
          "output_type": "execute_result",
          "data": {
            "text/html": [
              "<div>\n",
              "<style scoped>\n",
              "    .dataframe tbody tr th:only-of-type {\n",
              "        vertical-align: middle;\n",
              "    }\n",
              "\n",
              "    .dataframe tbody tr th {\n",
              "        vertical-align: top;\n",
              "    }\n",
              "\n",
              "    .dataframe thead th {\n",
              "        text-align: right;\n",
              "    }\n",
              "</style>\n",
              "<table border=\"1\" class=\"dataframe\">\n",
              "  <thead>\n",
              "    <tr style=\"text-align: right;\">\n",
              "      <th></th>\n",
              "      <th>0</th>\n",
              "    </tr>\n",
              "  </thead>\n",
              "  <tbody>\n",
              "    <tr>\n",
              "      <th>0</th>\n",
              "      <td>[\\n475,000₫\\n, \\n475,000₫\\n, \\n475,000₫\\n, \\n6...</td>\n",
              "    </tr>\n",
              "  </tbody>\n",
              "</table>\n",
              "</div>"
            ],
            "text/plain": [
              "                                                   0\n",
              "0  [\\n475,000₫\\n, \\n475,000₫\\n, \\n475,000₫\\n, \\n6..."
            ]
          },
          "metadata": {},
          "execution_count": 876
        }
      ]
    },
    {
      "cell_type": "code",
      "metadata": {
        "id": "QFRPi651r6HZ",
        "colab": {
          "base_uri": "https://localhost:8080/",
          "height": 80
        },
        "outputId": "0c9cf04e-c2fb-4866-eefb-28c8eafb8182"
      },
      "source": [
        "df3=pd.DataFrame(list_sl_ban)\n",
        "df3.head(10)"
      ],
      "execution_count": 877,
      "outputs": [
        {
          "output_type": "execute_result",
          "data": {
            "text/html": [
              "<div>\n",
              "<style scoped>\n",
              "    .dataframe tbody tr th:only-of-type {\n",
              "        vertical-align: middle;\n",
              "    }\n",
              "\n",
              "    .dataframe tbody tr th {\n",
              "        vertical-align: top;\n",
              "    }\n",
              "\n",
              "    .dataframe thead th {\n",
              "        text-align: right;\n",
              "    }\n",
              "</style>\n",
              "<table border=\"1\" class=\"dataframe\">\n",
              "  <thead>\n",
              "    <tr style=\"text-align: right;\">\n",
              "      <th></th>\n",
              "      <th>0</th>\n",
              "    </tr>\n",
              "  </thead>\n",
              "  <tbody>\n",
              "    <tr>\n",
              "      <th>0</th>\n",
              "      <td>[   (100 đã bán),    (101 đã bán),    (100 đã ...</td>\n",
              "    </tr>\n",
              "  </tbody>\n",
              "</table>\n",
              "</div>"
            ],
            "text/plain": [
              "                                                   0\n",
              "0  [   (100 đã bán),    (101 đã bán),    (100 đã ..."
            ]
          },
          "metadata": {},
          "execution_count": 877
        }
      ]
    },
    {
      "cell_type": "markdown",
      "metadata": {
        "id": "vJHD_X2kr42X"
      },
      "source": [
        "***Tách giá trị***"
      ]
    },
    {
      "cell_type": "code",
      "metadata": {
        "colab": {
          "base_uri": "https://localhost:8080/",
          "height": 134
        },
        "id": "iJ01GXFiipo5",
        "outputId": "575a059d-b25f-4054-ec57-f7895fc78beb"
      },
      "source": [
        "df=df[0].str.split(',',expand=True)\n",
        "df.head(7)"
      ],
      "execution_count": 878,
      "outputs": [
        {
          "output_type": "execute_result",
          "data": {
            "text/html": [
              "<div>\n",
              "<style scoped>\n",
              "    .dataframe tbody tr th:only-of-type {\n",
              "        vertical-align: middle;\n",
              "    }\n",
              "\n",
              "    .dataframe tbody tr th {\n",
              "        vertical-align: top;\n",
              "    }\n",
              "\n",
              "    .dataframe thead th {\n",
              "        text-align: right;\n",
              "    }\n",
              "</style>\n",
              "<table border=\"1\" class=\"dataframe\">\n",
              "  <thead>\n",
              "    <tr style=\"text-align: right;\">\n",
              "      <th></th>\n",
              "      <th>0</th>\n",
              "      <th>1</th>\n",
              "      <th>2</th>\n",
              "      <th>3</th>\n",
              "      <th>4</th>\n",
              "      <th>5</th>\n",
              "      <th>6</th>\n",
              "      <th>7</th>\n",
              "      <th>8</th>\n",
              "      <th>9</th>\n",
              "      <th>10</th>\n",
              "      <th>11</th>\n",
              "      <th>12</th>\n",
              "      <th>13</th>\n",
              "      <th>14</th>\n",
              "      <th>15</th>\n",
              "      <th>16</th>\n",
              "      <th>17</th>\n",
              "      <th>18</th>\n",
              "      <th>19</th>\n",
              "      <th>20</th>\n",
              "      <th>21</th>\n",
              "      <th>22</th>\n",
              "      <th>23</th>\n",
              "    </tr>\n",
              "  </thead>\n",
              "  <tbody>\n",
              "    <tr>\n",
              "      <th>0</th>\n",
              "      <td>[Áo len nam Biluxury 5ALRT001TRK</td>\n",
              "      <td>Áo len nam Biluxury 5ALRT001TTS</td>\n",
              "      <td>Áo len nam Biluxury 5ALRT001DEN</td>\n",
              "      <td>Áo khoác gió 5AG2T004GHS</td>\n",
              "      <td>Áo khoác gió 5AG2T004CAM</td>\n",
              "      <td>Áo khoác gió 5AG2T004DEN</td>\n",
              "      <td>Áo khoác gió 5AG2T007GHS</td>\n",
              "      <td>Áo khoác gió 2 lớp 4AG2H009DEN</td>\n",
              "      <td>Áo khoác gió 5AG2T004TTS</td>\n",
              "      <td>Áo khoác gió 5AG2T009DEN</td>\n",
              "      <td>Áo khoác gió 4AG2T007REU</td>\n",
              "      <td>Áo nỉ thể thao cao cấp 4ANOT008GHT</td>\n",
              "      <td>Áo nỉ thể thao cao cấp 4ANOT012VAB</td>\n",
              "      <td>Áo vest nam Biluxury 5AVBC007DEN</td>\n",
              "      <td>Áo vest nam Biluxury 5AVBC008DEN</td>\n",
              "      <td>Áo len nam Biluxury 5ALRH002TTS</td>\n",
              "      <td>Áo len nam Biluxury 5ALRH001GHS</td>\n",
              "      <td>Áo khoác gió 5AG2T007TTT</td>\n",
              "      <td>Áo khoác gió 5AG2T009XAH</td>\n",
              "      <td>Áo Thun giữ nhiệt Biluxury 5ATOB001XDM</td>\n",
              "      <td>Áo Thun giữ nhiệt Biluxury 5ATOB001TTT</td>\n",
              "      <td>Áo Thun giữ nhiệt Biluxury 5ATOB001TRK</td>\n",
              "      <td>Áo Thun giữ nhiệt Biluxury 5ATOB001GHT</td>\n",
              "      <td>Áo Thun giữ nhiệt Biluxury 5ATOB001GHS]</td>\n",
              "    </tr>\n",
              "  </tbody>\n",
              "</table>\n",
              "</div>"
            ],
            "text/plain": [
              "                                 0   ...                                        23\n",
              "0  [Áo len nam Biluxury 5ALRT001TRK  ...   Áo Thun giữ nhiệt Biluxury 5ATOB001GHS]\n",
              "\n",
              "[1 rows x 24 columns]"
            ]
          },
          "metadata": {},
          "execution_count": 878
        }
      ]
    },
    {
      "cell_type": "code",
      "metadata": {
        "id": "keblXuo0sDoP",
        "colab": {
          "base_uri": "https://localhost:8080/",
          "height": 117
        },
        "outputId": "497bc7f0-09e2-476b-b0c5-34880f84a3f6"
      },
      "source": [
        "df2=df2[0].str.split(' ',expand=True)\n",
        "df2.head(5)"
      ],
      "execution_count": 879,
      "outputs": [
        {
          "output_type": "execute_result",
          "data": {
            "text/html": [
              "<div>\n",
              "<style scoped>\n",
              "    .dataframe tbody tr th:only-of-type {\n",
              "        vertical-align: middle;\n",
              "    }\n",
              "\n",
              "    .dataframe tbody tr th {\n",
              "        vertical-align: top;\n",
              "    }\n",
              "\n",
              "    .dataframe thead th {\n",
              "        text-align: right;\n",
              "    }\n",
              "</style>\n",
              "<table border=\"1\" class=\"dataframe\">\n",
              "  <thead>\n",
              "    <tr style=\"text-align: right;\">\n",
              "      <th></th>\n",
              "      <th>0</th>\n",
              "      <th>1</th>\n",
              "      <th>2</th>\n",
              "      <th>3</th>\n",
              "      <th>4</th>\n",
              "      <th>5</th>\n",
              "      <th>6</th>\n",
              "      <th>7</th>\n",
              "      <th>8</th>\n",
              "      <th>9</th>\n",
              "      <th>10</th>\n",
              "      <th>11</th>\n",
              "      <th>12</th>\n",
              "      <th>13</th>\n",
              "      <th>14</th>\n",
              "      <th>15</th>\n",
              "      <th>16</th>\n",
              "      <th>17</th>\n",
              "      <th>18</th>\n",
              "      <th>19</th>\n",
              "      <th>20</th>\n",
              "      <th>21</th>\n",
              "      <th>22</th>\n",
              "      <th>23</th>\n",
              "      <th>24</th>\n",
              "      <th>25</th>\n",
              "      <th>26</th>\n",
              "      <th>27</th>\n",
              "      <th>28</th>\n",
              "      <th>29</th>\n",
              "      <th>30</th>\n",
              "      <th>31</th>\n",
              "      <th>32</th>\n",
              "    </tr>\n",
              "  </thead>\n",
              "  <tbody>\n",
              "    <tr>\n",
              "      <th>0</th>\n",
              "      <td>[\\n475,000₫\\n,</td>\n",
              "      <td>\\n475,000₫\\n,</td>\n",
              "      <td>\\n475,000₫\\n,</td>\n",
              "      <td>\\n699,000₫\\n,</td>\n",
              "      <td>\\n699,000₫\\n,</td>\n",
              "      <td>\\n699,000₫\\n,</td>\n",
              "      <td>\\n695,000₫\\n,</td>\n",
              "      <td>\\n735,000₫\\n,</td>\n",
              "      <td>\\n469,000₫</td>\n",
              "      <td>699,000₫\\n,</td>\n",
              "      <td>\\n799,000₫\\n,</td>\n",
              "      <td>\\n399,000₫</td>\n",
              "      <td>945,000₫\\n,</td>\n",
              "      <td>\\n249,000₫</td>\n",
              "      <td>398,000₫\\n,</td>\n",
              "      <td>\\n249,000₫</td>\n",
              "      <td>389,000₫\\n,</td>\n",
              "      <td>\\n1,690,000₫\\n,</td>\n",
              "      <td>\\n1,865,000₫\\n,</td>\n",
              "      <td>\\n525,000₫\\n,</td>\n",
              "      <td>\\n535,000₫\\n,</td>\n",
              "      <td>\\n695,000₫\\n,</td>\n",
              "      <td>\\n799,000₫\\n,</td>\n",
              "      <td>\\n99,000₫</td>\n",
              "      <td>279,000₫\\n,</td>\n",
              "      <td>\\n99,000₫</td>\n",
              "      <td>279,000₫\\n,</td>\n",
              "      <td>\\n99,000₫</td>\n",
              "      <td>279,000₫\\n,</td>\n",
              "      <td>\\n99,000₫</td>\n",
              "      <td>279,000₫\\n,</td>\n",
              "      <td>\\n99,000₫</td>\n",
              "      <td>279,000₫\\n]</td>\n",
              "    </tr>\n",
              "  </tbody>\n",
              "</table>\n",
              "</div>"
            ],
            "text/plain": [
              "               0              1   ...         31           32\n",
              "0  [\\n475,000₫\\n,  \\n475,000₫\\n,  ...  \\n99,000₫  279,000₫\\n]\n",
              "\n",
              "[1 rows x 33 columns]"
            ]
          },
          "metadata": {},
          "execution_count": 879
        }
      ]
    },
    {
      "cell_type": "code",
      "metadata": {
        "id": "T4heGAXSsRr0",
        "colab": {
          "base_uri": "https://localhost:8080/",
          "height": 114
        },
        "outputId": "979431c6-5138-4dee-9883-8ed9c2e73286"
      },
      "source": [
        "df3=df3[0].str.split(',',expand=True)\n",
        "df3.head(5)"
      ],
      "execution_count": 880,
      "outputs": [
        {
          "output_type": "execute_result",
          "data": {
            "text/html": [
              "<div>\n",
              "<style scoped>\n",
              "    .dataframe tbody tr th:only-of-type {\n",
              "        vertical-align: middle;\n",
              "    }\n",
              "\n",
              "    .dataframe tbody tr th {\n",
              "        vertical-align: top;\n",
              "    }\n",
              "\n",
              "    .dataframe thead th {\n",
              "        text-align: right;\n",
              "    }\n",
              "</style>\n",
              "<table border=\"1\" class=\"dataframe\">\n",
              "  <thead>\n",
              "    <tr style=\"text-align: right;\">\n",
              "      <th></th>\n",
              "      <th>0</th>\n",
              "      <th>1</th>\n",
              "      <th>2</th>\n",
              "      <th>3</th>\n",
              "      <th>4</th>\n",
              "      <th>5</th>\n",
              "      <th>6</th>\n",
              "      <th>7</th>\n",
              "      <th>8</th>\n",
              "      <th>9</th>\n",
              "      <th>10</th>\n",
              "      <th>11</th>\n",
              "      <th>12</th>\n",
              "      <th>13</th>\n",
              "      <th>14</th>\n",
              "      <th>15</th>\n",
              "      <th>16</th>\n",
              "      <th>17</th>\n",
              "      <th>18</th>\n",
              "      <th>19</th>\n",
              "      <th>20</th>\n",
              "      <th>21</th>\n",
              "      <th>22</th>\n",
              "      <th>23</th>\n",
              "    </tr>\n",
              "  </thead>\n",
              "  <tbody>\n",
              "    <tr>\n",
              "      <th>0</th>\n",
              "      <td>[   (100 đã bán)</td>\n",
              "      <td>(101 đã bán)</td>\n",
              "      <td>(100 đã bán)</td>\n",
              "      <td>(102 đã bán)</td>\n",
              "      <td>(101 đã bán)</td>\n",
              "      <td>(104 đã bán)</td>\n",
              "      <td>(103 đã bán)</td>\n",
              "      <td>(102 đã bán)</td>\n",
              "      <td>(103 đã bán)</td>\n",
              "      <td>(102 đã bán)</td>\n",
              "      <td>(130 đã bán)</td>\n",
              "      <td>(108 đã bán)</td>\n",
              "      <td>(102 đã bán)</td>\n",
              "      <td>(100 đã bán)</td>\n",
              "      <td>(100 đã bán)</td>\n",
              "      <td>(103 đã bán)</td>\n",
              "      <td>(103 đã bán)</td>\n",
              "      <td>(110 đã bán)</td>\n",
              "      <td>(111 đã bán)</td>\n",
              "      <td>(136 đã bán)</td>\n",
              "      <td>(125 đã bán)</td>\n",
              "      <td>(124 đã bán)</td>\n",
              "      <td>(125 đã bán)</td>\n",
              "      <td>(122 đã bán)]</td>\n",
              "    </tr>\n",
              "  </tbody>\n",
              "</table>\n",
              "</div>"
            ],
            "text/plain": [
              "                 0                 1   ...                22                 23\n",
              "0  [   (100 đã bán)      (101 đã bán)  ...      (125 đã bán)      (122 đã bán)]\n",
              "\n",
              "[1 rows x 24 columns]"
            ]
          },
          "metadata": {},
          "execution_count": 880
        }
      ]
    },
    {
      "cell_type": "markdown",
      "metadata": {
        "id": "0bY40wfpsaAU"
      },
      "source": [
        "***Chuyển về dạng unstack***"
      ]
    },
    {
      "cell_type": "code",
      "metadata": {
        "colab": {
          "base_uri": "https://localhost:8080/"
        },
        "id": "LYf2LaCoj-So",
        "outputId": "bb8493af-ecbc-4b7d-9451-d5153d92357a"
      },
      "source": [
        "df=df.unstack()\n",
        "df.head(10)"
      ],
      "execution_count": 881,
      "outputs": [
        {
          "output_type": "execute_result",
          "data": {
            "text/plain": [
              "0  0    [Áo len nam Biluxury 5ALRT001TRK\n",
              "1  0     Áo len nam Biluxury 5ALRT001TTS\n",
              "2  0     Áo len nam Biluxury 5ALRT001DEN\n",
              "3  0            Áo khoác gió 5AG2T004GHS\n",
              "4  0            Áo khoác gió 5AG2T004CAM\n",
              "5  0            Áo khoác gió 5AG2T004DEN\n",
              "6  0            Áo khoác gió 5AG2T007GHS\n",
              "7  0      Áo khoác gió 2 lớp 4AG2H009DEN\n",
              "8  0            Áo khoác gió 5AG2T004TTS\n",
              "9  0            Áo khoác gió 5AG2T009DEN\n",
              "dtype: object"
            ]
          },
          "metadata": {},
          "execution_count": 881
        }
      ]
    },
    {
      "cell_type": "code",
      "metadata": {
        "id": "1FPe1_0ci_uf",
        "colab": {
          "base_uri": "https://localhost:8080/"
        },
        "outputId": "93b54098-0105-4d7c-b45e-02c728337649"
      },
      "source": [
        "df2=df2.unstack()\n",
        "df2.head(5)"
      ],
      "execution_count": 882,
      "outputs": [
        {
          "output_type": "execute_result",
          "data": {
            "text/plain": [
              "0  0    [\\n475,000₫\\n,\n",
              "1  0     \\n475,000₫\\n,\n",
              "2  0     \\n475,000₫\\n,\n",
              "3  0     \\n699,000₫\\n,\n",
              "4  0     \\n699,000₫\\n,\n",
              "dtype: object"
            ]
          },
          "metadata": {},
          "execution_count": 882
        }
      ]
    },
    {
      "cell_type": "code",
      "metadata": {
        "id": "gjjkiRcNs148",
        "colab": {
          "base_uri": "https://localhost:8080/"
        },
        "outputId": "c5115e2e-002b-4192-dd05-41d721ae8694"
      },
      "source": [
        "df3=df3.unstack()\n",
        "df3.head(5)"
      ],
      "execution_count": 883,
      "outputs": [
        {
          "output_type": "execute_result",
          "data": {
            "text/plain": [
              "0  0    [   (100 đã bán)\n",
              "1  0        (101 đã bán)\n",
              "2  0        (100 đã bán)\n",
              "3  0        (102 đã bán)\n",
              "4  0        (101 đã bán)\n",
              "dtype: object"
            ]
          },
          "metadata": {},
          "execution_count": 883
        }
      ]
    },
    {
      "cell_type": "markdown",
      "metadata": {
        "id": "h2uNeFzZVTUo"
      },
      "source": [
        "**Xử lý df3**"
      ]
    },
    {
      "cell_type": "code",
      "metadata": {
        "id": "ioFxq8LlVV-h"
      },
      "source": [
        "df3=pd.DataFrame(df3)"
      ],
      "execution_count": 884,
      "outputs": []
    },
    {
      "cell_type": "code",
      "metadata": {
        "id": "5nSHYjY-VaSS",
        "outputId": "f1e6d602-5995-4bdd-ff6a-5dd55b68fc93",
        "colab": {
          "base_uri": "https://localhost:8080/",
          "height": 142
        }
      },
      "source": [
        "df3=df3.reset_index()\n",
        "df3.head(3)"
      ],
      "execution_count": 885,
      "outputs": [
        {
          "output_type": "execute_result",
          "data": {
            "text/html": [
              "<div>\n",
              "<style scoped>\n",
              "    .dataframe tbody tr th:only-of-type {\n",
              "        vertical-align: middle;\n",
              "    }\n",
              "\n",
              "    .dataframe tbody tr th {\n",
              "        vertical-align: top;\n",
              "    }\n",
              "\n",
              "    .dataframe thead th {\n",
              "        text-align: right;\n",
              "    }\n",
              "</style>\n",
              "<table border=\"1\" class=\"dataframe\">\n",
              "  <thead>\n",
              "    <tr style=\"text-align: right;\">\n",
              "      <th></th>\n",
              "      <th>level_0</th>\n",
              "      <th>level_1</th>\n",
              "      <th>0</th>\n",
              "    </tr>\n",
              "  </thead>\n",
              "  <tbody>\n",
              "    <tr>\n",
              "      <th>0</th>\n",
              "      <td>0</td>\n",
              "      <td>0</td>\n",
              "      <td>[   (100 đã bán)</td>\n",
              "    </tr>\n",
              "    <tr>\n",
              "      <th>1</th>\n",
              "      <td>1</td>\n",
              "      <td>0</td>\n",
              "      <td>(101 đã bán)</td>\n",
              "    </tr>\n",
              "    <tr>\n",
              "      <th>2</th>\n",
              "      <td>2</td>\n",
              "      <td>0</td>\n",
              "      <td>(100 đã bán)</td>\n",
              "    </tr>\n",
              "  </tbody>\n",
              "</table>\n",
              "</div>"
            ],
            "text/plain": [
              "   level_0  level_1                 0\n",
              "0        0        0  [   (100 đã bán)\n",
              "1        1        0      (101 đã bán)\n",
              "2        2        0      (100 đã bán)"
            ]
          },
          "metadata": {},
          "execution_count": 885
        }
      ]
    },
    {
      "cell_type": "code",
      "metadata": {
        "id": "Lf8A5np4VhIX"
      },
      "source": [
        "del df3['level_0']\n",
        "del df3['level_1']"
      ],
      "execution_count": 886,
      "outputs": []
    },
    {
      "cell_type": "markdown",
      "metadata": {
        "id": "5sVTdtstycGE"
      },
      "source": [
        "***Xử lý df2:***"
      ]
    },
    {
      "cell_type": "code",
      "metadata": {
        "id": "RgWhQjegw9pw"
      },
      "source": [
        "df2=pd.DataFrame(df2)\n"
      ],
      "execution_count": 887,
      "outputs": []
    },
    {
      "cell_type": "code",
      "metadata": {
        "id": "XIfGy-WluZo8",
        "colab": {
          "base_uri": "https://localhost:8080/",
          "height": 142
        },
        "outputId": "0fccfd72-f036-4cbc-9657-ab139c1010cf"
      },
      "source": [
        "\n",
        "df2=df2.reset_index()\n",
        "df2.head(3)"
      ],
      "execution_count": 888,
      "outputs": [
        {
          "output_type": "execute_result",
          "data": {
            "text/html": [
              "<div>\n",
              "<style scoped>\n",
              "    .dataframe tbody tr th:only-of-type {\n",
              "        vertical-align: middle;\n",
              "    }\n",
              "\n",
              "    .dataframe tbody tr th {\n",
              "        vertical-align: top;\n",
              "    }\n",
              "\n",
              "    .dataframe thead th {\n",
              "        text-align: right;\n",
              "    }\n",
              "</style>\n",
              "<table border=\"1\" class=\"dataframe\">\n",
              "  <thead>\n",
              "    <tr style=\"text-align: right;\">\n",
              "      <th></th>\n",
              "      <th>level_0</th>\n",
              "      <th>level_1</th>\n",
              "      <th>0</th>\n",
              "    </tr>\n",
              "  </thead>\n",
              "  <tbody>\n",
              "    <tr>\n",
              "      <th>0</th>\n",
              "      <td>0</td>\n",
              "      <td>0</td>\n",
              "      <td>[\\n475,000₫\\n,</td>\n",
              "    </tr>\n",
              "    <tr>\n",
              "      <th>1</th>\n",
              "      <td>1</td>\n",
              "      <td>0</td>\n",
              "      <td>\\n475,000₫\\n,</td>\n",
              "    </tr>\n",
              "    <tr>\n",
              "      <th>2</th>\n",
              "      <td>2</td>\n",
              "      <td>0</td>\n",
              "      <td>\\n475,000₫\\n,</td>\n",
              "    </tr>\n",
              "  </tbody>\n",
              "</table>\n",
              "</div>"
            ],
            "text/plain": [
              "   level_0  level_1               0\n",
              "0        0        0  [\\n475,000₫\\n,\n",
              "1        1        0   \\n475,000₫\\n,\n",
              "2        2        0   \\n475,000₫\\n,"
            ]
          },
          "metadata": {},
          "execution_count": 888
        }
      ]
    },
    {
      "cell_type": "code",
      "metadata": {
        "id": "8LPBH8kAx9LW"
      },
      "source": [
        "\n",
        "del df2['level_0']\n",
        "del df2['level_1']"
      ],
      "execution_count": 889,
      "outputs": []
    },
    {
      "cell_type": "code",
      "metadata": {
        "id": "J5L5zCKAF50A",
        "outputId": "89dc0373-0784-4521-8afa-a509413b7570",
        "colab": {
          "base_uri": "https://localhost:8080/",
          "height": 204
        }
      },
      "source": [
        "df2.head(5)"
      ],
      "execution_count": 890,
      "outputs": [
        {
          "output_type": "execute_result",
          "data": {
            "text/html": [
              "<div>\n",
              "<style scoped>\n",
              "    .dataframe tbody tr th:only-of-type {\n",
              "        vertical-align: middle;\n",
              "    }\n",
              "\n",
              "    .dataframe tbody tr th {\n",
              "        vertical-align: top;\n",
              "    }\n",
              "\n",
              "    .dataframe thead th {\n",
              "        text-align: right;\n",
              "    }\n",
              "</style>\n",
              "<table border=\"1\" class=\"dataframe\">\n",
              "  <thead>\n",
              "    <tr style=\"text-align: right;\">\n",
              "      <th></th>\n",
              "      <th>0</th>\n",
              "    </tr>\n",
              "  </thead>\n",
              "  <tbody>\n",
              "    <tr>\n",
              "      <th>0</th>\n",
              "      <td>[\\n475,000₫\\n,</td>\n",
              "    </tr>\n",
              "    <tr>\n",
              "      <th>1</th>\n",
              "      <td>\\n475,000₫\\n,</td>\n",
              "    </tr>\n",
              "    <tr>\n",
              "      <th>2</th>\n",
              "      <td>\\n475,000₫\\n,</td>\n",
              "    </tr>\n",
              "    <tr>\n",
              "      <th>3</th>\n",
              "      <td>\\n699,000₫\\n,</td>\n",
              "    </tr>\n",
              "    <tr>\n",
              "      <th>4</th>\n",
              "      <td>\\n699,000₫\\n,</td>\n",
              "    </tr>\n",
              "  </tbody>\n",
              "</table>\n",
              "</div>"
            ],
            "text/plain": [
              "                0\n",
              "0  [\\n475,000₫\\n,\n",
              "1   \\n475,000₫\\n,\n",
              "2   \\n475,000₫\\n,\n",
              "3   \\n699,000₫\\n,\n",
              "4   \\n699,000₫\\n,"
            ]
          },
          "metadata": {},
          "execution_count": 890
        }
      ]
    },
    {
      "cell_type": "markdown",
      "metadata": {
        "id": "IMduztwRRu4W"
      },
      "source": [
        "Xử lý df"
      ]
    },
    {
      "cell_type": "code",
      "metadata": {
        "id": "Ntm9IlaLRiRr",
        "outputId": "efacf163-2bb9-458f-82f1-e7afe2e08c66",
        "colab": {
          "base_uri": "https://localhost:8080/",
          "height": 142
        }
      },
      "source": [
        "df=df.reset_index()\n",
        "df.head(3)"
      ],
      "execution_count": 891,
      "outputs": [
        {
          "output_type": "execute_result",
          "data": {
            "text/html": [
              "<div>\n",
              "<style scoped>\n",
              "    .dataframe tbody tr th:only-of-type {\n",
              "        vertical-align: middle;\n",
              "    }\n",
              "\n",
              "    .dataframe tbody tr th {\n",
              "        vertical-align: top;\n",
              "    }\n",
              "\n",
              "    .dataframe thead th {\n",
              "        text-align: right;\n",
              "    }\n",
              "</style>\n",
              "<table border=\"1\" class=\"dataframe\">\n",
              "  <thead>\n",
              "    <tr style=\"text-align: right;\">\n",
              "      <th></th>\n",
              "      <th>level_0</th>\n",
              "      <th>level_1</th>\n",
              "      <th>0</th>\n",
              "    </tr>\n",
              "  </thead>\n",
              "  <tbody>\n",
              "    <tr>\n",
              "      <th>0</th>\n",
              "      <td>0</td>\n",
              "      <td>0</td>\n",
              "      <td>[Áo len nam Biluxury 5ALRT001TRK</td>\n",
              "    </tr>\n",
              "    <tr>\n",
              "      <th>1</th>\n",
              "      <td>1</td>\n",
              "      <td>0</td>\n",
              "      <td>Áo len nam Biluxury 5ALRT001TTS</td>\n",
              "    </tr>\n",
              "    <tr>\n",
              "      <th>2</th>\n",
              "      <td>2</td>\n",
              "      <td>0</td>\n",
              "      <td>Áo len nam Biluxury 5ALRT001DEN</td>\n",
              "    </tr>\n",
              "  </tbody>\n",
              "</table>\n",
              "</div>"
            ],
            "text/plain": [
              "   level_0  level_1                                 0\n",
              "0        0        0  [Áo len nam Biluxury 5ALRT001TRK\n",
              "1        1        0   Áo len nam Biluxury 5ALRT001TTS\n",
              "2        2        0   Áo len nam Biluxury 5ALRT001DEN"
            ]
          },
          "metadata": {},
          "execution_count": 891
        }
      ]
    },
    {
      "cell_type": "code",
      "metadata": {
        "id": "IwOlfNhkR615"
      },
      "source": [
        "del df['level_0']\n",
        "del df['level_1']"
      ],
      "execution_count": 892,
      "outputs": []
    },
    {
      "cell_type": "markdown",
      "metadata": {
        "id": "3K8wi2mJVJz2"
      },
      "source": [
        "Đổi tên cột"
      ]
    },
    {
      "cell_type": "code",
      "metadata": {
        "id": "fo4WujrJSLWr"
      },
      "source": [
        "df=df.set_axis(['T-Shirt Name'],axis=1,inplace=False)"
      ],
      "execution_count": 893,
      "outputs": []
    },
    {
      "cell_type": "code",
      "metadata": {
        "id": "C9UNl_2XU-tm"
      },
      "source": [
        "df2=df2.set_axis(['Product Price'],axis=1,inplace=False)"
      ],
      "execution_count": 894,
      "outputs": []
    },
    {
      "cell_type": "code",
      "metadata": {
        "id": "Vur-zd5PVIqk"
      },
      "source": [
        "df3=df3.set_axis(['Product Sold'],axis=1,inplace=False)"
      ],
      "execution_count": 895,
      "outputs": []
    },
    {
      "cell_type": "code",
      "metadata": {
        "id": "8klW9oxiV9ed"
      },
      "source": [
        "frame=[df,df2,df3]\n",
        "df=pd.concat(frame)"
      ],
      "execution_count": 896,
      "outputs": []
    },
    {
      "cell_type": "code",
      "metadata": {
        "id": "5gX2EFH6ZtqU",
        "outputId": "e624c55d-9302-4ce5-e4b2-c1486d3d8e24",
        "colab": {
          "base_uri": "https://localhost:8080/",
          "height": 419
        }
      },
      "source": [
        "df"
      ],
      "execution_count": 897,
      "outputs": [
        {
          "output_type": "execute_result",
          "data": {
            "text/html": [
              "<div>\n",
              "<style scoped>\n",
              "    .dataframe tbody tr th:only-of-type {\n",
              "        vertical-align: middle;\n",
              "    }\n",
              "\n",
              "    .dataframe tbody tr th {\n",
              "        vertical-align: top;\n",
              "    }\n",
              "\n",
              "    .dataframe thead th {\n",
              "        text-align: right;\n",
              "    }\n",
              "</style>\n",
              "<table border=\"1\" class=\"dataframe\">\n",
              "  <thead>\n",
              "    <tr style=\"text-align: right;\">\n",
              "      <th></th>\n",
              "      <th>T-Shirt Name</th>\n",
              "      <th>Product Price</th>\n",
              "      <th>Product Sold</th>\n",
              "    </tr>\n",
              "  </thead>\n",
              "  <tbody>\n",
              "    <tr>\n",
              "      <th>0</th>\n",
              "      <td>[Áo len nam Biluxury 5ALRT001TRK</td>\n",
              "      <td>NaN</td>\n",
              "      <td>NaN</td>\n",
              "    </tr>\n",
              "    <tr>\n",
              "      <th>1</th>\n",
              "      <td>Áo len nam Biluxury 5ALRT001TTS</td>\n",
              "      <td>NaN</td>\n",
              "      <td>NaN</td>\n",
              "    </tr>\n",
              "    <tr>\n",
              "      <th>2</th>\n",
              "      <td>Áo len nam Biluxury 5ALRT001DEN</td>\n",
              "      <td>NaN</td>\n",
              "      <td>NaN</td>\n",
              "    </tr>\n",
              "    <tr>\n",
              "      <th>3</th>\n",
              "      <td>Áo khoác gió 5AG2T004GHS</td>\n",
              "      <td>NaN</td>\n",
              "      <td>NaN</td>\n",
              "    </tr>\n",
              "    <tr>\n",
              "      <th>4</th>\n",
              "      <td>Áo khoác gió 5AG2T004CAM</td>\n",
              "      <td>NaN</td>\n",
              "      <td>NaN</td>\n",
              "    </tr>\n",
              "    <tr>\n",
              "      <th>...</th>\n",
              "      <td>...</td>\n",
              "      <td>...</td>\n",
              "      <td>...</td>\n",
              "    </tr>\n",
              "    <tr>\n",
              "      <th>19</th>\n",
              "      <td>NaN</td>\n",
              "      <td>NaN</td>\n",
              "      <td>(136 đã bán)</td>\n",
              "    </tr>\n",
              "    <tr>\n",
              "      <th>20</th>\n",
              "      <td>NaN</td>\n",
              "      <td>NaN</td>\n",
              "      <td>(125 đã bán)</td>\n",
              "    </tr>\n",
              "    <tr>\n",
              "      <th>21</th>\n",
              "      <td>NaN</td>\n",
              "      <td>NaN</td>\n",
              "      <td>(124 đã bán)</td>\n",
              "    </tr>\n",
              "    <tr>\n",
              "      <th>22</th>\n",
              "      <td>NaN</td>\n",
              "      <td>NaN</td>\n",
              "      <td>(125 đã bán)</td>\n",
              "    </tr>\n",
              "    <tr>\n",
              "      <th>23</th>\n",
              "      <td>NaN</td>\n",
              "      <td>NaN</td>\n",
              "      <td>(122 đã bán)]</td>\n",
              "    </tr>\n",
              "  </tbody>\n",
              "</table>\n",
              "<p>81 rows × 3 columns</p>\n",
              "</div>"
            ],
            "text/plain": [
              "                        T-Shirt Name Product Price       Product Sold\n",
              "0   [Áo len nam Biluxury 5ALRT001TRK           NaN                NaN\n",
              "1    Áo len nam Biluxury 5ALRT001TTS           NaN                NaN\n",
              "2    Áo len nam Biluxury 5ALRT001DEN           NaN                NaN\n",
              "3           Áo khoác gió 5AG2T004GHS           NaN                NaN\n",
              "4           Áo khoác gió 5AG2T004CAM           NaN                NaN\n",
              "..                               ...           ...                ...\n",
              "19                               NaN           NaN       (136 đã bán)\n",
              "20                               NaN           NaN       (125 đã bán)\n",
              "21                               NaN           NaN       (124 đã bán)\n",
              "22                               NaN           NaN       (125 đã bán)\n",
              "23                               NaN           NaN      (122 đã bán)]\n",
              "\n",
              "[81 rows x 3 columns]"
            ]
          },
          "metadata": {},
          "execution_count": 897
        }
      ]
    }
  ]
}