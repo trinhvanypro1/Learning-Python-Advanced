{
  "nbformat": 4,
  "nbformat_minor": 0,
  "metadata": {
    "colab": {
      "name": "Scraping List of Countries.ipynb",
      "provenance": [],
      "authorship_tag": "ABX9TyPhDzoVWXHG1bGpMDerP2Ee",
      "include_colab_link": true
    },
    "kernelspec": {
      "name": "python3",
      "display_name": "Python 3"
    },
    "language_info": {
      "name": "python"
    }
  },
  "cells": [
    {
      "cell_type": "markdown",
      "metadata": {
        "id": "view-in-github",
        "colab_type": "text"
      },
      "source": [
        "<a href=\"https://colab.research.google.com/github/trinhvanypro1/Learning-Python-Advanced/blob/master/Scraping_List_of_Countries.ipynb\" target=\"_parent\"><img src=\"https://colab.research.google.com/assets/colab-badge.svg\" alt=\"Open In Colab\"/></a>"
      ]
    },
    {
      "cell_type": "code",
      "metadata": {
        "id": "AxKy4IRxN58E"
      },
      "source": [
        "import requests\n",
        "from bs4 import BeautifulSoup\n",
        "import pandas as pd"
      ],
      "execution_count": 1,
      "outputs": []
    },
    {
      "cell_type": "markdown",
      "metadata": {
        "id": "WhYx0AjFOlU9"
      },
      "source": [
        "**Section 1: Scraping List of Countries by Electricity Production**"
      ]
    },
    {
      "cell_type": "code",
      "metadata": {
        "id": "XAV2ceIJOws9"
      },
      "source": [
        "topic_url='https://en.wikipedia.org/wiki/List_of_countries_by_electricity_production'"
      ],
      "execution_count": 2,
      "outputs": []
    },
    {
      "cell_type": "code",
      "metadata": {
        "id": "ov_cNG-1O2Z7"
      },
      "source": [
        "res = requests.get(topic_url)"
      ],
      "execution_count": 3,
      "outputs": []
    },
    {
      "cell_type": "code",
      "metadata": {
        "colab": {
          "base_uri": "https://localhost:8080/"
        },
        "id": "xowfp8e7O8IN",
        "outputId": "2b4c60b6-7ab9-4bd4-de15-439a18ba0bbe"
      },
      "source": [
        "res.status_code"
      ],
      "execution_count": 4,
      "outputs": [
        {
          "output_type": "execute_result",
          "data": {
            "text/plain": [
              "200"
            ]
          },
          "metadata": {},
          "execution_count": 4
        }
      ]
    },
    {
      "cell_type": "code",
      "metadata": {
        "id": "46v5qLTUQPDo"
      },
      "source": [
        "page_contents=res.text"
      ],
      "execution_count": 5,
      "outputs": []
    },
    {
      "cell_type": "code",
      "metadata": {
        "id": "Vj8CJLGAQAYv"
      },
      "source": [
        "with open('List_of_countries_by_electricity_production.html','w') as f:\n",
        "  f.write(page_contents)"
      ],
      "execution_count": 7,
      "outputs": []
    },
    {
      "cell_type": "code",
      "metadata": {
        "id": "vESMzresQ4pj"
      },
      "source": [
        "doc=BeautifulSoup(page_contents,'html.parser')"
      ],
      "execution_count": 8,
      "outputs": []
    },
    {
      "cell_type": "code",
      "metadata": {
        "colab": {
          "base_uri": "https://localhost:8080/"
        },
        "id": "BUKV4DB4RBf7",
        "outputId": "97e548c3-6144-46b5-c1ce-7f071fd31269"
      },
      "source": [
        "doc.find('title')"
      ],
      "execution_count": 9,
      "outputs": [
        {
          "output_type": "execute_result",
          "data": {
            "text/plain": [
              "<title>List of countries by electricity production - Wikipedia</title>"
            ]
          },
          "metadata": {},
          "execution_count": 9
        }
      ]
    },
    {
      "cell_type": "code",
      "metadata": {
        "colab": {
          "base_uri": "https://localhost:8080/"
        },
        "id": "JMuPuRWYRF9j",
        "outputId": "e7bc9d05-7b17-4951-d7c2-5705cfebca08"
      },
      "source": [
        "doc.find('img')"
      ],
      "execution_count": 10,
      "outputs": [
        {
          "output_type": "execute_result",
          "data": {
            "text/plain": [
              "<img alt=\"Ambox current red.svg\" data-file-height=\"290\" data-file-width=\"360\" decoding=\"async\" height=\"34\" src=\"//upload.wikimedia.org/wikipedia/commons/thumb/9/98/Ambox_current_red.svg/42px-Ambox_current_red.svg.png\" srcset=\"//upload.wikimedia.org/wikipedia/commons/thumb/9/98/Ambox_current_red.svg/63px-Ambox_current_red.svg.png 1.5x, //upload.wikimedia.org/wikipedia/commons/thumb/9/98/Ambox_current_red.svg/84px-Ambox_current_red.svg.png 2x\" width=\"42\"/>"
            ]
          },
          "metadata": {},
          "execution_count": 10
        }
      ]
    },
    {
      "cell_type": "code",
      "metadata": {
        "id": "1iwMDMMzRNWb"
      },
      "source": [
        "table_tags= doc.find_all('table', class_='wikitable sortable static-row-numbers plainrowheaders srn-white-background jquery-tablesorter')"
      ],
      "execution_count": 12,
      "outputs": []
    },
    {
      "cell_type": "code",
      "metadata": {
        "colab": {
          "base_uri": "https://localhost:8080/"
        },
        "id": "zuo-jBlbSX6n",
        "outputId": "7bcd37e4-ed5e-4e0f-b6b3-3248bdd04555"
      },
      "source": [
        "len(table_tags)"
      ],
      "execution_count": 13,
      "outputs": [
        {
          "output_type": "execute_result",
          "data": {
            "text/plain": [
              "0"
            ]
          },
          "metadata": {},
          "execution_count": 13
        }
      ]
    },
    {
      "cell_type": "code",
      "metadata": {
        "colab": {
          "base_uri": "https://localhost:8080/",
          "height": 183
        },
        "id": "9AlolibySr36",
        "outputId": "df4ce59e-79ce-4df7-eb56-f80e14cc37ad"
      },
      "source": [
        "def get_tr_tags(topic_url):\n",
        "  #download webpage using 'requests'\n",
        "  res=requests.get(topic_url)\n",
        "  #checking status code\n",
        "  if res.status_code !=200:\n",
        "    raise Exception('Unable to fetch data from', topic_url)\n",
        "  # if status code is 200, get beautiful doc using beautifulsoup\n",
        "  doc=BeautifulSoup(res.text)"
      ],
      "execution_count": 15,
      "outputs": [
        {
          "output_type": "error",
          "ename": "IndexError",
          "evalue": "ignored",
          "traceback": [
            "\u001b[0;31m---------------------------------------------------------------------------\u001b[0m",
            "\u001b[0;31mIndexError\u001b[0m                                Traceback (most recent call last)",
            "\u001b[0;32m<ipython-input-15-ec54e4e54f38>\u001b[0m in \u001b[0;36m<module>\u001b[0;34m()\u001b[0m\n\u001b[1;32m      1\u001b[0m \u001b[0;31m#Access tr_tags from first table tag\u001b[0m\u001b[0;34m\u001b[0m\u001b[0;34m\u001b[0m\u001b[0;34m\u001b[0m\u001b[0m\n\u001b[0;32m----> 2\u001b[0;31m \u001b[0mtr_tags\u001b[0m\u001b[0;34m=\u001b[0m\u001b[0mtable_tags\u001b[0m\u001b[0;34m[\u001b[0m\u001b[0;36m0\u001b[0m\u001b[0;34m]\u001b[0m\u001b[0;34m.\u001b[0m\u001b[0mfind_all\u001b[0m\u001b[0;34m(\u001b[0m\u001b[0;34m'tr'\u001b[0m\u001b[0;34m)\u001b[0m\u001b[0;34m\u001b[0m\u001b[0;34m\u001b[0m\u001b[0m\n\u001b[0m",
            "\u001b[0;31mIndexError\u001b[0m: list index out of range"
          ]
        }
      ]
    }
  ]
}