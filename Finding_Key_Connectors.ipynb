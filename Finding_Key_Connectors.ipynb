{
  "nbformat": 4,
  "nbformat_minor": 0,
  "metadata": {
    "colab": {
      "name": "Finding Key Connectors.ipynb",
      "provenance": [],
      "authorship_tag": "ABX9TyP2MAbpp4CYZm5UwL1k/y02",
      "include_colab_link": true
    },
    "kernelspec": {
      "name": "python3",
      "display_name": "Python 3"
    },
    "language_info": {
      "name": "python"
    }
  },
  "cells": [
    {
      "cell_type": "markdown",
      "metadata": {
        "id": "view-in-github",
        "colab_type": "text"
      },
      "source": [
        "<a href=\"https://colab.research.google.com/github/trinhvanypro1/Learning-Python-Advanced/blob/master/Finding_Key_Connectors.ipynb\" target=\"_parent\"><img src=\"https://colab.research.google.com/assets/colab-badge.svg\" alt=\"Open In Colab\"/></a>"
      ]
    },
    {
      "cell_type": "code",
      "execution_count": 17,
      "metadata": {
        "id": "4QI1eJckP4XZ"
      },
      "outputs": [],
      "source": [
        "users= [{'id':0, 'name':'Hero'},\n",
        "        {'id':1, 'name':'Dunn'},\n",
        "        {'id':2, 'name':'Sue'},\n",
        "        {'id':3, 'name':'Chi'},\n",
        "        {'id':4, 'name':'Thor'},\n",
        "        {'id':5, 'name':'Clive'},\n",
        "        {'id':6, 'name':'Hicks'},\n",
        "        {'id':7, 'name':'Devin'},\n",
        "        {'id':8, 'name':'Kate'},\n",
        "        {'id':9, 'name':'Klein'}\n",
        "]"
      ]
    },
    {
      "cell_type": "code",
      "source": [
        "friendship_pairs = [(0,1), (0,2), (1,2), (1,3), (2,3), (3,4),\n",
        "                    (4,5), (5,6), (5,7), (6,8), (7,8), (8,9)]"
      ],
      "metadata": {
        "id": "vGrvwy4oQAd4"
      },
      "execution_count": 18,
      "outputs": []
    },
    {
      "cell_type": "code",
      "source": [
        "# Initialize the dict with an empty list for each user id:\n",
        "friendships = {user['id']:[] for user in users}"
      ],
      "metadata": {
        "id": "bC5O79q_QEyS"
      },
      "execution_count": 19,
      "outputs": []
    },
    {
      "cell_type": "code",
      "source": [
        "friendships"
      ],
      "metadata": {
        "colab": {
          "base_uri": "https://localhost:8080/"
        },
        "id": "XCNwF0R1VA-y",
        "outputId": "75593ee4-fd59-45e1-9bdf-b64603dc8b57"
      },
      "execution_count": 22,
      "outputs": [
        {
          "output_type": "execute_result",
          "data": {
            "text/plain": [
              "{0: [1, 2],\n",
              " 1: [0, 2, 3],\n",
              " 2: [0, 1, 3],\n",
              " 3: [1, 2, 4],\n",
              " 4: [3, 5],\n",
              " 5: [4, 6, 7],\n",
              " 6: [5, 8],\n",
              " 7: [5, 8],\n",
              " 8: [6, 7, 9],\n",
              " 9: [8]}"
            ]
          },
          "metadata": {},
          "execution_count": 22
        }
      ]
    },
    {
      "cell_type": "code",
      "source": [
        "# And loop over the friendship pairs to populate it:\n",
        "for i,j in friendship_pairs:\n",
        "  friendships[i].append(j) #Add j as a friend of user i\n",
        "  friendships[j].append(i) #Add i as a friend of user j"
      ],
      "metadata": {
        "id": "a9554HoJSzRs"
      },
      "execution_count": 21,
      "outputs": []
    }
  ]
}