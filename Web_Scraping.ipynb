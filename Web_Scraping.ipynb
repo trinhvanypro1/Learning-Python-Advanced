{
  "nbformat": 4,
  "nbformat_minor": 0,
  "metadata": {
    "colab": {
      "name": "Web Scraping.ipynb",
      "provenance": [],
      "authorship_tag": "ABX9TyP8xcTqe+b8DAD1QRX3Q46z",
      "include_colab_link": true
    },
    "kernelspec": {
      "name": "python3",
      "display_name": "Python 3"
    },
    "language_info": {
      "name": "python"
    }
  },
  "cells": [
    {
      "cell_type": "markdown",
      "metadata": {
        "id": "view-in-github",
        "colab_type": "text"
      },
      "source": [
        "<a href=\"https://colab.research.google.com/github/trinhvanypro1/Learning-Python-Advanced/blob/master/Web_Scraping.ipynb\" target=\"_parent\"><img src=\"https://colab.research.google.com/assets/colab-badge.svg\" alt=\"Open In Colab\"/></a>"
      ]
    },
    {
      "cell_type": "code",
      "metadata": {
        "id": "XiaYRMEf4Psl"
      },
      "source": [
        "import pandas as pd\n",
        "import numpy as np\n",
        "import matplotlib.pyplot as plt\n",
        "import seaborn as sns\n",
        "%matplotlib inline\n",
        "from urllib.request import urlopen\n",
        "from bs4 import BeautifulSoup"
      ],
      "execution_count": 2,
      "outputs": []
    },
    {
      "cell_type": "code",
      "metadata": {
        "colab": {
          "base_uri": "https://localhost:8080/"
        },
        "id": "r2cdoXYm49G0",
        "outputId": "3910d395-fbea-4f7b-9529-b37e772d7293"
      },
      "source": [
        "url = 'http://www.hubertiming.com/results/2017GPTR10K'\n",
        "html = urlopen(url)\n",
        "soup = BeautifulSoup(html,'lxml')\n",
        "type(soup)"
      ],
      "execution_count": 4,
      "outputs": [
        {
          "output_type": "execute_result",
          "data": {
            "text/plain": [
              "bs4.BeautifulSoup"
            ]
          },
          "metadata": {},
          "execution_count": 4
        }
      ]
    },
    {
      "cell_type": "code",
      "metadata": {
        "colab": {
          "base_uri": "https://localhost:8080/"
        },
        "id": "Bxvk8hWO5YZH",
        "outputId": "be07484a-dad6-4008-af1d-febf7bda26f5"
      },
      "source": [
        "# Get the title\n",
        "title = soup.title\n",
        "print(title)"
      ],
      "execution_count": 5,
      "outputs": [
        {
          "output_type": "stream",
          "name": "stdout",
          "text": [
            "<title>Race results for the 2017 Intel Great Place to Run \\ Urban Clash Games!</title>\n"
          ]
        }
      ]
    },
    {
      "cell_type": "code",
      "metadata": {
        "colab": {
          "base_uri": "https://localhost:8080/"
        },
        "id": "gxIBert38zEF",
        "outputId": "28ab5ab9-c8d8-499d-be66-6b23606ff10a"
      },
      "source": [
        "soup.find_all('a')"
      ],
      "execution_count": 6,
      "outputs": [
        {
          "output_type": "execute_result",
          "data": {
            "text/plain": [
              "[<a href=\"mailto:timing@hubertiming.com\">timing@hubertiming.com</a>,\n",
              " <a href=\"https://www.hubertiming.com/\">Huber Timing Home</a>,\n",
              " <a class=\"btn btn-primary btn-lg\" href=\"/results/2017GPTR#individual\" role=\"button\" style=\"margin: 0px 0px 5px 5px\"><i aria-hidden=\"true\" class=\"fa fa-user\"></i> 5K Individual</a>,\n",
              " <a class=\"btn btn-primary btn-lg\" href=\"/results/team/2017GPTR\" role=\"button\" style=\"margin: 0px 0px 5px 5px\"><i aria-hidden=\"true\" class=\"fa fa-users\"></i> 5K Team</a>,\n",
              " <a class=\"btn btn-primary btn-lg\" href=\"/results/team/2017GPTR10K\" role=\"button\" style=\"margin: 0px 0px 5px 5px\"><i aria-hidden=\"true\" class=\"fa fa-users\"></i> 10K Team</a>,\n",
              " <a class=\"btn btn-primary btn-lg\" href=\"/results/summary/2017GPTR10K\" role=\"button\" style=\"margin: 0px 0px 5px 5px\"><i class=\"fa fa-stream\"></i> Summary</a>,\n",
              " <a id=\"individual\" name=\"individual\"></a>,\n",
              " <a data-url=\"/results/2017GPTR10K\" href=\"#tabs-1\" id=\"rootTab\" style=\"font-size: 18px\">10K Results</a>,\n",
              " <a href=\"https://www.hubertiming.com/\"><img height=\"65\" src=\"https://www.hubertiming.com//sites/all/themes/hubertiming/images/clockWithFinishSign_small.png\" width=\"50\"/>Huber Timing</a>,\n",
              " <a href=\"https://facebook.com/hubertiming/\"><img src=\"https://www.hubertiming.com/results/FB-f-Logo__blue_50.png\"/></a>,\n",
              " <a class=\"small\" id=\"bestFeatureEver\" style=\"color:#007bff\">Dark Mode</a>]"
            ]
          },
          "metadata": {},
          "execution_count": 6
        }
      ]
    },
    {
      "cell_type": "code",
      "metadata": {
        "colab": {
          "base_uri": "https://localhost:8080/"
        },
        "id": "6Jzaqggj8_LC",
        "outputId": "8924f57f-907e-46a9-b653-490c1df04750"
      },
      "source": [
        "all_link= soup.find_all('a')\n",
        "for i in all_link:\n",
        "  print(i.get('href'))"
      ],
      "execution_count": 7,
      "outputs": [
        {
          "output_type": "stream",
          "name": "stdout",
          "text": [
            "mailto:timing@hubertiming.com\n",
            "https://www.hubertiming.com/\n",
            "/results/2017GPTR#individual\n",
            "/results/team/2017GPTR\n",
            "/results/team/2017GPTR10K\n",
            "/results/summary/2017GPTR10K\n",
            "None\n",
            "#tabs-1\n",
            "https://www.hubertiming.com/\n",
            "https://facebook.com/hubertiming/\n",
            "None\n"
          ]
        }
      ]
    },
    {
      "cell_type": "code",
      "metadata": {
        "id": "gNW3LlJL9TTI"
      },
      "source": [
        "rows = soup.find_all('tr')\n",
        "print(rows[:10])"
      ],
      "execution_count": null,
      "outputs": []
    },
    {
      "cell_type": "code",
      "metadata": {
        "colab": {
          "base_uri": "https://localhost:8080/"
        },
        "id": "wUyCmGrg9g2D",
        "outputId": "985a5806-ece1-4740-8b37-697645e0f8ed"
      },
      "source": [
        "for i in rows:\n",
        "  row_td = i.find_all('td')\n",
        "print(row_td)"
      ],
      "execution_count": 10,
      "outputs": [
        {
          "output_type": "stream",
          "name": "stdout",
          "text": [
            "[<td>577</td>, <td>443</td>, <td>\r\n",
            "\r\n",
            "                    LIBBY B MITCHELL\r\n",
            "\r\n",
            "                </td>, <td>F</td>, <td>HILLSBORO</td>, <td>OR</td>, <td>1:42:10</td>, <td></td>, <td>1:41:18</td>]\n"
          ]
        }
      ]
    },
    {
      "cell_type": "code",
      "metadata": {
        "colab": {
          "base_uri": "https://localhost:8080/"
        },
        "id": "KkrTbBQA929E",
        "outputId": "7e7c3cf6-b8bd-44f5-df90-590c9bd70cb1"
      },
      "source": [
        "str_cells = str(row_td)\n",
        "cleantext = BeautifulSoup(str_cells,'lxml').get_text()\n",
        "print(cleantext)"
      ],
      "execution_count": 11,
      "outputs": [
        {
          "output_type": "stream",
          "name": "stdout",
          "text": [
            "[577, 443, \r\n",
            "\r\n",
            "                    LIBBY B MITCHELL\r\n",
            "\r\n",
            "                , F, HILLSBORO, OR, 1:42:10, , 1:41:18]\n"
          ]
        }
      ]
    }
  ]
}